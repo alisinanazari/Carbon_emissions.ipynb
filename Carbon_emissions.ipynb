{
  "cells": [
    {
      "cell_type": "code",
      "execution_count": 65,
      "metadata": {
        "id": "zx7he30gDit7"
      },
      "outputs": [],
      "source": [
        "import pandas as pd\n",
        "import numpy as np\n",
        "import plotly.express as px\n",
        "import plotly.graph_objects as go\n",
        "import matplotlib.pyplot as plt\n",
        "import seaborn as sns"
      ]
    },
    {
      "cell_type": "code",
      "execution_count": 66,
      "metadata": {
        "id": "1rOSW9eqE3rJ"
      },
      "outputs": [],
      "source": [
        "carbon=pd.read_csv('carbon_emmission.csv')\n",
        "tem=pd.read_csv('temperature.csv')"
      ]
    },
    {
      "cell_type": "code",
      "execution_count": 67,
      "metadata": {
        "colab": {
          "base_uri": "https://localhost:8080/"
        },
        "id": "OwSLB-7UZtdd",
        "outputId": "c5d9573c-0ba7-4ff7-dd17-2034cbb3ecc2"
      },
      "outputs": [
        {
          "name": "stdout",
          "output_type": "stream",
          "text": [
            "<class 'pandas.core.frame.DataFrame'>\n",
            "RangeIndex: 1570 entries, 0 to 1569\n",
            "Data columns (total 4 columns):\n",
            " #   Column    Non-Null Count  Dtype  \n",
            "---  ------    --------------  -----  \n",
            " 0   ObjectId  1570 non-null   int64  \n",
            " 1   Country   1570 non-null   object \n",
            " 2   Date      1570 non-null   object \n",
            " 3   Value     1570 non-null   float64\n",
            "dtypes: float64(1), int64(1), object(2)\n",
            "memory usage: 49.2+ KB\n"
          ]
        }
      ],
      "source": [
        "carbon.info()"
      ]
    },
    {
      "cell_type": "code",
      "execution_count": 68,
      "metadata": {
        "colab": {
          "base_uri": "https://localhost:8080/",
          "height": 206
        },
        "id": "LOPunHV5Zzmc",
        "outputId": "ba2c0802-c20e-4c33-e17e-0276af7c6a03"
      },
      "outputs": [
        {
          "data": {
            "text/html": [
              "<div>\n",
              "<style scoped>\n",
              "    .dataframe tbody tr th:only-of-type {\n",
              "        vertical-align: middle;\n",
              "    }\n",
              "\n",
              "    .dataframe tbody tr th {\n",
              "        vertical-align: top;\n",
              "    }\n",
              "\n",
              "    .dataframe thead th {\n",
              "        text-align: right;\n",
              "    }\n",
              "</style>\n",
              "<table border=\"1\" class=\"dataframe\">\n",
              "  <thead>\n",
              "    <tr style=\"text-align: right;\">\n",
              "      <th></th>\n",
              "      <th>ObjectId</th>\n",
              "      <th>Country</th>\n",
              "      <th>Date</th>\n",
              "      <th>Value</th>\n",
              "    </tr>\n",
              "  </thead>\n",
              "  <tbody>\n",
              "    <tr>\n",
              "      <th>0</th>\n",
              "      <td>1</td>\n",
              "      <td>World</td>\n",
              "      <td>1958M03</td>\n",
              "      <td>315.70</td>\n",
              "    </tr>\n",
              "    <tr>\n",
              "      <th>1</th>\n",
              "      <td>2</td>\n",
              "      <td>World</td>\n",
              "      <td>1958M04</td>\n",
              "      <td>317.45</td>\n",
              "    </tr>\n",
              "    <tr>\n",
              "      <th>2</th>\n",
              "      <td>3</td>\n",
              "      <td>World</td>\n",
              "      <td>1958M05</td>\n",
              "      <td>317.51</td>\n",
              "    </tr>\n",
              "    <tr>\n",
              "      <th>3</th>\n",
              "      <td>4</td>\n",
              "      <td>World</td>\n",
              "      <td>1958M06</td>\n",
              "      <td>317.24</td>\n",
              "    </tr>\n",
              "    <tr>\n",
              "      <th>4</th>\n",
              "      <td>5</td>\n",
              "      <td>World</td>\n",
              "      <td>1958M07</td>\n",
              "      <td>315.86</td>\n",
              "    </tr>\n",
              "  </tbody>\n",
              "</table>\n",
              "</div>"
            ],
            "text/plain": [
              "   ObjectId Country     Date   Value\n",
              "0         1   World  1958M03  315.70\n",
              "1         2   World  1958M04  317.45\n",
              "2         3   World  1958M05  317.51\n",
              "3         4   World  1958M06  317.24\n",
              "4         5   World  1958M07  315.86"
            ]
          },
          "execution_count": 68,
          "metadata": {},
          "output_type": "execute_result"
        }
      ],
      "source": [
        "carbon.head()"
      ]
    },
    {
      "cell_type": "code",
      "execution_count": 69,
      "metadata": {
        "colab": {
          "base_uri": "https://localhost:8080/",
          "height": 342
        },
        "id": "s6GwgCwhZ3Cu",
        "outputId": "e62f26a5-f560-4d67-e18a-463b97420ac2"
      },
      "outputs": [
        {
          "data": {
            "text/html": [
              "<div>\n",
              "<style scoped>\n",
              "    .dataframe tbody tr th:only-of-type {\n",
              "        vertical-align: middle;\n",
              "    }\n",
              "\n",
              "    .dataframe tbody tr th {\n",
              "        vertical-align: top;\n",
              "    }\n",
              "\n",
              "    .dataframe thead th {\n",
              "        text-align: right;\n",
              "    }\n",
              "</style>\n",
              "<table border=\"1\" class=\"dataframe\">\n",
              "  <thead>\n",
              "    <tr style=\"text-align: right;\">\n",
              "      <th></th>\n",
              "      <th>ObjectId</th>\n",
              "      <th>Country</th>\n",
              "      <th>ISO2</th>\n",
              "      <th>ISO3</th>\n",
              "      <th>F1961</th>\n",
              "      <th>F1962</th>\n",
              "      <th>F1963</th>\n",
              "      <th>F1964</th>\n",
              "      <th>F1965</th>\n",
              "      <th>F1966</th>\n",
              "      <th>...</th>\n",
              "      <th>F2013</th>\n",
              "      <th>F2014</th>\n",
              "      <th>F2015</th>\n",
              "      <th>F2016</th>\n",
              "      <th>F2017</th>\n",
              "      <th>F2018</th>\n",
              "      <th>F2019</th>\n",
              "      <th>F2020</th>\n",
              "      <th>F2021</th>\n",
              "      <th>F2022</th>\n",
              "    </tr>\n",
              "  </thead>\n",
              "  <tbody>\n",
              "    <tr>\n",
              "      <th>0</th>\n",
              "      <td>1</td>\n",
              "      <td>Afghanistan, Islamic Rep. of</td>\n",
              "      <td>AF</td>\n",
              "      <td>AFG</td>\n",
              "      <td>-0.113</td>\n",
              "      <td>-0.164</td>\n",
              "      <td>0.847</td>\n",
              "      <td>-0.764</td>\n",
              "      <td>-0.244</td>\n",
              "      <td>0.226</td>\n",
              "      <td>...</td>\n",
              "      <td>1.281</td>\n",
              "      <td>0.456</td>\n",
              "      <td>1.093</td>\n",
              "      <td>1.555</td>\n",
              "      <td>1.540</td>\n",
              "      <td>1.544</td>\n",
              "      <td>0.910</td>\n",
              "      <td>0.498</td>\n",
              "      <td>1.327</td>\n",
              "      <td>2.012</td>\n",
              "    </tr>\n",
              "    <tr>\n",
              "      <th>1</th>\n",
              "      <td>2</td>\n",
              "      <td>Albania</td>\n",
              "      <td>AL</td>\n",
              "      <td>ALB</td>\n",
              "      <td>0.627</td>\n",
              "      <td>0.326</td>\n",
              "      <td>0.075</td>\n",
              "      <td>-0.166</td>\n",
              "      <td>-0.388</td>\n",
              "      <td>0.559</td>\n",
              "      <td>...</td>\n",
              "      <td>1.333</td>\n",
              "      <td>1.198</td>\n",
              "      <td>1.569</td>\n",
              "      <td>1.464</td>\n",
              "      <td>1.121</td>\n",
              "      <td>2.028</td>\n",
              "      <td>1.675</td>\n",
              "      <td>1.498</td>\n",
              "      <td>1.536</td>\n",
              "      <td>1.518</td>\n",
              "    </tr>\n",
              "    <tr>\n",
              "      <th>2</th>\n",
              "      <td>3</td>\n",
              "      <td>Algeria</td>\n",
              "      <td>DZ</td>\n",
              "      <td>DZA</td>\n",
              "      <td>0.164</td>\n",
              "      <td>0.114</td>\n",
              "      <td>0.077</td>\n",
              "      <td>0.250</td>\n",
              "      <td>-0.100</td>\n",
              "      <td>0.433</td>\n",
              "      <td>...</td>\n",
              "      <td>1.192</td>\n",
              "      <td>1.690</td>\n",
              "      <td>1.121</td>\n",
              "      <td>1.757</td>\n",
              "      <td>1.512</td>\n",
              "      <td>1.210</td>\n",
              "      <td>1.115</td>\n",
              "      <td>1.926</td>\n",
              "      <td>2.330</td>\n",
              "      <td>1.688</td>\n",
              "    </tr>\n",
              "    <tr>\n",
              "      <th>3</th>\n",
              "      <td>4</td>\n",
              "      <td>American Samoa</td>\n",
              "      <td>AS</td>\n",
              "      <td>ASM</td>\n",
              "      <td>0.079</td>\n",
              "      <td>-0.042</td>\n",
              "      <td>0.169</td>\n",
              "      <td>-0.140</td>\n",
              "      <td>-0.562</td>\n",
              "      <td>0.181</td>\n",
              "      <td>...</td>\n",
              "      <td>1.257</td>\n",
              "      <td>1.170</td>\n",
              "      <td>1.009</td>\n",
              "      <td>1.539</td>\n",
              "      <td>1.435</td>\n",
              "      <td>1.189</td>\n",
              "      <td>1.539</td>\n",
              "      <td>1.430</td>\n",
              "      <td>1.268</td>\n",
              "      <td>1.256</td>\n",
              "    </tr>\n",
              "    <tr>\n",
              "      <th>4</th>\n",
              "      <td>5</td>\n",
              "      <td>Andorra, Principality of</td>\n",
              "      <td>AD</td>\n",
              "      <td>AND</td>\n",
              "      <td>0.736</td>\n",
              "      <td>0.112</td>\n",
              "      <td>-0.752</td>\n",
              "      <td>0.308</td>\n",
              "      <td>-0.490</td>\n",
              "      <td>0.415</td>\n",
              "      <td>...</td>\n",
              "      <td>0.831</td>\n",
              "      <td>1.946</td>\n",
              "      <td>1.690</td>\n",
              "      <td>1.990</td>\n",
              "      <td>1.925</td>\n",
              "      <td>1.919</td>\n",
              "      <td>1.964</td>\n",
              "      <td>2.562</td>\n",
              "      <td>1.533</td>\n",
              "      <td>3.243</td>\n",
              "    </tr>\n",
              "  </tbody>\n",
              "</table>\n",
              "<p>5 rows × 66 columns</p>\n",
              "</div>"
            ],
            "text/plain": [
              "   ObjectId                       Country ISO2 ISO3  F1961  F1962  F1963  \\\n",
              "0         1  Afghanistan, Islamic Rep. of   AF  AFG -0.113 -0.164  0.847   \n",
              "1         2                       Albania   AL  ALB  0.627  0.326  0.075   \n",
              "2         3                       Algeria   DZ  DZA  0.164  0.114  0.077   \n",
              "3         4                American Samoa   AS  ASM  0.079 -0.042  0.169   \n",
              "4         5      Andorra, Principality of   AD  AND  0.736  0.112 -0.752   \n",
              "\n",
              "   F1964  F1965  F1966  ...  F2013  F2014  F2015  F2016  F2017  F2018  F2019  \\\n",
              "0 -0.764 -0.244  0.226  ...  1.281  0.456  1.093  1.555  1.540  1.544  0.910   \n",
              "1 -0.166 -0.388  0.559  ...  1.333  1.198  1.569  1.464  1.121  2.028  1.675   \n",
              "2  0.250 -0.100  0.433  ...  1.192  1.690  1.121  1.757  1.512  1.210  1.115   \n",
              "3 -0.140 -0.562  0.181  ...  1.257  1.170  1.009  1.539  1.435  1.189  1.539   \n",
              "4  0.308 -0.490  0.415  ...  0.831  1.946  1.690  1.990  1.925  1.919  1.964   \n",
              "\n",
              "   F2020  F2021  F2022  \n",
              "0  0.498  1.327  2.012  \n",
              "1  1.498  1.536  1.518  \n",
              "2  1.926  2.330  1.688  \n",
              "3  1.430  1.268  1.256  \n",
              "4  2.562  1.533  3.243  \n",
              "\n",
              "[5 rows x 66 columns]"
            ]
          },
          "execution_count": 69,
          "metadata": {},
          "output_type": "execute_result"
        }
      ],
      "source": [
        "tem.head()"
      ]
    },
    {
      "cell_type": "code",
      "execution_count": 70,
      "metadata": {
        "id": "OdwVFHTbFjAN"
      },
      "outputs": [],
      "source": [
        "carbon.drop(columns=['ObjectId','Country'],inplace=True)\n",
        "tem.drop(columns='ObjectId',inplace=True)"
      ]
    },
    {
      "cell_type": "code",
      "execution_count": 71,
      "metadata": {
        "colab": {
          "base_uri": "https://localhost:8080/"
        },
        "id": "kQiessUeJLuh",
        "outputId": "2235eba8-955c-4a86-b7d0-569306a52aae"
      },
      "outputs": [
        {
          "name": "stderr",
          "output_type": "stream",
          "text": [
            "C:\\Users\\Alisina Nazari\\AppData\\Local\\Temp\\ipykernel_10992\\2745015425.py:2: UserWarning:\n",
            "\n",
            "Could not infer format, so each element will be parsed individually, falling back to `dateutil`. To ensure parsing is consistent and as-expected, please specify a format.\n",
            "\n"
          ]
        }
      ],
      "source": [
        "carbon['Date']=carbon['Date'].str.replace('M','/')\n",
        "carbon['Date']=pd.to_datetime(carbon['Date'])"
      ]
    },
    {
      "cell_type": "markdown",
      "metadata": {
        "id": "YNmhO4e_NEzL"
      },
      "source": [
        "**Calculateing key statistics for temperature changes and CO₂ concentrations, such as mean, median, and variance**"
      ]
    },
    {
      "cell_type": "code",
      "execution_count": 72,
      "metadata": {
        "id": "_4akAfclNBuJ"
      },
      "outputs": [],
      "source": [
        "co2=carbon.groupby(carbon['Date'].dt.year)['Value'].agg(['mean','median','var']).reset_index()"
      ]
    },
    {
      "cell_type": "code",
      "execution_count": 73,
      "metadata": {
        "colab": {
          "base_uri": "https://localhost:8080/",
          "height": 542
        },
        "id": "_eycm1PZhWZh",
        "outputId": "5169ce17-9051-4708-a01a-7ac89e4c2762"
      },
      "outputs": [
        {
          "data": {
            "application/vnd.plotly.v1+json": {
              "config": {
                "plotlyServerURL": "https://plot.ly"
              },
              "data": [
                {
                  "name": "Average",
                  "type": "scatter",
                  "x": [
                    1958,
                    1959,
                    1960,
                    1961,
                    1962,
                    1963,
                    1964,
                    1965,
                    1966,
                    1967,
                    1968,
                    1969,
                    1970,
                    1971,
                    1972,
                    1973,
                    1974,
                    1975,
                    1976,
                    1977,
                    1978,
                    1979,
                    1980,
                    1981,
                    1982,
                    1983,
                    1984,
                    1985,
                    1986,
                    1987,
                    1988,
                    1989,
                    1990,
                    1991,
                    1992,
                    1993,
                    1994,
                    1995,
                    1996,
                    1997,
                    1998,
                    1999,
                    2000,
                    2001,
                    2002,
                    2003,
                    2004,
                    2005,
                    2006,
                    2007,
                    2008,
                    2009,
                    2010,
                    2011,
                    2012,
                    2013,
                    2014,
                    2015,
                    2016,
                    2017,
                    2018,
                    2019,
                    2020,
                    2021,
                    2022,
                    2023,
                    2024
                  ],
                  "y": [
                    315.232,
                    172.46045454545455,
                    158.60166666666666,
                    158.93833333333333,
                    159.355,
                    159.58041666666668,
                    159.90583333333333,
                    160.08333333333334,
                    160.89208333333332,
                    161.21666666666667,
                    161.65958333333333,
                    162.555,
                    163.00375,
                    163.25666666666666,
                    163.90291666666667,
                    165.17791666666668,
                    165.17375,
                    165.70708333333332,
                    166.14875,
                    167.19666666666666,
                    167.9425,
                    168.62958333333333,
                    169.66708333333332,
                    170.26041666666666,
                    170.93916666666667,
                    171.8216666666667,
                    172.6833333333333,
                    173.39125,
                    173.98625,
                    174.90125,
                    176.18541666666667,
                    176.8175,
                    177.40333333333334,
                    178.02833333333334,
                    178.39166666666665,
                    178.70125,
                    179.72375,
                    180.76458333333335,
                    181.61791666666667,
                    182.095,
                    183.8275,
                    184.50166666666667,
                    185.01250000000002,
                    185.87708333333333,
                    187.01375,
                    188.33166666666668,
                    189.07625,
                    190.29458333333332,
                    191.32291666666666,
                    192.26541666666665,
                    193.15166666666667,
                    194.05499999999998,
                    195.36833333333334,
                    196.15,
                    197.30958333333334,
                    198.70875,
                    199.66750000000002,
                    200.78208333333336,
                    202.63083333333336,
                    203.66916666666668,
                    204.59875,
                    206.1833333333333,
                    207.41666666666666,
                    208.47208333333333,
                    209.51833333333335,
                    210.84416666666667,
                    0.68
                  ],
                  "yaxis": "y"
                },
                {
                  "name": "median",
                  "type": "scatter",
                  "x": [
                    1958,
                    1959,
                    1960,
                    1961,
                    1962,
                    1963,
                    1964,
                    1965,
                    1966,
                    1967,
                    1968,
                    1969,
                    1970,
                    1971,
                    1972,
                    1973,
                    1974,
                    1975,
                    1976,
                    1977,
                    1978,
                    1979,
                    1980,
                    1981,
                    1982,
                    1983,
                    1984,
                    1985,
                    1986,
                    1987,
                    1988,
                    1989,
                    1990,
                    1991,
                    1992,
                    1993,
                    1994,
                    1995,
                    1996,
                    1997,
                    1998,
                    1999,
                    2000,
                    2001,
                    2002,
                    2003,
                    2004,
                    2005,
                    2006,
                    2007,
                    2008,
                    2009,
                    2010,
                    2011,
                    2012,
                    2013,
                    2014,
                    2015,
                    2016,
                    2017,
                    2018,
                    2019,
                    2020,
                    2021,
                    2022,
                    2023,
                    2024
                  ],
                  "y": [
                    315.315,
                    313.585,
                    157.19,
                    157.73000000000002,
                    157.91,
                    158.185,
                    158.495,
                    158.835,
                    159.345,
                    159.89,
                    160.375,
                    161.20999999999998,
                    161.77,
                    161.85,
                    162.71499999999997,
                    164.05,
                    163.82,
                    164.39000000000001,
                    164.60500000000002,
                    166.02999999999997,
                    166.52,
                    167.27,
                    168.41,
                    168.79999999999998,
                    169.45,
                    170.58499999999998,
                    171.17999999999998,
                    172,
                    172.70499999999998,
                    173.625,
                    174.88500000000002,
                    175.41,
                    175.925,
                    176.505,
                    176.70499999999998,
                    177.26,
                    178.23000000000002,
                    179.415,
                    180.17,
                    180.515,
                    182.595,
                    182.91,
                    183.875,
                    184.475,
                    185.715,
                    187.035,
                    187.56,
                    188.88,
                    189.91,
                    190.91,
                    191.95499999999998,
                    192.67499999999998,
                    193.89,
                    194.93,
                    196.01,
                    197.25,
                    198.13000000000002,
                    199.285,
                    201.145,
                    202.23499999999999,
                    203.215,
                    204.79,
                    206.09,
                    206.98,
                    208.20000000000002,
                    209.63,
                    0.68
                  ],
                  "yaxis": "y2"
                }
              ],
              "layout": {
                "legend": {
                  "x": 0.85,
                  "y": 1.2
                },
                "template": {
                  "data": {
                    "bar": [
                      {
                        "error_x": {
                          "color": "#2a3f5f"
                        },
                        "error_y": {
                          "color": "#2a3f5f"
                        },
                        "marker": {
                          "line": {
                            "color": "#E5ECF6",
                            "width": 0.5
                          },
                          "pattern": {
                            "fillmode": "overlay",
                            "size": 10,
                            "solidity": 0.2
                          }
                        },
                        "type": "bar"
                      }
                    ],
                    "barpolar": [
                      {
                        "marker": {
                          "line": {
                            "color": "#E5ECF6",
                            "width": 0.5
                          },
                          "pattern": {
                            "fillmode": "overlay",
                            "size": 10,
                            "solidity": 0.2
                          }
                        },
                        "type": "barpolar"
                      }
                    ],
                    "carpet": [
                      {
                        "aaxis": {
                          "endlinecolor": "#2a3f5f",
                          "gridcolor": "white",
                          "linecolor": "white",
                          "minorgridcolor": "white",
                          "startlinecolor": "#2a3f5f"
                        },
                        "baxis": {
                          "endlinecolor": "#2a3f5f",
                          "gridcolor": "white",
                          "linecolor": "white",
                          "minorgridcolor": "white",
                          "startlinecolor": "#2a3f5f"
                        },
                        "type": "carpet"
                      }
                    ],
                    "choropleth": [
                      {
                        "colorbar": {
                          "outlinewidth": 0,
                          "ticks": ""
                        },
                        "type": "choropleth"
                      }
                    ],
                    "contour": [
                      {
                        "colorbar": {
                          "outlinewidth": 0,
                          "ticks": ""
                        },
                        "colorscale": [
                          [
                            0,
                            "#0d0887"
                          ],
                          [
                            0.1111111111111111,
                            "#46039f"
                          ],
                          [
                            0.2222222222222222,
                            "#7201a8"
                          ],
                          [
                            0.3333333333333333,
                            "#9c179e"
                          ],
                          [
                            0.4444444444444444,
                            "#bd3786"
                          ],
                          [
                            0.5555555555555556,
                            "#d8576b"
                          ],
                          [
                            0.6666666666666666,
                            "#ed7953"
                          ],
                          [
                            0.7777777777777778,
                            "#fb9f3a"
                          ],
                          [
                            0.8888888888888888,
                            "#fdca26"
                          ],
                          [
                            1,
                            "#f0f921"
                          ]
                        ],
                        "type": "contour"
                      }
                    ],
                    "contourcarpet": [
                      {
                        "colorbar": {
                          "outlinewidth": 0,
                          "ticks": ""
                        },
                        "type": "contourcarpet"
                      }
                    ],
                    "heatmap": [
                      {
                        "colorbar": {
                          "outlinewidth": 0,
                          "ticks": ""
                        },
                        "colorscale": [
                          [
                            0,
                            "#0d0887"
                          ],
                          [
                            0.1111111111111111,
                            "#46039f"
                          ],
                          [
                            0.2222222222222222,
                            "#7201a8"
                          ],
                          [
                            0.3333333333333333,
                            "#9c179e"
                          ],
                          [
                            0.4444444444444444,
                            "#bd3786"
                          ],
                          [
                            0.5555555555555556,
                            "#d8576b"
                          ],
                          [
                            0.6666666666666666,
                            "#ed7953"
                          ],
                          [
                            0.7777777777777778,
                            "#fb9f3a"
                          ],
                          [
                            0.8888888888888888,
                            "#fdca26"
                          ],
                          [
                            1,
                            "#f0f921"
                          ]
                        ],
                        "type": "heatmap"
                      }
                    ],
                    "heatmapgl": [
                      {
                        "colorbar": {
                          "outlinewidth": 0,
                          "ticks": ""
                        },
                        "colorscale": [
                          [
                            0,
                            "#0d0887"
                          ],
                          [
                            0.1111111111111111,
                            "#46039f"
                          ],
                          [
                            0.2222222222222222,
                            "#7201a8"
                          ],
                          [
                            0.3333333333333333,
                            "#9c179e"
                          ],
                          [
                            0.4444444444444444,
                            "#bd3786"
                          ],
                          [
                            0.5555555555555556,
                            "#d8576b"
                          ],
                          [
                            0.6666666666666666,
                            "#ed7953"
                          ],
                          [
                            0.7777777777777778,
                            "#fb9f3a"
                          ],
                          [
                            0.8888888888888888,
                            "#fdca26"
                          ],
                          [
                            1,
                            "#f0f921"
                          ]
                        ],
                        "type": "heatmapgl"
                      }
                    ],
                    "histogram": [
                      {
                        "marker": {
                          "pattern": {
                            "fillmode": "overlay",
                            "size": 10,
                            "solidity": 0.2
                          }
                        },
                        "type": "histogram"
                      }
                    ],
                    "histogram2d": [
                      {
                        "colorbar": {
                          "outlinewidth": 0,
                          "ticks": ""
                        },
                        "colorscale": [
                          [
                            0,
                            "#0d0887"
                          ],
                          [
                            0.1111111111111111,
                            "#46039f"
                          ],
                          [
                            0.2222222222222222,
                            "#7201a8"
                          ],
                          [
                            0.3333333333333333,
                            "#9c179e"
                          ],
                          [
                            0.4444444444444444,
                            "#bd3786"
                          ],
                          [
                            0.5555555555555556,
                            "#d8576b"
                          ],
                          [
                            0.6666666666666666,
                            "#ed7953"
                          ],
                          [
                            0.7777777777777778,
                            "#fb9f3a"
                          ],
                          [
                            0.8888888888888888,
                            "#fdca26"
                          ],
                          [
                            1,
                            "#f0f921"
                          ]
                        ],
                        "type": "histogram2d"
                      }
                    ],
                    "histogram2dcontour": [
                      {
                        "colorbar": {
                          "outlinewidth": 0,
                          "ticks": ""
                        },
                        "colorscale": [
                          [
                            0,
                            "#0d0887"
                          ],
                          [
                            0.1111111111111111,
                            "#46039f"
                          ],
                          [
                            0.2222222222222222,
                            "#7201a8"
                          ],
                          [
                            0.3333333333333333,
                            "#9c179e"
                          ],
                          [
                            0.4444444444444444,
                            "#bd3786"
                          ],
                          [
                            0.5555555555555556,
                            "#d8576b"
                          ],
                          [
                            0.6666666666666666,
                            "#ed7953"
                          ],
                          [
                            0.7777777777777778,
                            "#fb9f3a"
                          ],
                          [
                            0.8888888888888888,
                            "#fdca26"
                          ],
                          [
                            1,
                            "#f0f921"
                          ]
                        ],
                        "type": "histogram2dcontour"
                      }
                    ],
                    "mesh3d": [
                      {
                        "colorbar": {
                          "outlinewidth": 0,
                          "ticks": ""
                        },
                        "type": "mesh3d"
                      }
                    ],
                    "parcoords": [
                      {
                        "line": {
                          "colorbar": {
                            "outlinewidth": 0,
                            "ticks": ""
                          }
                        },
                        "type": "parcoords"
                      }
                    ],
                    "pie": [
                      {
                        "automargin": true,
                        "type": "pie"
                      }
                    ],
                    "scatter": [
                      {
                        "fillpattern": {
                          "fillmode": "overlay",
                          "size": 10,
                          "solidity": 0.2
                        },
                        "type": "scatter"
                      }
                    ],
                    "scatter3d": [
                      {
                        "line": {
                          "colorbar": {
                            "outlinewidth": 0,
                            "ticks": ""
                          }
                        },
                        "marker": {
                          "colorbar": {
                            "outlinewidth": 0,
                            "ticks": ""
                          }
                        },
                        "type": "scatter3d"
                      }
                    ],
                    "scattercarpet": [
                      {
                        "marker": {
                          "colorbar": {
                            "outlinewidth": 0,
                            "ticks": ""
                          }
                        },
                        "type": "scattercarpet"
                      }
                    ],
                    "scattergeo": [
                      {
                        "marker": {
                          "colorbar": {
                            "outlinewidth": 0,
                            "ticks": ""
                          }
                        },
                        "type": "scattergeo"
                      }
                    ],
                    "scattergl": [
                      {
                        "marker": {
                          "colorbar": {
                            "outlinewidth": 0,
                            "ticks": ""
                          }
                        },
                        "type": "scattergl"
                      }
                    ],
                    "scattermapbox": [
                      {
                        "marker": {
                          "colorbar": {
                            "outlinewidth": 0,
                            "ticks": ""
                          }
                        },
                        "type": "scattermapbox"
                      }
                    ],
                    "scatterpolar": [
                      {
                        "marker": {
                          "colorbar": {
                            "outlinewidth": 0,
                            "ticks": ""
                          }
                        },
                        "type": "scatterpolar"
                      }
                    ],
                    "scatterpolargl": [
                      {
                        "marker": {
                          "colorbar": {
                            "outlinewidth": 0,
                            "ticks": ""
                          }
                        },
                        "type": "scatterpolargl"
                      }
                    ],
                    "scatterternary": [
                      {
                        "marker": {
                          "colorbar": {
                            "outlinewidth": 0,
                            "ticks": ""
                          }
                        },
                        "type": "scatterternary"
                      }
                    ],
                    "surface": [
                      {
                        "colorbar": {
                          "outlinewidth": 0,
                          "ticks": ""
                        },
                        "colorscale": [
                          [
                            0,
                            "#0d0887"
                          ],
                          [
                            0.1111111111111111,
                            "#46039f"
                          ],
                          [
                            0.2222222222222222,
                            "#7201a8"
                          ],
                          [
                            0.3333333333333333,
                            "#9c179e"
                          ],
                          [
                            0.4444444444444444,
                            "#bd3786"
                          ],
                          [
                            0.5555555555555556,
                            "#d8576b"
                          ],
                          [
                            0.6666666666666666,
                            "#ed7953"
                          ],
                          [
                            0.7777777777777778,
                            "#fb9f3a"
                          ],
                          [
                            0.8888888888888888,
                            "#fdca26"
                          ],
                          [
                            1,
                            "#f0f921"
                          ]
                        ],
                        "type": "surface"
                      }
                    ],
                    "table": [
                      {
                        "cells": {
                          "fill": {
                            "color": "#EBF0F8"
                          },
                          "line": {
                            "color": "white"
                          }
                        },
                        "header": {
                          "fill": {
                            "color": "#C8D4E3"
                          },
                          "line": {
                            "color": "white"
                          }
                        },
                        "type": "table"
                      }
                    ]
                  },
                  "layout": {
                    "annotationdefaults": {
                      "arrowcolor": "#2a3f5f",
                      "arrowhead": 0,
                      "arrowwidth": 1
                    },
                    "autotypenumbers": "strict",
                    "coloraxis": {
                      "colorbar": {
                        "outlinewidth": 0,
                        "ticks": ""
                      }
                    },
                    "colorscale": {
                      "diverging": [
                        [
                          0,
                          "#8e0152"
                        ],
                        [
                          0.1,
                          "#c51b7d"
                        ],
                        [
                          0.2,
                          "#de77ae"
                        ],
                        [
                          0.3,
                          "#f1b6da"
                        ],
                        [
                          0.4,
                          "#fde0ef"
                        ],
                        [
                          0.5,
                          "#f7f7f7"
                        ],
                        [
                          0.6,
                          "#e6f5d0"
                        ],
                        [
                          0.7,
                          "#b8e186"
                        ],
                        [
                          0.8,
                          "#7fbc41"
                        ],
                        [
                          0.9,
                          "#4d9221"
                        ],
                        [
                          1,
                          "#276419"
                        ]
                      ],
                      "sequential": [
                        [
                          0,
                          "#0d0887"
                        ],
                        [
                          0.1111111111111111,
                          "#46039f"
                        ],
                        [
                          0.2222222222222222,
                          "#7201a8"
                        ],
                        [
                          0.3333333333333333,
                          "#9c179e"
                        ],
                        [
                          0.4444444444444444,
                          "#bd3786"
                        ],
                        [
                          0.5555555555555556,
                          "#d8576b"
                        ],
                        [
                          0.6666666666666666,
                          "#ed7953"
                        ],
                        [
                          0.7777777777777778,
                          "#fb9f3a"
                        ],
                        [
                          0.8888888888888888,
                          "#fdca26"
                        ],
                        [
                          1,
                          "#f0f921"
                        ]
                      ],
                      "sequentialminus": [
                        [
                          0,
                          "#0d0887"
                        ],
                        [
                          0.1111111111111111,
                          "#46039f"
                        ],
                        [
                          0.2222222222222222,
                          "#7201a8"
                        ],
                        [
                          0.3333333333333333,
                          "#9c179e"
                        ],
                        [
                          0.4444444444444444,
                          "#bd3786"
                        ],
                        [
                          0.5555555555555556,
                          "#d8576b"
                        ],
                        [
                          0.6666666666666666,
                          "#ed7953"
                        ],
                        [
                          0.7777777777777778,
                          "#fb9f3a"
                        ],
                        [
                          0.8888888888888888,
                          "#fdca26"
                        ],
                        [
                          1,
                          "#f0f921"
                        ]
                      ]
                    },
                    "colorway": [
                      "#636efa",
                      "#EF553B",
                      "#00cc96",
                      "#ab63fa",
                      "#FFA15A",
                      "#19d3f3",
                      "#FF6692",
                      "#B6E880",
                      "#FF97FF",
                      "#FECB52"
                    ],
                    "font": {
                      "color": "#2a3f5f"
                    },
                    "geo": {
                      "bgcolor": "white",
                      "lakecolor": "white",
                      "landcolor": "#E5ECF6",
                      "showlakes": true,
                      "showland": true,
                      "subunitcolor": "white"
                    },
                    "hoverlabel": {
                      "align": "left"
                    },
                    "hovermode": "closest",
                    "mapbox": {
                      "style": "light"
                    },
                    "paper_bgcolor": "white",
                    "plot_bgcolor": "#E5ECF6",
                    "polar": {
                      "angularaxis": {
                        "gridcolor": "white",
                        "linecolor": "white",
                        "ticks": ""
                      },
                      "bgcolor": "#E5ECF6",
                      "radialaxis": {
                        "gridcolor": "white",
                        "linecolor": "white",
                        "ticks": ""
                      }
                    },
                    "scene": {
                      "xaxis": {
                        "backgroundcolor": "#E5ECF6",
                        "gridcolor": "white",
                        "gridwidth": 2,
                        "linecolor": "white",
                        "showbackground": true,
                        "ticks": "",
                        "zerolinecolor": "white"
                      },
                      "yaxis": {
                        "backgroundcolor": "#E5ECF6",
                        "gridcolor": "white",
                        "gridwidth": 2,
                        "linecolor": "white",
                        "showbackground": true,
                        "ticks": "",
                        "zerolinecolor": "white"
                      },
                      "zaxis": {
                        "backgroundcolor": "#E5ECF6",
                        "gridcolor": "white",
                        "gridwidth": 2,
                        "linecolor": "white",
                        "showbackground": true,
                        "ticks": "",
                        "zerolinecolor": "white"
                      }
                    },
                    "shapedefaults": {
                      "line": {
                        "color": "#2a3f5f"
                      }
                    },
                    "ternary": {
                      "aaxis": {
                        "gridcolor": "white",
                        "linecolor": "white",
                        "ticks": ""
                      },
                      "baxis": {
                        "gridcolor": "white",
                        "linecolor": "white",
                        "ticks": ""
                      },
                      "bgcolor": "#E5ECF6",
                      "caxis": {
                        "gridcolor": "white",
                        "linecolor": "white",
                        "ticks": ""
                      }
                    },
                    "title": {
                      "x": 0.05
                    },
                    "xaxis": {
                      "automargin": true,
                      "gridcolor": "white",
                      "linecolor": "white",
                      "ticks": "",
                      "title": {
                        "standoff": 15
                      },
                      "zerolinecolor": "white",
                      "zerolinewidth": 2
                    },
                    "yaxis": {
                      "automargin": true,
                      "gridcolor": "white",
                      "linecolor": "white",
                      "ticks": "",
                      "title": {
                        "standoff": 15
                      },
                      "zerolinecolor": "white",
                      "zerolinewidth": 2
                    }
                  }
                },
                "title": {
                  "text": "Average and median carbon emissions over different years"
                },
                "yaxis": {
                  "tickfont": {
                    "color": "red"
                  },
                  "title": {
                    "font": {
                      "color": "black"
                    },
                    "text": "average"
                  }
                },
                "yaxis2": {
                  "overlaying": "y",
                  "side": "right",
                  "tickfont": {
                    "color": "red"
                  },
                  "title": {
                    "font": {
                      "color": "black"
                    },
                    "text": "median"
                  }
                }
              }
            }
          },
          "metadata": {},
          "output_type": "display_data"
        }
      ],
      "source": [
        "fig=go.Figure()\n",
        "fig.add_trace(go.Scatter(x=co2['Date'],y=co2['mean'],name='Average',yaxis='y1'))\n",
        "fig.add_trace(go.Scatter(x=co2['Date'],y=co2['median'],name='median',yaxis='y2'))\n",
        "fig.update_layout(title='Average and median carbon emissions over different years',\n",
        "                  yaxis1=dict(title='average',titlefont=dict(color='black'),tickfont=dict(color='red')),\n",
        "                  yaxis2=dict(title='median',titlefont=dict(color='black'),tickfont=dict(color='red'),overlaying='y',side='right'),\n",
        "                  legend=dict(x=0.85,y=1.2)\n",
        "                  )\n",
        "fig.show()"
      ]
    },
    {
      "cell_type": "code",
      "execution_count": 74,
      "metadata": {
        "colab": {
          "base_uri": "https://localhost:8080/",
          "height": 542
        },
        "id": "ajjpmC-WJqXp",
        "outputId": "32d5e368-40f2-49bd-86ee-b2dee84baa75"
      },
      "outputs": [
        {
          "data": {
            "application/vnd.plotly.v1+json": {
              "config": {
                "plotlyServerURL": "https://plot.ly"
              },
              "data": [
                {
                  "hovertemplate": "Date=%{x}<br>Value=%{y}<extra></extra>",
                  "legendgroup": "",
                  "line": {
                    "color": "#636efa",
                    "dash": "solid"
                  },
                  "marker": {
                    "symbol": "circle"
                  },
                  "mode": "lines+markers",
                  "name": "",
                  "orientation": "v",
                  "showlegend": false,
                  "type": "scatter",
                  "x": [
                    "January",
                    "February",
                    "March",
                    "April",
                    "May",
                    "June",
                    "July",
                    "August",
                    "October",
                    "September",
                    "November",
                    "December"
                  ],
                  "xaxis": "x",
                  "y": [
                    178.15503816793895,
                    181.2962015503876,
                    181.35931297709922,
                    182.0142748091603,
                    182.30740458015268,
                    182.02519083969466,
                    181.2520610687023,
                    180.23725190839696,
                    179.49076335877862,
                    179.4613740458015,
                    180.16847328244273,
                    180.8353435114504
                  ],
                  "yaxis": "y"
                }
              ],
              "layout": {
                "legend": {
                  "tracegroupgap": 0
                },
                "margin": {
                  "t": 60
                },
                "template": {
                  "data": {
                    "bar": [
                      {
                        "error_x": {
                          "color": "#2a3f5f"
                        },
                        "error_y": {
                          "color": "#2a3f5f"
                        },
                        "marker": {
                          "line": {
                            "color": "#E5ECF6",
                            "width": 0.5
                          },
                          "pattern": {
                            "fillmode": "overlay",
                            "size": 10,
                            "solidity": 0.2
                          }
                        },
                        "type": "bar"
                      }
                    ],
                    "barpolar": [
                      {
                        "marker": {
                          "line": {
                            "color": "#E5ECF6",
                            "width": 0.5
                          },
                          "pattern": {
                            "fillmode": "overlay",
                            "size": 10,
                            "solidity": 0.2
                          }
                        },
                        "type": "barpolar"
                      }
                    ],
                    "carpet": [
                      {
                        "aaxis": {
                          "endlinecolor": "#2a3f5f",
                          "gridcolor": "white",
                          "linecolor": "white",
                          "minorgridcolor": "white",
                          "startlinecolor": "#2a3f5f"
                        },
                        "baxis": {
                          "endlinecolor": "#2a3f5f",
                          "gridcolor": "white",
                          "linecolor": "white",
                          "minorgridcolor": "white",
                          "startlinecolor": "#2a3f5f"
                        },
                        "type": "carpet"
                      }
                    ],
                    "choropleth": [
                      {
                        "colorbar": {
                          "outlinewidth": 0,
                          "ticks": ""
                        },
                        "type": "choropleth"
                      }
                    ],
                    "contour": [
                      {
                        "colorbar": {
                          "outlinewidth": 0,
                          "ticks": ""
                        },
                        "colorscale": [
                          [
                            0,
                            "#0d0887"
                          ],
                          [
                            0.1111111111111111,
                            "#46039f"
                          ],
                          [
                            0.2222222222222222,
                            "#7201a8"
                          ],
                          [
                            0.3333333333333333,
                            "#9c179e"
                          ],
                          [
                            0.4444444444444444,
                            "#bd3786"
                          ],
                          [
                            0.5555555555555556,
                            "#d8576b"
                          ],
                          [
                            0.6666666666666666,
                            "#ed7953"
                          ],
                          [
                            0.7777777777777778,
                            "#fb9f3a"
                          ],
                          [
                            0.8888888888888888,
                            "#fdca26"
                          ],
                          [
                            1,
                            "#f0f921"
                          ]
                        ],
                        "type": "contour"
                      }
                    ],
                    "contourcarpet": [
                      {
                        "colorbar": {
                          "outlinewidth": 0,
                          "ticks": ""
                        },
                        "type": "contourcarpet"
                      }
                    ],
                    "heatmap": [
                      {
                        "colorbar": {
                          "outlinewidth": 0,
                          "ticks": ""
                        },
                        "colorscale": [
                          [
                            0,
                            "#0d0887"
                          ],
                          [
                            0.1111111111111111,
                            "#46039f"
                          ],
                          [
                            0.2222222222222222,
                            "#7201a8"
                          ],
                          [
                            0.3333333333333333,
                            "#9c179e"
                          ],
                          [
                            0.4444444444444444,
                            "#bd3786"
                          ],
                          [
                            0.5555555555555556,
                            "#d8576b"
                          ],
                          [
                            0.6666666666666666,
                            "#ed7953"
                          ],
                          [
                            0.7777777777777778,
                            "#fb9f3a"
                          ],
                          [
                            0.8888888888888888,
                            "#fdca26"
                          ],
                          [
                            1,
                            "#f0f921"
                          ]
                        ],
                        "type": "heatmap"
                      }
                    ],
                    "heatmapgl": [
                      {
                        "colorbar": {
                          "outlinewidth": 0,
                          "ticks": ""
                        },
                        "colorscale": [
                          [
                            0,
                            "#0d0887"
                          ],
                          [
                            0.1111111111111111,
                            "#46039f"
                          ],
                          [
                            0.2222222222222222,
                            "#7201a8"
                          ],
                          [
                            0.3333333333333333,
                            "#9c179e"
                          ],
                          [
                            0.4444444444444444,
                            "#bd3786"
                          ],
                          [
                            0.5555555555555556,
                            "#d8576b"
                          ],
                          [
                            0.6666666666666666,
                            "#ed7953"
                          ],
                          [
                            0.7777777777777778,
                            "#fb9f3a"
                          ],
                          [
                            0.8888888888888888,
                            "#fdca26"
                          ],
                          [
                            1,
                            "#f0f921"
                          ]
                        ],
                        "type": "heatmapgl"
                      }
                    ],
                    "histogram": [
                      {
                        "marker": {
                          "pattern": {
                            "fillmode": "overlay",
                            "size": 10,
                            "solidity": 0.2
                          }
                        },
                        "type": "histogram"
                      }
                    ],
                    "histogram2d": [
                      {
                        "colorbar": {
                          "outlinewidth": 0,
                          "ticks": ""
                        },
                        "colorscale": [
                          [
                            0,
                            "#0d0887"
                          ],
                          [
                            0.1111111111111111,
                            "#46039f"
                          ],
                          [
                            0.2222222222222222,
                            "#7201a8"
                          ],
                          [
                            0.3333333333333333,
                            "#9c179e"
                          ],
                          [
                            0.4444444444444444,
                            "#bd3786"
                          ],
                          [
                            0.5555555555555556,
                            "#d8576b"
                          ],
                          [
                            0.6666666666666666,
                            "#ed7953"
                          ],
                          [
                            0.7777777777777778,
                            "#fb9f3a"
                          ],
                          [
                            0.8888888888888888,
                            "#fdca26"
                          ],
                          [
                            1,
                            "#f0f921"
                          ]
                        ],
                        "type": "histogram2d"
                      }
                    ],
                    "histogram2dcontour": [
                      {
                        "colorbar": {
                          "outlinewidth": 0,
                          "ticks": ""
                        },
                        "colorscale": [
                          [
                            0,
                            "#0d0887"
                          ],
                          [
                            0.1111111111111111,
                            "#46039f"
                          ],
                          [
                            0.2222222222222222,
                            "#7201a8"
                          ],
                          [
                            0.3333333333333333,
                            "#9c179e"
                          ],
                          [
                            0.4444444444444444,
                            "#bd3786"
                          ],
                          [
                            0.5555555555555556,
                            "#d8576b"
                          ],
                          [
                            0.6666666666666666,
                            "#ed7953"
                          ],
                          [
                            0.7777777777777778,
                            "#fb9f3a"
                          ],
                          [
                            0.8888888888888888,
                            "#fdca26"
                          ],
                          [
                            1,
                            "#f0f921"
                          ]
                        ],
                        "type": "histogram2dcontour"
                      }
                    ],
                    "mesh3d": [
                      {
                        "colorbar": {
                          "outlinewidth": 0,
                          "ticks": ""
                        },
                        "type": "mesh3d"
                      }
                    ],
                    "parcoords": [
                      {
                        "line": {
                          "colorbar": {
                            "outlinewidth": 0,
                            "ticks": ""
                          }
                        },
                        "type": "parcoords"
                      }
                    ],
                    "pie": [
                      {
                        "automargin": true,
                        "type": "pie"
                      }
                    ],
                    "scatter": [
                      {
                        "fillpattern": {
                          "fillmode": "overlay",
                          "size": 10,
                          "solidity": 0.2
                        },
                        "type": "scatter"
                      }
                    ],
                    "scatter3d": [
                      {
                        "line": {
                          "colorbar": {
                            "outlinewidth": 0,
                            "ticks": ""
                          }
                        },
                        "marker": {
                          "colorbar": {
                            "outlinewidth": 0,
                            "ticks": ""
                          }
                        },
                        "type": "scatter3d"
                      }
                    ],
                    "scattercarpet": [
                      {
                        "marker": {
                          "colorbar": {
                            "outlinewidth": 0,
                            "ticks": ""
                          }
                        },
                        "type": "scattercarpet"
                      }
                    ],
                    "scattergeo": [
                      {
                        "marker": {
                          "colorbar": {
                            "outlinewidth": 0,
                            "ticks": ""
                          }
                        },
                        "type": "scattergeo"
                      }
                    ],
                    "scattergl": [
                      {
                        "marker": {
                          "colorbar": {
                            "outlinewidth": 0,
                            "ticks": ""
                          }
                        },
                        "type": "scattergl"
                      }
                    ],
                    "scattermapbox": [
                      {
                        "marker": {
                          "colorbar": {
                            "outlinewidth": 0,
                            "ticks": ""
                          }
                        },
                        "type": "scattermapbox"
                      }
                    ],
                    "scatterpolar": [
                      {
                        "marker": {
                          "colorbar": {
                            "outlinewidth": 0,
                            "ticks": ""
                          }
                        },
                        "type": "scatterpolar"
                      }
                    ],
                    "scatterpolargl": [
                      {
                        "marker": {
                          "colorbar": {
                            "outlinewidth": 0,
                            "ticks": ""
                          }
                        },
                        "type": "scatterpolargl"
                      }
                    ],
                    "scatterternary": [
                      {
                        "marker": {
                          "colorbar": {
                            "outlinewidth": 0,
                            "ticks": ""
                          }
                        },
                        "type": "scatterternary"
                      }
                    ],
                    "surface": [
                      {
                        "colorbar": {
                          "outlinewidth": 0,
                          "ticks": ""
                        },
                        "colorscale": [
                          [
                            0,
                            "#0d0887"
                          ],
                          [
                            0.1111111111111111,
                            "#46039f"
                          ],
                          [
                            0.2222222222222222,
                            "#7201a8"
                          ],
                          [
                            0.3333333333333333,
                            "#9c179e"
                          ],
                          [
                            0.4444444444444444,
                            "#bd3786"
                          ],
                          [
                            0.5555555555555556,
                            "#d8576b"
                          ],
                          [
                            0.6666666666666666,
                            "#ed7953"
                          ],
                          [
                            0.7777777777777778,
                            "#fb9f3a"
                          ],
                          [
                            0.8888888888888888,
                            "#fdca26"
                          ],
                          [
                            1,
                            "#f0f921"
                          ]
                        ],
                        "type": "surface"
                      }
                    ],
                    "table": [
                      {
                        "cells": {
                          "fill": {
                            "color": "#EBF0F8"
                          },
                          "line": {
                            "color": "white"
                          }
                        },
                        "header": {
                          "fill": {
                            "color": "#C8D4E3"
                          },
                          "line": {
                            "color": "white"
                          }
                        },
                        "type": "table"
                      }
                    ]
                  },
                  "layout": {
                    "annotationdefaults": {
                      "arrowcolor": "#2a3f5f",
                      "arrowhead": 0,
                      "arrowwidth": 1
                    },
                    "autotypenumbers": "strict",
                    "coloraxis": {
                      "colorbar": {
                        "outlinewidth": 0,
                        "ticks": ""
                      }
                    },
                    "colorscale": {
                      "diverging": [
                        [
                          0,
                          "#8e0152"
                        ],
                        [
                          0.1,
                          "#c51b7d"
                        ],
                        [
                          0.2,
                          "#de77ae"
                        ],
                        [
                          0.3,
                          "#f1b6da"
                        ],
                        [
                          0.4,
                          "#fde0ef"
                        ],
                        [
                          0.5,
                          "#f7f7f7"
                        ],
                        [
                          0.6,
                          "#e6f5d0"
                        ],
                        [
                          0.7,
                          "#b8e186"
                        ],
                        [
                          0.8,
                          "#7fbc41"
                        ],
                        [
                          0.9,
                          "#4d9221"
                        ],
                        [
                          1,
                          "#276419"
                        ]
                      ],
                      "sequential": [
                        [
                          0,
                          "#0d0887"
                        ],
                        [
                          0.1111111111111111,
                          "#46039f"
                        ],
                        [
                          0.2222222222222222,
                          "#7201a8"
                        ],
                        [
                          0.3333333333333333,
                          "#9c179e"
                        ],
                        [
                          0.4444444444444444,
                          "#bd3786"
                        ],
                        [
                          0.5555555555555556,
                          "#d8576b"
                        ],
                        [
                          0.6666666666666666,
                          "#ed7953"
                        ],
                        [
                          0.7777777777777778,
                          "#fb9f3a"
                        ],
                        [
                          0.8888888888888888,
                          "#fdca26"
                        ],
                        [
                          1,
                          "#f0f921"
                        ]
                      ],
                      "sequentialminus": [
                        [
                          0,
                          "#0d0887"
                        ],
                        [
                          0.1111111111111111,
                          "#46039f"
                        ],
                        [
                          0.2222222222222222,
                          "#7201a8"
                        ],
                        [
                          0.3333333333333333,
                          "#9c179e"
                        ],
                        [
                          0.4444444444444444,
                          "#bd3786"
                        ],
                        [
                          0.5555555555555556,
                          "#d8576b"
                        ],
                        [
                          0.6666666666666666,
                          "#ed7953"
                        ],
                        [
                          0.7777777777777778,
                          "#fb9f3a"
                        ],
                        [
                          0.8888888888888888,
                          "#fdca26"
                        ],
                        [
                          1,
                          "#f0f921"
                        ]
                      ]
                    },
                    "colorway": [
                      "#636efa",
                      "#EF553B",
                      "#00cc96",
                      "#ab63fa",
                      "#FFA15A",
                      "#19d3f3",
                      "#FF6692",
                      "#B6E880",
                      "#FF97FF",
                      "#FECB52"
                    ],
                    "font": {
                      "color": "#2a3f5f"
                    },
                    "geo": {
                      "bgcolor": "white",
                      "lakecolor": "white",
                      "landcolor": "#E5ECF6",
                      "showlakes": true,
                      "showland": true,
                      "subunitcolor": "white"
                    },
                    "hoverlabel": {
                      "align": "left"
                    },
                    "hovermode": "closest",
                    "mapbox": {
                      "style": "light"
                    },
                    "paper_bgcolor": "white",
                    "plot_bgcolor": "#E5ECF6",
                    "polar": {
                      "angularaxis": {
                        "gridcolor": "white",
                        "linecolor": "white",
                        "ticks": ""
                      },
                      "bgcolor": "#E5ECF6",
                      "radialaxis": {
                        "gridcolor": "white",
                        "linecolor": "white",
                        "ticks": ""
                      }
                    },
                    "scene": {
                      "xaxis": {
                        "backgroundcolor": "#E5ECF6",
                        "gridcolor": "white",
                        "gridwidth": 2,
                        "linecolor": "white",
                        "showbackground": true,
                        "ticks": "",
                        "zerolinecolor": "white"
                      },
                      "yaxis": {
                        "backgroundcolor": "#E5ECF6",
                        "gridcolor": "white",
                        "gridwidth": 2,
                        "linecolor": "white",
                        "showbackground": true,
                        "ticks": "",
                        "zerolinecolor": "white"
                      },
                      "zaxis": {
                        "backgroundcolor": "#E5ECF6",
                        "gridcolor": "white",
                        "gridwidth": 2,
                        "linecolor": "white",
                        "showbackground": true,
                        "ticks": "",
                        "zerolinecolor": "white"
                      }
                    },
                    "shapedefaults": {
                      "line": {
                        "color": "#2a3f5f"
                      }
                    },
                    "ternary": {
                      "aaxis": {
                        "gridcolor": "white",
                        "linecolor": "white",
                        "ticks": ""
                      },
                      "baxis": {
                        "gridcolor": "white",
                        "linecolor": "white",
                        "ticks": ""
                      },
                      "bgcolor": "#E5ECF6",
                      "caxis": {
                        "gridcolor": "white",
                        "linecolor": "white",
                        "ticks": ""
                      }
                    },
                    "title": {
                      "x": 0.05
                    },
                    "xaxis": {
                      "automargin": true,
                      "gridcolor": "white",
                      "linecolor": "white",
                      "ticks": "",
                      "title": {
                        "standoff": 15
                      },
                      "zerolinecolor": "white",
                      "zerolinewidth": 2
                    },
                    "yaxis": {
                      "automargin": true,
                      "gridcolor": "white",
                      "linecolor": "white",
                      "ticks": "",
                      "title": {
                        "standoff": 15
                      },
                      "zerolinecolor": "white",
                      "zerolinewidth": 2
                    }
                  }
                },
                "title": {
                  "text": "Seasonal Variations in CO₂ Concentrations"
                },
                "xaxis": {
                  "anchor": "y",
                  "domain": [
                    0,
                    1
                  ],
                  "title": {
                    "text": "Months"
                  }
                },
                "yaxis": {
                  "anchor": "x",
                  "domain": [
                    0,
                    1
                  ],
                  "title": {
                    "text": "CO₂ Concentration (ppm)"
                  }
                }
              }
            }
          },
          "metadata": {},
          "output_type": "display_data"
        }
      ],
      "source": [
        "monthly_carbon=carbon.groupby(carbon['Date'].dt.month_name())['Value'].mean().reset_index()\n",
        "monthtrend=['January','February','March','April','May','June','July','August','October','September','November','December']\n",
        "monthly_carbon['Date']=pd.Categorical(values=monthly_carbon['Date'],categories=monthtrend,ordered=True)\n",
        "monthly_carbon.sort_values(by='Date',inplace=True)\n",
        "fig=px.line(data_frame=monthly_carbon,x='Date',y='Value',markers='.')\n",
        "fig.update_layout(title='Seasonal Variations in CO₂ Concentrations',xaxis=dict(title='Months'),yaxis=dict(title='CO₂ Concentration (ppm)'))\n",
        "fig.show()"
      ]
    },
    {
      "cell_type": "markdown",
      "metadata": {
        "id": "5CZ4KwqGNf3b"
      },
      "source": [
        "**The above graph highlights the seasonal fluctuations in CO₂ concentrations, which peak during late spring and early summer (around May) and reach the lowest levels in fall (around September).**"
      ]
    },
    {
      "cell_type": "code",
      "execution_count": 75,
      "metadata": {
        "id": "D64YrBb9h6BQ"
      },
      "outputs": [],
      "source": [
        "tem[['mean','median','var']]=tem.loc[0:,'F1961':].agg(['mean','median','var'],axis=1)\n",
        "tem2=tem.sort_values(by='mean',ascending=False).head(10).reset_index()"
      ]
    },
    {
      "cell_type": "code",
      "execution_count": 76,
      "metadata": {
        "colab": {
          "base_uri": "https://localhost:8080/",
          "height": 542
        },
        "id": "1LiM7edZpEjk",
        "outputId": "60852376-0a40-48a0-f41c-75664e0d1e50"
      },
      "outputs": [
        {
          "data": {
            "application/vnd.plotly.v1+json": {
              "config": {
                "plotlyServerURL": "https://plot.ly"
              },
              "data": [
                {
                  "name": "Average",
                  "type": "bar",
                  "x": [
                    "Luxembourg",
                    "Estonia, Rep. of",
                    "Serbia, Rep. of",
                    "Belgium",
                    "Latvia",
                    "Belarus, Rep. of",
                    "Russian Federation",
                    "Montenegro",
                    "Lithuania",
                    "Slovenia, Rep. of"
                  ],
                  "y": [
                    1.5843478260869568,
                    1.5555806451612904,
                    1.5419411764705881,
                    1.5263478260869565,
                    1.5134193548387098,
                    1.5117096774193546,
                    1.5096129032258068,
                    1.4775294117647058,
                    1.4637419354838712,
                    1.4625161290322581
                  ],
                  "yaxis": "y"
                },
                {
                  "name": "median",
                  "type": "bar",
                  "x": [
                    "Luxembourg",
                    "Estonia, Rep. of",
                    "Serbia, Rep. of",
                    "Belgium",
                    "Latvia",
                    "Belarus, Rep. of",
                    "Russian Federation",
                    "Montenegro",
                    "Lithuania",
                    "Slovenia, Rep. of"
                  ],
                  "y": [
                    1.433,
                    1.597,
                    1.596,
                    1.398,
                    1.562,
                    1.561,
                    1.589,
                    1.503,
                    1.49,
                    1.524
                  ],
                  "yaxis": "y2"
                }
              ],
              "layout": {
                "legend": {
                  "x": 0.85,
                  "y": 1.2
                },
                "template": {
                  "data": {
                    "bar": [
                      {
                        "error_x": {
                          "color": "#2a3f5f"
                        },
                        "error_y": {
                          "color": "#2a3f5f"
                        },
                        "marker": {
                          "line": {
                            "color": "#E5ECF6",
                            "width": 0.5
                          },
                          "pattern": {
                            "fillmode": "overlay",
                            "size": 10,
                            "solidity": 0.2
                          }
                        },
                        "type": "bar"
                      }
                    ],
                    "barpolar": [
                      {
                        "marker": {
                          "line": {
                            "color": "#E5ECF6",
                            "width": 0.5
                          },
                          "pattern": {
                            "fillmode": "overlay",
                            "size": 10,
                            "solidity": 0.2
                          }
                        },
                        "type": "barpolar"
                      }
                    ],
                    "carpet": [
                      {
                        "aaxis": {
                          "endlinecolor": "#2a3f5f",
                          "gridcolor": "white",
                          "linecolor": "white",
                          "minorgridcolor": "white",
                          "startlinecolor": "#2a3f5f"
                        },
                        "baxis": {
                          "endlinecolor": "#2a3f5f",
                          "gridcolor": "white",
                          "linecolor": "white",
                          "minorgridcolor": "white",
                          "startlinecolor": "#2a3f5f"
                        },
                        "type": "carpet"
                      }
                    ],
                    "choropleth": [
                      {
                        "colorbar": {
                          "outlinewidth": 0,
                          "ticks": ""
                        },
                        "type": "choropleth"
                      }
                    ],
                    "contour": [
                      {
                        "colorbar": {
                          "outlinewidth": 0,
                          "ticks": ""
                        },
                        "colorscale": [
                          [
                            0,
                            "#0d0887"
                          ],
                          [
                            0.1111111111111111,
                            "#46039f"
                          ],
                          [
                            0.2222222222222222,
                            "#7201a8"
                          ],
                          [
                            0.3333333333333333,
                            "#9c179e"
                          ],
                          [
                            0.4444444444444444,
                            "#bd3786"
                          ],
                          [
                            0.5555555555555556,
                            "#d8576b"
                          ],
                          [
                            0.6666666666666666,
                            "#ed7953"
                          ],
                          [
                            0.7777777777777778,
                            "#fb9f3a"
                          ],
                          [
                            0.8888888888888888,
                            "#fdca26"
                          ],
                          [
                            1,
                            "#f0f921"
                          ]
                        ],
                        "type": "contour"
                      }
                    ],
                    "contourcarpet": [
                      {
                        "colorbar": {
                          "outlinewidth": 0,
                          "ticks": ""
                        },
                        "type": "contourcarpet"
                      }
                    ],
                    "heatmap": [
                      {
                        "colorbar": {
                          "outlinewidth": 0,
                          "ticks": ""
                        },
                        "colorscale": [
                          [
                            0,
                            "#0d0887"
                          ],
                          [
                            0.1111111111111111,
                            "#46039f"
                          ],
                          [
                            0.2222222222222222,
                            "#7201a8"
                          ],
                          [
                            0.3333333333333333,
                            "#9c179e"
                          ],
                          [
                            0.4444444444444444,
                            "#bd3786"
                          ],
                          [
                            0.5555555555555556,
                            "#d8576b"
                          ],
                          [
                            0.6666666666666666,
                            "#ed7953"
                          ],
                          [
                            0.7777777777777778,
                            "#fb9f3a"
                          ],
                          [
                            0.8888888888888888,
                            "#fdca26"
                          ],
                          [
                            1,
                            "#f0f921"
                          ]
                        ],
                        "type": "heatmap"
                      }
                    ],
                    "heatmapgl": [
                      {
                        "colorbar": {
                          "outlinewidth": 0,
                          "ticks": ""
                        },
                        "colorscale": [
                          [
                            0,
                            "#0d0887"
                          ],
                          [
                            0.1111111111111111,
                            "#46039f"
                          ],
                          [
                            0.2222222222222222,
                            "#7201a8"
                          ],
                          [
                            0.3333333333333333,
                            "#9c179e"
                          ],
                          [
                            0.4444444444444444,
                            "#bd3786"
                          ],
                          [
                            0.5555555555555556,
                            "#d8576b"
                          ],
                          [
                            0.6666666666666666,
                            "#ed7953"
                          ],
                          [
                            0.7777777777777778,
                            "#fb9f3a"
                          ],
                          [
                            0.8888888888888888,
                            "#fdca26"
                          ],
                          [
                            1,
                            "#f0f921"
                          ]
                        ],
                        "type": "heatmapgl"
                      }
                    ],
                    "histogram": [
                      {
                        "marker": {
                          "pattern": {
                            "fillmode": "overlay",
                            "size": 10,
                            "solidity": 0.2
                          }
                        },
                        "type": "histogram"
                      }
                    ],
                    "histogram2d": [
                      {
                        "colorbar": {
                          "outlinewidth": 0,
                          "ticks": ""
                        },
                        "colorscale": [
                          [
                            0,
                            "#0d0887"
                          ],
                          [
                            0.1111111111111111,
                            "#46039f"
                          ],
                          [
                            0.2222222222222222,
                            "#7201a8"
                          ],
                          [
                            0.3333333333333333,
                            "#9c179e"
                          ],
                          [
                            0.4444444444444444,
                            "#bd3786"
                          ],
                          [
                            0.5555555555555556,
                            "#d8576b"
                          ],
                          [
                            0.6666666666666666,
                            "#ed7953"
                          ],
                          [
                            0.7777777777777778,
                            "#fb9f3a"
                          ],
                          [
                            0.8888888888888888,
                            "#fdca26"
                          ],
                          [
                            1,
                            "#f0f921"
                          ]
                        ],
                        "type": "histogram2d"
                      }
                    ],
                    "histogram2dcontour": [
                      {
                        "colorbar": {
                          "outlinewidth": 0,
                          "ticks": ""
                        },
                        "colorscale": [
                          [
                            0,
                            "#0d0887"
                          ],
                          [
                            0.1111111111111111,
                            "#46039f"
                          ],
                          [
                            0.2222222222222222,
                            "#7201a8"
                          ],
                          [
                            0.3333333333333333,
                            "#9c179e"
                          ],
                          [
                            0.4444444444444444,
                            "#bd3786"
                          ],
                          [
                            0.5555555555555556,
                            "#d8576b"
                          ],
                          [
                            0.6666666666666666,
                            "#ed7953"
                          ],
                          [
                            0.7777777777777778,
                            "#fb9f3a"
                          ],
                          [
                            0.8888888888888888,
                            "#fdca26"
                          ],
                          [
                            1,
                            "#f0f921"
                          ]
                        ],
                        "type": "histogram2dcontour"
                      }
                    ],
                    "mesh3d": [
                      {
                        "colorbar": {
                          "outlinewidth": 0,
                          "ticks": ""
                        },
                        "type": "mesh3d"
                      }
                    ],
                    "parcoords": [
                      {
                        "line": {
                          "colorbar": {
                            "outlinewidth": 0,
                            "ticks": ""
                          }
                        },
                        "type": "parcoords"
                      }
                    ],
                    "pie": [
                      {
                        "automargin": true,
                        "type": "pie"
                      }
                    ],
                    "scatter": [
                      {
                        "fillpattern": {
                          "fillmode": "overlay",
                          "size": 10,
                          "solidity": 0.2
                        },
                        "type": "scatter"
                      }
                    ],
                    "scatter3d": [
                      {
                        "line": {
                          "colorbar": {
                            "outlinewidth": 0,
                            "ticks": ""
                          }
                        },
                        "marker": {
                          "colorbar": {
                            "outlinewidth": 0,
                            "ticks": ""
                          }
                        },
                        "type": "scatter3d"
                      }
                    ],
                    "scattercarpet": [
                      {
                        "marker": {
                          "colorbar": {
                            "outlinewidth": 0,
                            "ticks": ""
                          }
                        },
                        "type": "scattercarpet"
                      }
                    ],
                    "scattergeo": [
                      {
                        "marker": {
                          "colorbar": {
                            "outlinewidth": 0,
                            "ticks": ""
                          }
                        },
                        "type": "scattergeo"
                      }
                    ],
                    "scattergl": [
                      {
                        "marker": {
                          "colorbar": {
                            "outlinewidth": 0,
                            "ticks": ""
                          }
                        },
                        "type": "scattergl"
                      }
                    ],
                    "scattermapbox": [
                      {
                        "marker": {
                          "colorbar": {
                            "outlinewidth": 0,
                            "ticks": ""
                          }
                        },
                        "type": "scattermapbox"
                      }
                    ],
                    "scatterpolar": [
                      {
                        "marker": {
                          "colorbar": {
                            "outlinewidth": 0,
                            "ticks": ""
                          }
                        },
                        "type": "scatterpolar"
                      }
                    ],
                    "scatterpolargl": [
                      {
                        "marker": {
                          "colorbar": {
                            "outlinewidth": 0,
                            "ticks": ""
                          }
                        },
                        "type": "scatterpolargl"
                      }
                    ],
                    "scatterternary": [
                      {
                        "marker": {
                          "colorbar": {
                            "outlinewidth": 0,
                            "ticks": ""
                          }
                        },
                        "type": "scatterternary"
                      }
                    ],
                    "surface": [
                      {
                        "colorbar": {
                          "outlinewidth": 0,
                          "ticks": ""
                        },
                        "colorscale": [
                          [
                            0,
                            "#0d0887"
                          ],
                          [
                            0.1111111111111111,
                            "#46039f"
                          ],
                          [
                            0.2222222222222222,
                            "#7201a8"
                          ],
                          [
                            0.3333333333333333,
                            "#9c179e"
                          ],
                          [
                            0.4444444444444444,
                            "#bd3786"
                          ],
                          [
                            0.5555555555555556,
                            "#d8576b"
                          ],
                          [
                            0.6666666666666666,
                            "#ed7953"
                          ],
                          [
                            0.7777777777777778,
                            "#fb9f3a"
                          ],
                          [
                            0.8888888888888888,
                            "#fdca26"
                          ],
                          [
                            1,
                            "#f0f921"
                          ]
                        ],
                        "type": "surface"
                      }
                    ],
                    "table": [
                      {
                        "cells": {
                          "fill": {
                            "color": "#EBF0F8"
                          },
                          "line": {
                            "color": "white"
                          }
                        },
                        "header": {
                          "fill": {
                            "color": "#C8D4E3"
                          },
                          "line": {
                            "color": "white"
                          }
                        },
                        "type": "table"
                      }
                    ]
                  },
                  "layout": {
                    "annotationdefaults": {
                      "arrowcolor": "#2a3f5f",
                      "arrowhead": 0,
                      "arrowwidth": 1
                    },
                    "autotypenumbers": "strict",
                    "coloraxis": {
                      "colorbar": {
                        "outlinewidth": 0,
                        "ticks": ""
                      }
                    },
                    "colorscale": {
                      "diverging": [
                        [
                          0,
                          "#8e0152"
                        ],
                        [
                          0.1,
                          "#c51b7d"
                        ],
                        [
                          0.2,
                          "#de77ae"
                        ],
                        [
                          0.3,
                          "#f1b6da"
                        ],
                        [
                          0.4,
                          "#fde0ef"
                        ],
                        [
                          0.5,
                          "#f7f7f7"
                        ],
                        [
                          0.6,
                          "#e6f5d0"
                        ],
                        [
                          0.7,
                          "#b8e186"
                        ],
                        [
                          0.8,
                          "#7fbc41"
                        ],
                        [
                          0.9,
                          "#4d9221"
                        ],
                        [
                          1,
                          "#276419"
                        ]
                      ],
                      "sequential": [
                        [
                          0,
                          "#0d0887"
                        ],
                        [
                          0.1111111111111111,
                          "#46039f"
                        ],
                        [
                          0.2222222222222222,
                          "#7201a8"
                        ],
                        [
                          0.3333333333333333,
                          "#9c179e"
                        ],
                        [
                          0.4444444444444444,
                          "#bd3786"
                        ],
                        [
                          0.5555555555555556,
                          "#d8576b"
                        ],
                        [
                          0.6666666666666666,
                          "#ed7953"
                        ],
                        [
                          0.7777777777777778,
                          "#fb9f3a"
                        ],
                        [
                          0.8888888888888888,
                          "#fdca26"
                        ],
                        [
                          1,
                          "#f0f921"
                        ]
                      ],
                      "sequentialminus": [
                        [
                          0,
                          "#0d0887"
                        ],
                        [
                          0.1111111111111111,
                          "#46039f"
                        ],
                        [
                          0.2222222222222222,
                          "#7201a8"
                        ],
                        [
                          0.3333333333333333,
                          "#9c179e"
                        ],
                        [
                          0.4444444444444444,
                          "#bd3786"
                        ],
                        [
                          0.5555555555555556,
                          "#d8576b"
                        ],
                        [
                          0.6666666666666666,
                          "#ed7953"
                        ],
                        [
                          0.7777777777777778,
                          "#fb9f3a"
                        ],
                        [
                          0.8888888888888888,
                          "#fdca26"
                        ],
                        [
                          1,
                          "#f0f921"
                        ]
                      ]
                    },
                    "colorway": [
                      "#636efa",
                      "#EF553B",
                      "#00cc96",
                      "#ab63fa",
                      "#FFA15A",
                      "#19d3f3",
                      "#FF6692",
                      "#B6E880",
                      "#FF97FF",
                      "#FECB52"
                    ],
                    "font": {
                      "color": "#2a3f5f"
                    },
                    "geo": {
                      "bgcolor": "white",
                      "lakecolor": "white",
                      "landcolor": "#E5ECF6",
                      "showlakes": true,
                      "showland": true,
                      "subunitcolor": "white"
                    },
                    "hoverlabel": {
                      "align": "left"
                    },
                    "hovermode": "closest",
                    "mapbox": {
                      "style": "light"
                    },
                    "paper_bgcolor": "white",
                    "plot_bgcolor": "#E5ECF6",
                    "polar": {
                      "angularaxis": {
                        "gridcolor": "white",
                        "linecolor": "white",
                        "ticks": ""
                      },
                      "bgcolor": "#E5ECF6",
                      "radialaxis": {
                        "gridcolor": "white",
                        "linecolor": "white",
                        "ticks": ""
                      }
                    },
                    "scene": {
                      "xaxis": {
                        "backgroundcolor": "#E5ECF6",
                        "gridcolor": "white",
                        "gridwidth": 2,
                        "linecolor": "white",
                        "showbackground": true,
                        "ticks": "",
                        "zerolinecolor": "white"
                      },
                      "yaxis": {
                        "backgroundcolor": "#E5ECF6",
                        "gridcolor": "white",
                        "gridwidth": 2,
                        "linecolor": "white",
                        "showbackground": true,
                        "ticks": "",
                        "zerolinecolor": "white"
                      },
                      "zaxis": {
                        "backgroundcolor": "#E5ECF6",
                        "gridcolor": "white",
                        "gridwidth": 2,
                        "linecolor": "white",
                        "showbackground": true,
                        "ticks": "",
                        "zerolinecolor": "white"
                      }
                    },
                    "shapedefaults": {
                      "line": {
                        "color": "#2a3f5f"
                      }
                    },
                    "ternary": {
                      "aaxis": {
                        "gridcolor": "white",
                        "linecolor": "white",
                        "ticks": ""
                      },
                      "baxis": {
                        "gridcolor": "white",
                        "linecolor": "white",
                        "ticks": ""
                      },
                      "bgcolor": "#E5ECF6",
                      "caxis": {
                        "gridcolor": "white",
                        "linecolor": "white",
                        "ticks": ""
                      }
                    },
                    "title": {
                      "x": 0.05
                    },
                    "xaxis": {
                      "automargin": true,
                      "gridcolor": "white",
                      "linecolor": "white",
                      "ticks": "",
                      "title": {
                        "standoff": 15
                      },
                      "zerolinecolor": "white",
                      "zerolinewidth": 2
                    },
                    "yaxis": {
                      "automargin": true,
                      "gridcolor": "white",
                      "linecolor": "white",
                      "ticks": "",
                      "title": {
                        "standoff": 15
                      },
                      "zerolinecolor": "white",
                      "zerolinewidth": 2
                    }
                  }
                },
                "title": {
                  "text": "Average and median temperature by Country"
                },
                "yaxis": {
                  "tickfont": {
                    "color": "red"
                  },
                  "title": {
                    "font": {
                      "color": "black"
                    },
                    "text": "average"
                  }
                },
                "yaxis2": {
                  "overlaying": "y",
                  "side": "right",
                  "tickfont": {
                    "color": "red"
                  },
                  "title": {
                    "font": {
                      "color": "black"
                    },
                    "text": "median"
                  }
                }
              }
            }
          },
          "metadata": {},
          "output_type": "display_data"
        }
      ],
      "source": [
        "fig=go.Figure()\n",
        "fig.add_trace(go.Bar(x=tem2['Country'],y=tem2['mean'],name='Average',yaxis='y1'))\n",
        "fig.add_trace(go.Bar(x=tem2['Country'],y=tem2['median'],name='median',yaxis='y2'))\n",
        "fig.update_layout(title='Average and median temperature by Country',\n",
        "                  yaxis1=dict(title='average',titlefont=dict(color='black'),tickfont=dict(color='red')),\n",
        "                  yaxis2=dict(title='median',titlefont=dict(color='black'),tickfont=dict(color='red'),overlaying='y',side='right'),\n",
        "                  legend=dict(x=0.85,y=1.2)\n",
        "                  )\n",
        "fig.show()"
      ]
    },
    {
      "cell_type": "code",
      "execution_count": 77,
      "metadata": {
        "id": "iOBbt48Brdt_"
      },
      "outputs": [],
      "source": [
        "carbon_emissions=carbon['Value'].agg(['mean','median','var']).reset_index()\n",
        "carbon_emissions.columns=['Statistics','carbon_value']"
      ]
    },
    {
      "cell_type": "code",
      "execution_count": 78,
      "metadata": {
        "colab": {
          "base_uri": "https://localhost:8080/",
          "height": 143
        },
        "id": "o6M9zTXfr5js",
        "outputId": "62ab3a21-e829-4f02-b16c-51dce8308f39"
      },
      "outputs": [
        {
          "data": {
            "text/html": [
              "<div>\n",
              "<style scoped>\n",
              "    .dataframe tbody tr th:only-of-type {\n",
              "        vertical-align: middle;\n",
              "    }\n",
              "\n",
              "    .dataframe tbody tr th {\n",
              "        vertical-align: top;\n",
              "    }\n",
              "\n",
              "    .dataframe thead th {\n",
              "        text-align: right;\n",
              "    }\n",
              "</style>\n",
              "<table border=\"1\" class=\"dataframe\">\n",
              "  <thead>\n",
              "    <tr style=\"text-align: right;\">\n",
              "      <th></th>\n",
              "      <th>Statistics</th>\n",
              "      <th>carbon_value</th>\n",
              "    </tr>\n",
              "  </thead>\n",
              "  <tbody>\n",
              "    <tr>\n",
              "      <th>0</th>\n",
              "      <td>mean</td>\n",
              "      <td>180.716153</td>\n",
              "    </tr>\n",
              "    <tr>\n",
              "      <th>1</th>\n",
              "      <td>median</td>\n",
              "      <td>313.835000</td>\n",
              "    </tr>\n",
              "    <tr>\n",
              "      <th>2</th>\n",
              "      <td>var</td>\n",
              "      <td>32600.002005</td>\n",
              "    </tr>\n",
              "  </tbody>\n",
              "</table>\n",
              "</div>"
            ],
            "text/plain": [
              "  Statistics  carbon_value\n",
              "0       mean    180.716153\n",
              "1     median    313.835000\n",
              "2        var  32600.002005"
            ]
          },
          "execution_count": 78,
          "metadata": {},
          "output_type": "execute_result"
        }
      ],
      "source": [
        "carbon_emissions"
      ]
    },
    {
      "cell_type": "code",
      "execution_count": 79,
      "metadata": {
        "id": "KnOLBDnjsrBf"
      },
      "outputs": [],
      "source": [
        "tem_data=tem.loc[0:,'F1961':'F2022']\n",
        "tem_mean=tem_data.values.flatten().mean()"
      ]
    },
    {
      "cell_type": "code",
      "execution_count": 80,
      "metadata": {
        "colab": {
          "base_uri": "https://localhost:8080/",
          "height": 329
        },
        "id": "FB3T-r6ntL0c",
        "outputId": "6e3db87d-7f06-4094-cd17-08dce491fe00"
      },
      "outputs": [
        {
          "name": "stderr",
          "output_type": "stream",
          "text": [
            "C:\\Users\\Alisina Nazari\\AppData\\Local\\Temp\\ipykernel_10992\\565946507.py:12: FutureWarning:\n",
            "\n",
            "A value is trying to be set on a copy of a DataFrame or Series through chained assignment using an inplace method.\n",
            "The behavior will change in pandas 3.0. This inplace method will never work because the intermediate object on which we are setting values always behaves as a copy.\n",
            "\n",
            "For example, when doing 'df[col].method(value, inplace=True)', try using 'df.method({col: value}, inplace=True)' or df[col] = df[col].method(value) instead, to perform the operation inplace on the original object.\n",
            "\n",
            "\n",
            "\n"
          ]
        },
        {
          "data": {
            "text/html": [
              "<div>\n",
              "<style scoped>\n",
              "    .dataframe tbody tr th:only-of-type {\n",
              "        vertical-align: middle;\n",
              "    }\n",
              "\n",
              "    .dataframe tbody tr th {\n",
              "        vertical-align: top;\n",
              "    }\n",
              "\n",
              "    .dataframe thead th {\n",
              "        text-align: right;\n",
              "    }\n",
              "</style>\n",
              "<table border=\"1\" class=\"dataframe\">\n",
              "  <thead>\n",
              "    <tr style=\"text-align: right;\">\n",
              "      <th></th>\n",
              "      <th>Statistics</th>\n",
              "      <th>values</th>\n",
              "    </tr>\n",
              "  </thead>\n",
              "  <tbody>\n",
              "    <tr>\n",
              "      <th>0</th>\n",
              "      <td>mean</td>\n",
              "      <td>0.537771</td>\n",
              "    </tr>\n",
              "    <tr>\n",
              "      <th>1</th>\n",
              "      <td>median</td>\n",
              "      <td>0.470000</td>\n",
              "    </tr>\n",
              "    <tr>\n",
              "      <th>2</th>\n",
              "      <td>variance</td>\n",
              "      <td>0.429418</td>\n",
              "    </tr>\n",
              "  </tbody>\n",
              "</table>\n",
              "</div>"
            ],
            "text/plain": [
              "  Statistics    values\n",
              "0       mean  0.537771\n",
              "1     median  0.470000\n",
              "2   variance  0.429418"
            ]
          },
          "execution_count": 80,
          "metadata": {},
          "output_type": "execute_result"
        }
      ],
      "source": [
        "numeric_columns = tem.loc[:, 'F1961':'F2022']\n",
        "\n",
        "overall_mean = np.nanmean(numeric_columns.values.flatten())\n",
        "\n",
        "overall_median = np.nanmedian(numeric_columns.values.flatten())\n",
        "\n",
        "overall_variance = np.nanvar(numeric_columns.values.flatten())\n",
        "\n",
        "tempertures=pd.Series([overall_mean,overall_median,overall_variance]).reset_index()\n",
        "tempertures.columns=['Statistics','values']\n",
        "\n",
        "tempertures['Statistics'].replace({0:'mean',1:'median',2:'variance'},inplace=True)\n",
        "tempertures"
      ]
    },
    {
      "cell_type": "markdown",
      "metadata": {
        "id": "R10Zjn_w8ok4"
      },
      "source": [
        "The mean temperature change is approximately 0.54°C, with a median of 0.47°C and a variance of 0.43,\n",
        "indicating slight variability in temperature anomalies. For CO₂ concentrations, the mean is 180.72 ppm,\n",
        " the median is significantly higher at 313.84 ppm, and the variance is 32,600, which reflects substantial variability in CO₂ levels over the dataset’s timeframe.\n",
        " This highlights the stronger fluctuation in CO₂ data compared to temperature changes **bold text**"
      ]
    },
    {
      "cell_type": "code",
      "execution_count": 81,
      "metadata": {
        "colab": {
          "base_uri": "https://localhost:8080/",
          "height": 424
        },
        "id": "5lc8DFsTCguc",
        "outputId": "f784289c-1020-4390-a9bf-b4b140902a86"
      },
      "outputs": [
        {
          "data": {
            "text/html": [
              "<div>\n",
              "<style scoped>\n",
              "    .dataframe tbody tr th:only-of-type {\n",
              "        vertical-align: middle;\n",
              "    }\n",
              "\n",
              "    .dataframe tbody tr th {\n",
              "        vertical-align: top;\n",
              "    }\n",
              "\n",
              "    .dataframe thead th {\n",
              "        text-align: right;\n",
              "    }\n",
              "</style>\n",
              "<table border=\"1\" class=\"dataframe\">\n",
              "  <thead>\n",
              "    <tr style=\"text-align: right;\">\n",
              "      <th></th>\n",
              "      <th>year</th>\n",
              "      <th>temp_mean</th>\n",
              "    </tr>\n",
              "  </thead>\n",
              "  <tbody>\n",
              "    <tr>\n",
              "      <th>0</th>\n",
              "      <td>1961</td>\n",
              "      <td>0.163053</td>\n",
              "    </tr>\n",
              "    <tr>\n",
              "      <th>1</th>\n",
              "      <td>1962</td>\n",
              "      <td>-0.013476</td>\n",
              "    </tr>\n",
              "    <tr>\n",
              "      <th>2</th>\n",
              "      <td>1963</td>\n",
              "      <td>-0.006043</td>\n",
              "    </tr>\n",
              "    <tr>\n",
              "      <th>3</th>\n",
              "      <td>1964</td>\n",
              "      <td>-0.070059</td>\n",
              "    </tr>\n",
              "    <tr>\n",
              "      <th>4</th>\n",
              "      <td>1965</td>\n",
              "      <td>-0.247027</td>\n",
              "    </tr>\n",
              "    <tr>\n",
              "      <th>...</th>\n",
              "      <td>...</td>\n",
              "      <td>...</td>\n",
              "    </tr>\n",
              "    <tr>\n",
              "      <th>57</th>\n",
              "      <td>2018</td>\n",
              "      <td>1.302113</td>\n",
              "    </tr>\n",
              "    <tr>\n",
              "      <th>58</th>\n",
              "      <td>2019</td>\n",
              "      <td>1.443061</td>\n",
              "    </tr>\n",
              "    <tr>\n",
              "      <th>59</th>\n",
              "      <td>2020</td>\n",
              "      <td>1.552038</td>\n",
              "    </tr>\n",
              "    <tr>\n",
              "      <th>60</th>\n",
              "      <td>2021</td>\n",
              "      <td>1.343531</td>\n",
              "    </tr>\n",
              "    <tr>\n",
              "      <th>61</th>\n",
              "      <td>2022</td>\n",
              "      <td>1.382113</td>\n",
              "    </tr>\n",
              "  </tbody>\n",
              "</table>\n",
              "<p>62 rows × 2 columns</p>\n",
              "</div>"
            ],
            "text/plain": [
              "    year  temp_mean\n",
              "0   1961   0.163053\n",
              "1   1962  -0.013476\n",
              "2   1963  -0.006043\n",
              "3   1964  -0.070059\n",
              "4   1965  -0.247027\n",
              "..   ...        ...\n",
              "57  2018   1.302113\n",
              "58  2019   1.443061\n",
              "59  2020   1.552038\n",
              "60  2021   1.343531\n",
              "61  2022   1.382113\n",
              "\n",
              "[62 rows x 2 columns]"
            ]
          },
          "execution_count": 81,
          "metadata": {},
          "output_type": "execute_result"
        }
      ],
      "source": [
        "temperature_years=[]\n",
        "for col in tem.columns[3:222]:\n",
        "  name=col\n",
        "  d=tem[col].mean()\n",
        "  temperature_years.append([name,d])\n",
        "temperature_data=pd.DataFrame(temperature_years)\n",
        "temperature_data.columns=['year','temp_mean']\n",
        "temperature_data.drop(axis=0,index=[62,63,64],inplace=True)\n",
        "temperature_data['year']=temperature_data['year'].str.replace('F','').str.strip().astype('int')\n",
        "temperature_data"
      ]
    },
    {
      "cell_type": "code",
      "execution_count": 82,
      "metadata": {
        "colab": {
          "base_uri": "https://localhost:8080/",
          "height": 424
        },
        "id": "sToE_RYCh4Z9",
        "outputId": "7c792474-bbb6-4e42-8e07-54b8ebe937c4"
      },
      "outputs": [
        {
          "data": {
            "text/html": [
              "<div>\n",
              "<style scoped>\n",
              "    .dataframe tbody tr th:only-of-type {\n",
              "        vertical-align: middle;\n",
              "    }\n",
              "\n",
              "    .dataframe tbody tr th {\n",
              "        vertical-align: top;\n",
              "    }\n",
              "\n",
              "    .dataframe thead th {\n",
              "        text-align: right;\n",
              "    }\n",
              "</style>\n",
              "<table border=\"1\" class=\"dataframe\">\n",
              "  <thead>\n",
              "    <tr style=\"text-align: right;\">\n",
              "      <th></th>\n",
              "      <th>year</th>\n",
              "      <th>carbon_mean</th>\n",
              "    </tr>\n",
              "  </thead>\n",
              "  <tbody>\n",
              "    <tr>\n",
              "      <th>0</th>\n",
              "      <td>1958</td>\n",
              "      <td>315.232000</td>\n",
              "    </tr>\n",
              "    <tr>\n",
              "      <th>1</th>\n",
              "      <td>1959</td>\n",
              "      <td>172.460455</td>\n",
              "    </tr>\n",
              "    <tr>\n",
              "      <th>2</th>\n",
              "      <td>1960</td>\n",
              "      <td>158.601667</td>\n",
              "    </tr>\n",
              "    <tr>\n",
              "      <th>3</th>\n",
              "      <td>1961</td>\n",
              "      <td>158.938333</td>\n",
              "    </tr>\n",
              "    <tr>\n",
              "      <th>4</th>\n",
              "      <td>1962</td>\n",
              "      <td>159.355000</td>\n",
              "    </tr>\n",
              "    <tr>\n",
              "      <th>...</th>\n",
              "      <td>...</td>\n",
              "      <td>...</td>\n",
              "    </tr>\n",
              "    <tr>\n",
              "      <th>62</th>\n",
              "      <td>2020</td>\n",
              "      <td>207.416667</td>\n",
              "    </tr>\n",
              "    <tr>\n",
              "      <th>63</th>\n",
              "      <td>2021</td>\n",
              "      <td>208.472083</td>\n",
              "    </tr>\n",
              "    <tr>\n",
              "      <th>64</th>\n",
              "      <td>2022</td>\n",
              "      <td>209.518333</td>\n",
              "    </tr>\n",
              "    <tr>\n",
              "      <th>65</th>\n",
              "      <td>2023</td>\n",
              "      <td>210.844167</td>\n",
              "    </tr>\n",
              "    <tr>\n",
              "      <th>66</th>\n",
              "      <td>2024</td>\n",
              "      <td>0.680000</td>\n",
              "    </tr>\n",
              "  </tbody>\n",
              "</table>\n",
              "<p>67 rows × 2 columns</p>\n",
              "</div>"
            ],
            "text/plain": [
              "    year  carbon_mean\n",
              "0   1958   315.232000\n",
              "1   1959   172.460455\n",
              "2   1960   158.601667\n",
              "3   1961   158.938333\n",
              "4   1962   159.355000\n",
              "..   ...          ...\n",
              "62  2020   207.416667\n",
              "63  2021   208.472083\n",
              "64  2022   209.518333\n",
              "65  2023   210.844167\n",
              "66  2024     0.680000\n",
              "\n",
              "[67 rows x 2 columns]"
            ]
          },
          "execution_count": 82,
          "metadata": {},
          "output_type": "execute_result"
        }
      ],
      "source": [
        "carbon_o2=carbon.groupby(carbon['Date'].dt.year)['Value'].mean().reset_index()\n",
        "carbon_o2.columns=['year','carbon_mean']\n",
        "carbon_o2"
      ]
    },
    {
      "cell_type": "code",
      "execution_count": 83,
      "metadata": {
        "colab": {
          "base_uri": "https://localhost:8080/",
          "height": 717
        },
        "id": "pV2rObwAADNu",
        "outputId": "8e5be47c-d758-48e9-9fdd-c3a3270e0457"
      },
      "outputs": [
        {
          "data": {
            "application/vnd.plotly.v1+json": {
              "config": {
                "plotlyServerURL": "https://plot.ly"
              },
              "data": [
                {
                  "mode": "lines+markers",
                  "name": "temperature",
                  "type": "scatter",
                  "x": [
                    1961,
                    1962,
                    1963,
                    1964,
                    1965,
                    1966,
                    1967,
                    1968,
                    1969,
                    1970,
                    1971,
                    1972,
                    1973,
                    1974,
                    1975,
                    1976,
                    1977,
                    1978,
                    1979,
                    1980,
                    1981,
                    1982,
                    1983,
                    1984,
                    1985,
                    1986,
                    1987,
                    1988,
                    1989,
                    1990,
                    1991,
                    1992,
                    1993,
                    1994,
                    1995,
                    1996,
                    1997,
                    1998,
                    1999,
                    2000,
                    2001,
                    2002,
                    2003,
                    2004,
                    2005,
                    2006,
                    2007,
                    2008,
                    2009,
                    2010,
                    2011,
                    2012,
                    2013,
                    2014,
                    2015,
                    2016,
                    2017,
                    2018,
                    2019,
                    2020,
                    2021,
                    2022
                  ],
                  "y": [
                    0.1630531914893617,
                    -0.01347619047619048,
                    -0.006042553191489363,
                    -0.07005851063829789,
                    -0.24702659574468086,
                    0.10550520833333336,
                    -0.11083246073298428,
                    -0.19910994764397907,
                    0.15794210526315788,
                    0.09248677248677246,
                    -0.20051308900523562,
                    -0.08490625,
                    0.2293678756476684,
                    -0.16303125,
                    -0.023494680851063827,
                    -0.24591534391534392,
                    0.1658162162162162,
                    0.06962962962962962,
                    0.2337989417989418,
                    0.24728795811518325,
                    0.1786439790575916,
                    0.17649479166666668,
                    0.34459473684210523,
                    0.08011702127659574,
                    0.07128723404255319,
                    0.1511578947368421,
                    0.405021052631579,
                    0.4900894736842106,
                    0.25616842105263155,
                    0.5552592592592592,
                    0.3681648936170213,
                    0.2364903846153846,
                    0.2159856459330144,
                    0.609514423076923,
                    0.6292380952380952,
                    0.27922857142857144,
                    0.5439951690821256,
                    0.971252380952381,
                    0.7433014354066987,
                    0.6697894736842105,
                    0.8501538461538461,
                    0.9249999999999998,
                    0.8442289719626169,
                    0.7778403755868545,
                    0.8529905660377357,
                    0.8765767441860465,
                    1.0225483870967744,
                    0.8084103773584905,
                    0.9105660377358491,
                    1.0990418604651164,
                    0.8213917050691244,
                    0.9022232558139536,
                    0.931199074074074,
                    1.114814814814815,
                    1.269773148148148,
                    1.4395211267605634,
                    1.2807850467289719,
                    1.3021126760563382,
                    1.4430610328638498,
                    1.5520377358490567,
                    1.343530516431925,
                    1.382112676056338
                  ],
                  "yaxis": "y"
                },
                {
                  "mode": "lines+markers",
                  "name": "Co2",
                  "type": "scatter",
                  "x": [
                    1958,
                    1959,
                    1960,
                    1961,
                    1962,
                    1963,
                    1964,
                    1965,
                    1966,
                    1967,
                    1968,
                    1969,
                    1970,
                    1971,
                    1972,
                    1973,
                    1974,
                    1975,
                    1976,
                    1977,
                    1978,
                    1979,
                    1980,
                    1981,
                    1982,
                    1983,
                    1984,
                    1985,
                    1986,
                    1987,
                    1988,
                    1989,
                    1990,
                    1991,
                    1992,
                    1993,
                    1994,
                    1995,
                    1996,
                    1997,
                    1998,
                    1999,
                    2000,
                    2001,
                    2002,
                    2003,
                    2004,
                    2005,
                    2006,
                    2007,
                    2008,
                    2009,
                    2010,
                    2011,
                    2012,
                    2013,
                    2014,
                    2015,
                    2016,
                    2017,
                    2018,
                    2019,
                    2020,
                    2021,
                    2022,
                    2023,
                    2024
                  ],
                  "y": [
                    315.232,
                    172.46045454545455,
                    158.60166666666666,
                    158.93833333333333,
                    159.355,
                    159.58041666666668,
                    159.90583333333333,
                    160.08333333333334,
                    160.89208333333332,
                    161.21666666666667,
                    161.65958333333333,
                    162.555,
                    163.00375,
                    163.25666666666666,
                    163.90291666666667,
                    165.17791666666668,
                    165.17375,
                    165.70708333333332,
                    166.14875,
                    167.19666666666666,
                    167.9425,
                    168.62958333333333,
                    169.66708333333332,
                    170.26041666666666,
                    170.93916666666667,
                    171.8216666666667,
                    172.6833333333333,
                    173.39125,
                    173.98625,
                    174.90125,
                    176.18541666666667,
                    176.8175,
                    177.40333333333334,
                    178.02833333333334,
                    178.39166666666665,
                    178.70125,
                    179.72375,
                    180.76458333333335,
                    181.61791666666667,
                    182.095,
                    183.8275,
                    184.50166666666667,
                    185.01250000000002,
                    185.87708333333333,
                    187.01375,
                    188.33166666666668,
                    189.07625,
                    190.29458333333332,
                    191.32291666666666,
                    192.26541666666665,
                    193.15166666666667,
                    194.05499999999998,
                    195.36833333333334,
                    196.15,
                    197.30958333333334,
                    198.70875,
                    199.66750000000002,
                    200.78208333333336,
                    202.63083333333336,
                    203.66916666666668,
                    204.59875,
                    206.1833333333333,
                    207.41666666666666,
                    208.47208333333333,
                    209.51833333333335,
                    210.84416666666667,
                    0.68
                  ],
                  "yaxis": "y2"
                }
              ],
              "layout": {
                "height": 700,
                "legend": {
                  "x": 1,
                  "y": 1.11
                },
                "template": {
                  "data": {
                    "bar": [
                      {
                        "error_x": {
                          "color": "#2a3f5f"
                        },
                        "error_y": {
                          "color": "#2a3f5f"
                        },
                        "marker": {
                          "line": {
                            "color": "#E5ECF6",
                            "width": 0.5
                          },
                          "pattern": {
                            "fillmode": "overlay",
                            "size": 10,
                            "solidity": 0.2
                          }
                        },
                        "type": "bar"
                      }
                    ],
                    "barpolar": [
                      {
                        "marker": {
                          "line": {
                            "color": "#E5ECF6",
                            "width": 0.5
                          },
                          "pattern": {
                            "fillmode": "overlay",
                            "size": 10,
                            "solidity": 0.2
                          }
                        },
                        "type": "barpolar"
                      }
                    ],
                    "carpet": [
                      {
                        "aaxis": {
                          "endlinecolor": "#2a3f5f",
                          "gridcolor": "white",
                          "linecolor": "white",
                          "minorgridcolor": "white",
                          "startlinecolor": "#2a3f5f"
                        },
                        "baxis": {
                          "endlinecolor": "#2a3f5f",
                          "gridcolor": "white",
                          "linecolor": "white",
                          "minorgridcolor": "white",
                          "startlinecolor": "#2a3f5f"
                        },
                        "type": "carpet"
                      }
                    ],
                    "choropleth": [
                      {
                        "colorbar": {
                          "outlinewidth": 0,
                          "ticks": ""
                        },
                        "type": "choropleth"
                      }
                    ],
                    "contour": [
                      {
                        "colorbar": {
                          "outlinewidth": 0,
                          "ticks": ""
                        },
                        "colorscale": [
                          [
                            0,
                            "#0d0887"
                          ],
                          [
                            0.1111111111111111,
                            "#46039f"
                          ],
                          [
                            0.2222222222222222,
                            "#7201a8"
                          ],
                          [
                            0.3333333333333333,
                            "#9c179e"
                          ],
                          [
                            0.4444444444444444,
                            "#bd3786"
                          ],
                          [
                            0.5555555555555556,
                            "#d8576b"
                          ],
                          [
                            0.6666666666666666,
                            "#ed7953"
                          ],
                          [
                            0.7777777777777778,
                            "#fb9f3a"
                          ],
                          [
                            0.8888888888888888,
                            "#fdca26"
                          ],
                          [
                            1,
                            "#f0f921"
                          ]
                        ],
                        "type": "contour"
                      }
                    ],
                    "contourcarpet": [
                      {
                        "colorbar": {
                          "outlinewidth": 0,
                          "ticks": ""
                        },
                        "type": "contourcarpet"
                      }
                    ],
                    "heatmap": [
                      {
                        "colorbar": {
                          "outlinewidth": 0,
                          "ticks": ""
                        },
                        "colorscale": [
                          [
                            0,
                            "#0d0887"
                          ],
                          [
                            0.1111111111111111,
                            "#46039f"
                          ],
                          [
                            0.2222222222222222,
                            "#7201a8"
                          ],
                          [
                            0.3333333333333333,
                            "#9c179e"
                          ],
                          [
                            0.4444444444444444,
                            "#bd3786"
                          ],
                          [
                            0.5555555555555556,
                            "#d8576b"
                          ],
                          [
                            0.6666666666666666,
                            "#ed7953"
                          ],
                          [
                            0.7777777777777778,
                            "#fb9f3a"
                          ],
                          [
                            0.8888888888888888,
                            "#fdca26"
                          ],
                          [
                            1,
                            "#f0f921"
                          ]
                        ],
                        "type": "heatmap"
                      }
                    ],
                    "heatmapgl": [
                      {
                        "colorbar": {
                          "outlinewidth": 0,
                          "ticks": ""
                        },
                        "colorscale": [
                          [
                            0,
                            "#0d0887"
                          ],
                          [
                            0.1111111111111111,
                            "#46039f"
                          ],
                          [
                            0.2222222222222222,
                            "#7201a8"
                          ],
                          [
                            0.3333333333333333,
                            "#9c179e"
                          ],
                          [
                            0.4444444444444444,
                            "#bd3786"
                          ],
                          [
                            0.5555555555555556,
                            "#d8576b"
                          ],
                          [
                            0.6666666666666666,
                            "#ed7953"
                          ],
                          [
                            0.7777777777777778,
                            "#fb9f3a"
                          ],
                          [
                            0.8888888888888888,
                            "#fdca26"
                          ],
                          [
                            1,
                            "#f0f921"
                          ]
                        ],
                        "type": "heatmapgl"
                      }
                    ],
                    "histogram": [
                      {
                        "marker": {
                          "pattern": {
                            "fillmode": "overlay",
                            "size": 10,
                            "solidity": 0.2
                          }
                        },
                        "type": "histogram"
                      }
                    ],
                    "histogram2d": [
                      {
                        "colorbar": {
                          "outlinewidth": 0,
                          "ticks": ""
                        },
                        "colorscale": [
                          [
                            0,
                            "#0d0887"
                          ],
                          [
                            0.1111111111111111,
                            "#46039f"
                          ],
                          [
                            0.2222222222222222,
                            "#7201a8"
                          ],
                          [
                            0.3333333333333333,
                            "#9c179e"
                          ],
                          [
                            0.4444444444444444,
                            "#bd3786"
                          ],
                          [
                            0.5555555555555556,
                            "#d8576b"
                          ],
                          [
                            0.6666666666666666,
                            "#ed7953"
                          ],
                          [
                            0.7777777777777778,
                            "#fb9f3a"
                          ],
                          [
                            0.8888888888888888,
                            "#fdca26"
                          ],
                          [
                            1,
                            "#f0f921"
                          ]
                        ],
                        "type": "histogram2d"
                      }
                    ],
                    "histogram2dcontour": [
                      {
                        "colorbar": {
                          "outlinewidth": 0,
                          "ticks": ""
                        },
                        "colorscale": [
                          [
                            0,
                            "#0d0887"
                          ],
                          [
                            0.1111111111111111,
                            "#46039f"
                          ],
                          [
                            0.2222222222222222,
                            "#7201a8"
                          ],
                          [
                            0.3333333333333333,
                            "#9c179e"
                          ],
                          [
                            0.4444444444444444,
                            "#bd3786"
                          ],
                          [
                            0.5555555555555556,
                            "#d8576b"
                          ],
                          [
                            0.6666666666666666,
                            "#ed7953"
                          ],
                          [
                            0.7777777777777778,
                            "#fb9f3a"
                          ],
                          [
                            0.8888888888888888,
                            "#fdca26"
                          ],
                          [
                            1,
                            "#f0f921"
                          ]
                        ],
                        "type": "histogram2dcontour"
                      }
                    ],
                    "mesh3d": [
                      {
                        "colorbar": {
                          "outlinewidth": 0,
                          "ticks": ""
                        },
                        "type": "mesh3d"
                      }
                    ],
                    "parcoords": [
                      {
                        "line": {
                          "colorbar": {
                            "outlinewidth": 0,
                            "ticks": ""
                          }
                        },
                        "type": "parcoords"
                      }
                    ],
                    "pie": [
                      {
                        "automargin": true,
                        "type": "pie"
                      }
                    ],
                    "scatter": [
                      {
                        "fillpattern": {
                          "fillmode": "overlay",
                          "size": 10,
                          "solidity": 0.2
                        },
                        "type": "scatter"
                      }
                    ],
                    "scatter3d": [
                      {
                        "line": {
                          "colorbar": {
                            "outlinewidth": 0,
                            "ticks": ""
                          }
                        },
                        "marker": {
                          "colorbar": {
                            "outlinewidth": 0,
                            "ticks": ""
                          }
                        },
                        "type": "scatter3d"
                      }
                    ],
                    "scattercarpet": [
                      {
                        "marker": {
                          "colorbar": {
                            "outlinewidth": 0,
                            "ticks": ""
                          }
                        },
                        "type": "scattercarpet"
                      }
                    ],
                    "scattergeo": [
                      {
                        "marker": {
                          "colorbar": {
                            "outlinewidth": 0,
                            "ticks": ""
                          }
                        },
                        "type": "scattergeo"
                      }
                    ],
                    "scattergl": [
                      {
                        "marker": {
                          "colorbar": {
                            "outlinewidth": 0,
                            "ticks": ""
                          }
                        },
                        "type": "scattergl"
                      }
                    ],
                    "scattermapbox": [
                      {
                        "marker": {
                          "colorbar": {
                            "outlinewidth": 0,
                            "ticks": ""
                          }
                        },
                        "type": "scattermapbox"
                      }
                    ],
                    "scatterpolar": [
                      {
                        "marker": {
                          "colorbar": {
                            "outlinewidth": 0,
                            "ticks": ""
                          }
                        },
                        "type": "scatterpolar"
                      }
                    ],
                    "scatterpolargl": [
                      {
                        "marker": {
                          "colorbar": {
                            "outlinewidth": 0,
                            "ticks": ""
                          }
                        },
                        "type": "scatterpolargl"
                      }
                    ],
                    "scatterternary": [
                      {
                        "marker": {
                          "colorbar": {
                            "outlinewidth": 0,
                            "ticks": ""
                          }
                        },
                        "type": "scatterternary"
                      }
                    ],
                    "surface": [
                      {
                        "colorbar": {
                          "outlinewidth": 0,
                          "ticks": ""
                        },
                        "colorscale": [
                          [
                            0,
                            "#0d0887"
                          ],
                          [
                            0.1111111111111111,
                            "#46039f"
                          ],
                          [
                            0.2222222222222222,
                            "#7201a8"
                          ],
                          [
                            0.3333333333333333,
                            "#9c179e"
                          ],
                          [
                            0.4444444444444444,
                            "#bd3786"
                          ],
                          [
                            0.5555555555555556,
                            "#d8576b"
                          ],
                          [
                            0.6666666666666666,
                            "#ed7953"
                          ],
                          [
                            0.7777777777777778,
                            "#fb9f3a"
                          ],
                          [
                            0.8888888888888888,
                            "#fdca26"
                          ],
                          [
                            1,
                            "#f0f921"
                          ]
                        ],
                        "type": "surface"
                      }
                    ],
                    "table": [
                      {
                        "cells": {
                          "fill": {
                            "color": "#EBF0F8"
                          },
                          "line": {
                            "color": "white"
                          }
                        },
                        "header": {
                          "fill": {
                            "color": "#C8D4E3"
                          },
                          "line": {
                            "color": "white"
                          }
                        },
                        "type": "table"
                      }
                    ]
                  },
                  "layout": {
                    "annotationdefaults": {
                      "arrowcolor": "#2a3f5f",
                      "arrowhead": 0,
                      "arrowwidth": 1
                    },
                    "autotypenumbers": "strict",
                    "coloraxis": {
                      "colorbar": {
                        "outlinewidth": 0,
                        "ticks": ""
                      }
                    },
                    "colorscale": {
                      "diverging": [
                        [
                          0,
                          "#8e0152"
                        ],
                        [
                          0.1,
                          "#c51b7d"
                        ],
                        [
                          0.2,
                          "#de77ae"
                        ],
                        [
                          0.3,
                          "#f1b6da"
                        ],
                        [
                          0.4,
                          "#fde0ef"
                        ],
                        [
                          0.5,
                          "#f7f7f7"
                        ],
                        [
                          0.6,
                          "#e6f5d0"
                        ],
                        [
                          0.7,
                          "#b8e186"
                        ],
                        [
                          0.8,
                          "#7fbc41"
                        ],
                        [
                          0.9,
                          "#4d9221"
                        ],
                        [
                          1,
                          "#276419"
                        ]
                      ],
                      "sequential": [
                        [
                          0,
                          "#0d0887"
                        ],
                        [
                          0.1111111111111111,
                          "#46039f"
                        ],
                        [
                          0.2222222222222222,
                          "#7201a8"
                        ],
                        [
                          0.3333333333333333,
                          "#9c179e"
                        ],
                        [
                          0.4444444444444444,
                          "#bd3786"
                        ],
                        [
                          0.5555555555555556,
                          "#d8576b"
                        ],
                        [
                          0.6666666666666666,
                          "#ed7953"
                        ],
                        [
                          0.7777777777777778,
                          "#fb9f3a"
                        ],
                        [
                          0.8888888888888888,
                          "#fdca26"
                        ],
                        [
                          1,
                          "#f0f921"
                        ]
                      ],
                      "sequentialminus": [
                        [
                          0,
                          "#0d0887"
                        ],
                        [
                          0.1111111111111111,
                          "#46039f"
                        ],
                        [
                          0.2222222222222222,
                          "#7201a8"
                        ],
                        [
                          0.3333333333333333,
                          "#9c179e"
                        ],
                        [
                          0.4444444444444444,
                          "#bd3786"
                        ],
                        [
                          0.5555555555555556,
                          "#d8576b"
                        ],
                        [
                          0.6666666666666666,
                          "#ed7953"
                        ],
                        [
                          0.7777777777777778,
                          "#fb9f3a"
                        ],
                        [
                          0.8888888888888888,
                          "#fdca26"
                        ],
                        [
                          1,
                          "#f0f921"
                        ]
                      ]
                    },
                    "colorway": [
                      "#636efa",
                      "#EF553B",
                      "#00cc96",
                      "#ab63fa",
                      "#FFA15A",
                      "#19d3f3",
                      "#FF6692",
                      "#B6E880",
                      "#FF97FF",
                      "#FECB52"
                    ],
                    "font": {
                      "color": "#2a3f5f"
                    },
                    "geo": {
                      "bgcolor": "white",
                      "lakecolor": "white",
                      "landcolor": "#E5ECF6",
                      "showlakes": true,
                      "showland": true,
                      "subunitcolor": "white"
                    },
                    "hoverlabel": {
                      "align": "left"
                    },
                    "hovermode": "closest",
                    "mapbox": {
                      "style": "light"
                    },
                    "paper_bgcolor": "white",
                    "plot_bgcolor": "#E5ECF6",
                    "polar": {
                      "angularaxis": {
                        "gridcolor": "white",
                        "linecolor": "white",
                        "ticks": ""
                      },
                      "bgcolor": "#E5ECF6",
                      "radialaxis": {
                        "gridcolor": "white",
                        "linecolor": "white",
                        "ticks": ""
                      }
                    },
                    "scene": {
                      "xaxis": {
                        "backgroundcolor": "#E5ECF6",
                        "gridcolor": "white",
                        "gridwidth": 2,
                        "linecolor": "white",
                        "showbackground": true,
                        "ticks": "",
                        "zerolinecolor": "white"
                      },
                      "yaxis": {
                        "backgroundcolor": "#E5ECF6",
                        "gridcolor": "white",
                        "gridwidth": 2,
                        "linecolor": "white",
                        "showbackground": true,
                        "ticks": "",
                        "zerolinecolor": "white"
                      },
                      "zaxis": {
                        "backgroundcolor": "#E5ECF6",
                        "gridcolor": "white",
                        "gridwidth": 2,
                        "linecolor": "white",
                        "showbackground": true,
                        "ticks": "",
                        "zerolinecolor": "white"
                      }
                    },
                    "shapedefaults": {
                      "line": {
                        "color": "#2a3f5f"
                      }
                    },
                    "ternary": {
                      "aaxis": {
                        "gridcolor": "white",
                        "linecolor": "white",
                        "ticks": ""
                      },
                      "baxis": {
                        "gridcolor": "white",
                        "linecolor": "white",
                        "ticks": ""
                      },
                      "bgcolor": "#E5ECF6",
                      "caxis": {
                        "gridcolor": "white",
                        "linecolor": "white",
                        "ticks": ""
                      }
                    },
                    "title": {
                      "x": 0.05
                    },
                    "xaxis": {
                      "automargin": true,
                      "gridcolor": "white",
                      "linecolor": "white",
                      "ticks": "",
                      "title": {
                        "standoff": 15
                      },
                      "zerolinecolor": "white",
                      "zerolinewidth": 2
                    },
                    "yaxis": {
                      "automargin": true,
                      "gridcolor": "white",
                      "linecolor": "white",
                      "ticks": "",
                      "title": {
                        "standoff": 15
                      },
                      "zerolinecolor": "white",
                      "zerolinewidth": 2
                    }
                  }
                },
                "title": {
                  "text": "Time-series of Temperature Change and CO₂ Concentrations"
                },
                "width": 900,
                "yaxis": {
                  "title": {
                    "text": "temperature"
                  }
                },
                "yaxis2": {
                  "overlaying": "y",
                  "side": "right",
                  "title": {
                    "text": "Co2"
                  }
                }
              }
            }
          },
          "metadata": {},
          "output_type": "display_data"
        }
      ],
      "source": [
        "fig=go.Figure()\n",
        "fig.add_trace(go.Scatter(x=temperature_data['year'],y=temperature_data['temp_mean'],mode='lines+markers',yaxis='y1',name='temperature'))\n",
        "fig.add_trace(go.Scatter(x=carbon_o2['year'],y=carbon_o2['carbon_mean'],mode='lines+markers',yaxis='y2',name='Co2'))\n",
        "fig.update_layout(title=\"Time-series of Temperature Change and CO₂ Concentrations\", yaxis1=dict(title='temperature'),\n",
        "yaxis2=dict(title='Co2',overlaying='y',side='right'),\n",
        "legend=dict(x=1,y=1.11),\n",
        "                  height=700,\n",
        "                  width=900\n",
        "                  )\n",
        "\n",
        "fig.show()"
      ]
    },
    {
      "cell_type": "markdown",
      "metadata": {
        "id": "xHcEgVKOU9yu"
      },
      "source": [
        "The time-series graph shows a consistent increase in CO₂ concentrations (measured in ppm) over the years, which indicates the accumulation of greenhouse gases in the atmosphere. Simultaneously, a slight upward trend in global temperature change suggests that rising CO₂ levels are associated with global warming. The temporal alignment supports the hypothesis of CO₂’s significant contribution to temperature increase.\n",
        "\n",
        "**bold text**"
      ]
    },
    {
      "cell_type": "code",
      "execution_count": 84,
      "metadata": {
        "colab": {
          "base_uri": "https://localhost:8080/",
          "height": 424
        },
        "id": "xPpu48-BAFZv",
        "outputId": "20153739-bf4a-4c33-ba01-aed90da15af0"
      },
      "outputs": [
        {
          "data": {
            "text/html": [
              "<div>\n",
              "<style scoped>\n",
              "    .dataframe tbody tr th:only-of-type {\n",
              "        vertical-align: middle;\n",
              "    }\n",
              "\n",
              "    .dataframe tbody tr th {\n",
              "        vertical-align: top;\n",
              "    }\n",
              "\n",
              "    .dataframe thead th {\n",
              "        text-align: right;\n",
              "    }\n",
              "</style>\n",
              "<table border=\"1\" class=\"dataframe\">\n",
              "  <thead>\n",
              "    <tr style=\"text-align: right;\">\n",
              "      <th></th>\n",
              "      <th>year</th>\n",
              "      <th>temp_mean</th>\n",
              "      <th>carbon_mean</th>\n",
              "    </tr>\n",
              "  </thead>\n",
              "  <tbody>\n",
              "    <tr>\n",
              "      <th>3</th>\n",
              "      <td>1961</td>\n",
              "      <td>0.163053</td>\n",
              "      <td>158.938333</td>\n",
              "    </tr>\n",
              "    <tr>\n",
              "      <th>4</th>\n",
              "      <td>1962</td>\n",
              "      <td>-0.013476</td>\n",
              "      <td>159.355000</td>\n",
              "    </tr>\n",
              "    <tr>\n",
              "      <th>5</th>\n",
              "      <td>1963</td>\n",
              "      <td>-0.006043</td>\n",
              "      <td>159.580417</td>\n",
              "    </tr>\n",
              "    <tr>\n",
              "      <th>6</th>\n",
              "      <td>1964</td>\n",
              "      <td>-0.070059</td>\n",
              "      <td>159.905833</td>\n",
              "    </tr>\n",
              "    <tr>\n",
              "      <th>7</th>\n",
              "      <td>1965</td>\n",
              "      <td>-0.247027</td>\n",
              "      <td>160.083333</td>\n",
              "    </tr>\n",
              "    <tr>\n",
              "      <th>...</th>\n",
              "      <td>...</td>\n",
              "      <td>...</td>\n",
              "      <td>...</td>\n",
              "    </tr>\n",
              "    <tr>\n",
              "      <th>60</th>\n",
              "      <td>2018</td>\n",
              "      <td>1.302113</td>\n",
              "      <td>204.598750</td>\n",
              "    </tr>\n",
              "    <tr>\n",
              "      <th>61</th>\n",
              "      <td>2019</td>\n",
              "      <td>1.443061</td>\n",
              "      <td>206.183333</td>\n",
              "    </tr>\n",
              "    <tr>\n",
              "      <th>62</th>\n",
              "      <td>2020</td>\n",
              "      <td>1.552038</td>\n",
              "      <td>207.416667</td>\n",
              "    </tr>\n",
              "    <tr>\n",
              "      <th>63</th>\n",
              "      <td>2021</td>\n",
              "      <td>1.343531</td>\n",
              "      <td>208.472083</td>\n",
              "    </tr>\n",
              "    <tr>\n",
              "      <th>64</th>\n",
              "      <td>2022</td>\n",
              "      <td>1.382113</td>\n",
              "      <td>209.518333</td>\n",
              "    </tr>\n",
              "  </tbody>\n",
              "</table>\n",
              "<p>62 rows × 3 columns</p>\n",
              "</div>"
            ],
            "text/plain": [
              "    year  temp_mean  carbon_mean\n",
              "3   1961   0.163053   158.938333\n",
              "4   1962  -0.013476   159.355000\n",
              "5   1963  -0.006043   159.580417\n",
              "6   1964  -0.070059   159.905833\n",
              "7   1965  -0.247027   160.083333\n",
              "..   ...        ...          ...\n",
              "60  2018   1.302113   204.598750\n",
              "61  2019   1.443061   206.183333\n",
              "62  2020   1.552038   207.416667\n",
              "63  2021   1.343531   208.472083\n",
              "64  2022   1.382113   209.518333\n",
              "\n",
              "[62 rows x 3 columns]"
            ]
          },
          "execution_count": 84,
          "metadata": {},
          "output_type": "execute_result"
        }
      ],
      "source": [
        "Merged_data=pd.merge(left=temperature_data,right=carbon_o2,how='right',on='year')\n",
        "Merged_data.dropna(axis=0,how='any',inplace=True)\n",
        "Merged_data"
      ]
    },
    {
      "cell_type": "code",
      "execution_count": 85,
      "metadata": {
        "colab": {
          "base_uri": "https://localhost:8080/",
          "height": 452
        },
        "id": "hzZ3lI1DUGtV",
        "outputId": "96e5938c-e3d9-4275-bd78-79b4e765bf0f"
      },
      "outputs": [
        {
          "data": {
            "image/png": "[encoded data removed]",
            "text/plain": [
              "<Figure size 640x480 with 2 Axes>"
            ]
          },
          "metadata": {},
          "output_type": "display_data"
        }
      ],
      "source": [
        "sns.heatmap(data=Merged_data[['temp_mean','carbon_mean']].corr(),annot=True)\n",
        "plt.title(\"Correlation heatmap\")\n",
        "plt.show()"
      ]
    },
    {
      "cell_type": "markdown",
      "metadata": {
        "id": "tOIxyNVLYCPp"
      },
      "source": [
        "The heatmap reveals a strong positive correlation (0.96) between CO₂ concentrations and temperature changes. This statistical relationship reinforces the observation that higher CO₂ levels are closely linked with increasing global temperatures, which highlights the importance of addressing carbon emissions to mitigate climate change.\n",
        "\n",
        "**bold text**"
      ]
    },
    {
      "cell_type": "code",
      "execution_count": 86,
      "metadata": {
        "colab": {
          "base_uri": "https://localhost:8080/",
          "height": 542
        },
        "id": "6JPm_oEWX7qc",
        "outputId": "c60704b0-560c-4cc4-c654-ce4c86cdb4a2"
      },
      "outputs": [
        {
          "data": {
            "application/vnd.plotly.v1+json": {
              "config": {
                "plotlyServerURL": "https://plot.ly"
              },
              "data": [
                {
                  "hovertemplate": "temp_mean=%{x}<br>carbon_mean=%{y}<extra></extra>",
                  "legendgroup": "",
                  "marker": {
                    "color": "#636efa",
                    "symbol": "circle"
                  },
                  "mode": "markers",
                  "name": "",
                  "orientation": "v",
                  "showlegend": false,
                  "type": "scatter",
                  "x": [
                    0.1630531914893617,
                    -0.01347619047619048,
                    -0.006042553191489363,
                    -0.07005851063829789,
                    -0.24702659574468086,
                    0.10550520833333336,
                    -0.11083246073298428,
                    -0.19910994764397907,
                    0.15794210526315788,
                    0.09248677248677246,
                    -0.20051308900523562,
                    -0.08490625,
                    0.2293678756476684,
                    -0.16303125,
                    -0.023494680851063827,
                    -0.24591534391534392,
                    0.1658162162162162,
                    0.06962962962962962,
                    0.2337989417989418,
                    0.24728795811518325,
                    0.1786439790575916,
                    0.17649479166666668,
                    0.34459473684210523,
                    0.08011702127659574,
                    0.07128723404255319,
                    0.1511578947368421,
                    0.405021052631579,
                    0.4900894736842106,
                    0.25616842105263155,
                    0.5552592592592592,
                    0.3681648936170213,
                    0.2364903846153846,
                    0.2159856459330144,
                    0.609514423076923,
                    0.6292380952380952,
                    0.27922857142857144,
                    0.5439951690821256,
                    0.971252380952381,
                    0.7433014354066987,
                    0.6697894736842105,
                    0.8501538461538461,
                    0.9249999999999998,
                    0.8442289719626169,
                    0.7778403755868545,
                    0.8529905660377357,
                    0.8765767441860465,
                    1.0225483870967744,
                    0.8084103773584905,
                    0.9105660377358491,
                    1.0990418604651164,
                    0.8213917050691244,
                    0.9022232558139536,
                    0.931199074074074,
                    1.114814814814815,
                    1.269773148148148,
                    1.4395211267605634,
                    1.2807850467289719,
                    1.3021126760563382,
                    1.4430610328638498,
                    1.5520377358490567,
                    1.343530516431925,
                    1.382112676056338
                  ],
                  "xaxis": "x",
                  "y": [
                    158.93833333333333,
                    159.355,
                    159.58041666666668,
                    159.90583333333333,
                    160.08333333333334,
                    160.89208333333332,
                    161.21666666666667,
                    161.65958333333333,
                    162.555,
                    163.00375,
                    163.25666666666666,
                    163.90291666666667,
                    165.17791666666668,
                    165.17375,
                    165.70708333333332,
                    166.14875,
                    167.19666666666666,
                    167.9425,
                    168.62958333333333,
                    169.66708333333332,
                    170.26041666666666,
                    170.93916666666667,
                    171.8216666666667,
                    172.6833333333333,
                    173.39125,
                    173.98625,
                    174.90125,
                    176.18541666666667,
                    176.8175,
                    177.40333333333334,
                    178.02833333333334,
                    178.39166666666665,
                    178.70125,
                    179.72375,
                    180.76458333333335,
                    181.61791666666667,
                    182.095,
                    183.8275,
                    184.50166666666667,
                    185.01250000000002,
                    185.87708333333333,
                    187.01375,
                    188.33166666666668,
                    189.07625,
                    190.29458333333332,
                    191.32291666666666,
                    192.26541666666665,
                    193.15166666666667,
                    194.05499999999998,
                    195.36833333333334,
                    196.15,
                    197.30958333333334,
                    198.70875,
                    199.66750000000002,
                    200.78208333333336,
                    202.63083333333336,
                    203.66916666666668,
                    204.59875,
                    206.1833333333333,
                    207.41666666666666,
                    208.47208333333333,
                    209.51833333333335
                  ],
                  "yaxis": "y"
                }
              ],
              "layout": {
                "legend": {
                  "tracegroupgap": 0
                },
                "margin": {
                  "t": 60
                },
                "template": {
                  "data": {
                    "bar": [
                      {
                        "error_x": {
                          "color": "#2a3f5f"
                        },
                        "error_y": {
                          "color": "#2a3f5f"
                        },
                        "marker": {
                          "line": {
                            "color": "#E5ECF6",
                            "width": 0.5
                          },
                          "pattern": {
                            "fillmode": "overlay",
                            "size": 10,
                            "solidity": 0.2
                          }
                        },
                        "type": "bar"
                      }
                    ],
                    "barpolar": [
                      {
                        "marker": {
                          "line": {
                            "color": "#E5ECF6",
                            "width": 0.5
                          },
                          "pattern": {
                            "fillmode": "overlay",
                            "size": 10,
                            "solidity": 0.2
                          }
                        },
                        "type": "barpolar"
                      }
                    ],
                    "carpet": [
                      {
                        "aaxis": {
                          "endlinecolor": "#2a3f5f",
                          "gridcolor": "white",
                          "linecolor": "white",
                          "minorgridcolor": "white",
                          "startlinecolor": "#2a3f5f"
                        },
                        "baxis": {
                          "endlinecolor": "#2a3f5f",
                          "gridcolor": "white",
                          "linecolor": "white",
                          "minorgridcolor": "white",
                          "startlinecolor": "#2a3f5f"
                        },
                        "type": "carpet"
                      }
                    ],
                    "choropleth": [
                      {
                        "colorbar": {
                          "outlinewidth": 0,
                          "ticks": ""
                        },
                        "type": "choropleth"
                      }
                    ],
                    "contour": [
                      {
                        "colorbar": {
                          "outlinewidth": 0,
                          "ticks": ""
                        },
                        "colorscale": [
                          [
                            0,
                            "#0d0887"
                          ],
                          [
                            0.1111111111111111,
                            "#46039f"
                          ],
                          [
                            0.2222222222222222,
                            "#7201a8"
                          ],
                          [
                            0.3333333333333333,
                            "#9c179e"
                          ],
                          [
                            0.4444444444444444,
                            "#bd3786"
                          ],
                          [
                            0.5555555555555556,
                            "#d8576b"
                          ],
                          [
                            0.6666666666666666,
                            "#ed7953"
                          ],
                          [
                            0.7777777777777778,
                            "#fb9f3a"
                          ],
                          [
                            0.8888888888888888,
                            "#fdca26"
                          ],
                          [
                            1,
                            "#f0f921"
                          ]
                        ],
                        "type": "contour"
                      }
                    ],
                    "contourcarpet": [
                      {
                        "colorbar": {
                          "outlinewidth": 0,
                          "ticks": ""
                        },
                        "type": "contourcarpet"
                      }
                    ],
                    "heatmap": [
                      {
                        "colorbar": {
                          "outlinewidth": 0,
                          "ticks": ""
                        },
                        "colorscale": [
                          [
                            0,
                            "#0d0887"
                          ],
                          [
                            0.1111111111111111,
                            "#46039f"
                          ],
                          [
                            0.2222222222222222,
                            "#7201a8"
                          ],
                          [
                            0.3333333333333333,
                            "#9c179e"
                          ],
                          [
                            0.4444444444444444,
                            "#bd3786"
                          ],
                          [
                            0.5555555555555556,
                            "#d8576b"
                          ],
                          [
                            0.6666666666666666,
                            "#ed7953"
                          ],
                          [
                            0.7777777777777778,
                            "#fb9f3a"
                          ],
                          [
                            0.8888888888888888,
                            "#fdca26"
                          ],
                          [
                            1,
                            "#f0f921"
                          ]
                        ],
                        "type": "heatmap"
                      }
                    ],
                    "heatmapgl": [
                      {
                        "colorbar": {
                          "outlinewidth": 0,
                          "ticks": ""
                        },
                        "colorscale": [
                          [
                            0,
                            "#0d0887"
                          ],
                          [
                            0.1111111111111111,
                            "#46039f"
                          ],
                          [
                            0.2222222222222222,
                            "#7201a8"
                          ],
                          [
                            0.3333333333333333,
                            "#9c179e"
                          ],
                          [
                            0.4444444444444444,
                            "#bd3786"
                          ],
                          [
                            0.5555555555555556,
                            "#d8576b"
                          ],
                          [
                            0.6666666666666666,
                            "#ed7953"
                          ],
                          [
                            0.7777777777777778,
                            "#fb9f3a"
                          ],
                          [
                            0.8888888888888888,
                            "#fdca26"
                          ],
                          [
                            1,
                            "#f0f921"
                          ]
                        ],
                        "type": "heatmapgl"
                      }
                    ],
                    "histogram": [
                      {
                        "marker": {
                          "pattern": {
                            "fillmode": "overlay",
                            "size": 10,
                            "solidity": 0.2
                          }
                        },
                        "type": "histogram"
                      }
                    ],
                    "histogram2d": [
                      {
                        "colorbar": {
                          "outlinewidth": 0,
                          "ticks": ""
                        },
                        "colorscale": [
                          [
                            0,
                            "#0d0887"
                          ],
                          [
                            0.1111111111111111,
                            "#46039f"
                          ],
                          [
                            0.2222222222222222,
                            "#7201a8"
                          ],
                          [
                            0.3333333333333333,
                            "#9c179e"
                          ],
                          [
                            0.4444444444444444,
                            "#bd3786"
                          ],
                          [
                            0.5555555555555556,
                            "#d8576b"
                          ],
                          [
                            0.6666666666666666,
                            "#ed7953"
                          ],
                          [
                            0.7777777777777778,
                            "#fb9f3a"
                          ],
                          [
                            0.8888888888888888,
                            "#fdca26"
                          ],
                          [
                            1,
                            "#f0f921"
                          ]
                        ],
                        "type": "histogram2d"
                      }
                    ],
                    "histogram2dcontour": [
                      {
                        "colorbar": {
                          "outlinewidth": 0,
                          "ticks": ""
                        },
                        "colorscale": [
                          [
                            0,
                            "#0d0887"
                          ],
                          [
                            0.1111111111111111,
                            "#46039f"
                          ],
                          [
                            0.2222222222222222,
                            "#7201a8"
                          ],
                          [
                            0.3333333333333333,
                            "#9c179e"
                          ],
                          [
                            0.4444444444444444,
                            "#bd3786"
                          ],
                          [
                            0.5555555555555556,
                            "#d8576b"
                          ],
                          [
                            0.6666666666666666,
                            "#ed7953"
                          ],
                          [
                            0.7777777777777778,
                            "#fb9f3a"
                          ],
                          [
                            0.8888888888888888,
                            "#fdca26"
                          ],
                          [
                            1,
                            "#f0f921"
                          ]
                        ],
                        "type": "histogram2dcontour"
                      }
                    ],
                    "mesh3d": [
                      {
                        "colorbar": {
                          "outlinewidth": 0,
                          "ticks": ""
                        },
                        "type": "mesh3d"
                      }
                    ],
                    "parcoords": [
                      {
                        "line": {
                          "colorbar": {
                            "outlinewidth": 0,
                            "ticks": ""
                          }
                        },
                        "type": "parcoords"
                      }
                    ],
                    "pie": [
                      {
                        "automargin": true,
                        "type": "pie"
                      }
                    ],
                    "scatter": [
                      {
                        "fillpattern": {
                          "fillmode": "overlay",
                          "size": 10,
                          "solidity": 0.2
                        },
                        "type": "scatter"
                      }
                    ],
                    "scatter3d": [
                      {
                        "line": {
                          "colorbar": {
                            "outlinewidth": 0,
                            "ticks": ""
                          }
                        },
                        "marker": {
                          "colorbar": {
                            "outlinewidth": 0,
                            "ticks": ""
                          }
                        },
                        "type": "scatter3d"
                      }
                    ],
                    "scattercarpet": [
                      {
                        "marker": {
                          "colorbar": {
                            "outlinewidth": 0,
                            "ticks": ""
                          }
                        },
                        "type": "scattercarpet"
                      }
                    ],
                    "scattergeo": [
                      {
                        "marker": {
                          "colorbar": {
                            "outlinewidth": 0,
                            "ticks": ""
                          }
                        },
                        "type": "scattergeo"
                      }
                    ],
                    "scattergl": [
                      {
                        "marker": {
                          "colorbar": {
                            "outlinewidth": 0,
                            "ticks": ""
                          }
                        },
                        "type": "scattergl"
                      }
                    ],
                    "scattermapbox": [
                      {
                        "marker": {
                          "colorbar": {
                            "outlinewidth": 0,
                            "ticks": ""
                          }
                        },
                        "type": "scattermapbox"
                      }
                    ],
                    "scatterpolar": [
                      {
                        "marker": {
                          "colorbar": {
                            "outlinewidth": 0,
                            "ticks": ""
                          }
                        },
                        "type": "scatterpolar"
                      }
                    ],
                    "scatterpolargl": [
                      {
                        "marker": {
                          "colorbar": {
                            "outlinewidth": 0,
                            "ticks": ""
                          }
                        },
                        "type": "scatterpolargl"
                      }
                    ],
                    "scatterternary": [
                      {
                        "marker": {
                          "colorbar": {
                            "outlinewidth": 0,
                            "ticks": ""
                          }
                        },
                        "type": "scatterternary"
                      }
                    ],
                    "surface": [
                      {
                        "colorbar": {
                          "outlinewidth": 0,
                          "ticks": ""
                        },
                        "colorscale": [
                          [
                            0,
                            "#0d0887"
                          ],
                          [
                            0.1111111111111111,
                            "#46039f"
                          ],
                          [
                            0.2222222222222222,
                            "#7201a8"
                          ],
                          [
                            0.3333333333333333,
                            "#9c179e"
                          ],
                          [
                            0.4444444444444444,
                            "#bd3786"
                          ],
                          [
                            0.5555555555555556,
                            "#d8576b"
                          ],
                          [
                            0.6666666666666666,
                            "#ed7953"
                          ],
                          [
                            0.7777777777777778,
                            "#fb9f3a"
                          ],
                          [
                            0.8888888888888888,
                            "#fdca26"
                          ],
                          [
                            1,
                            "#f0f921"
                          ]
                        ],
                        "type": "surface"
                      }
                    ],
                    "table": [
                      {
                        "cells": {
                          "fill": {
                            "color": "#EBF0F8"
                          },
                          "line": {
                            "color": "white"
                          }
                        },
                        "header": {
                          "fill": {
                            "color": "#C8D4E3"
                          },
                          "line": {
                            "color": "white"
                          }
                        },
                        "type": "table"
                      }
                    ]
                  },
                  "layout": {
                    "annotationdefaults": {
                      "arrowcolor": "#2a3f5f",
                      "arrowhead": 0,
                      "arrowwidth": 1
                    },
                    "autotypenumbers": "strict",
                    "coloraxis": {
                      "colorbar": {
                        "outlinewidth": 0,
                        "ticks": ""
                      }
                    },
                    "colorscale": {
                      "diverging": [
                        [
                          0,
                          "#8e0152"
                        ],
                        [
                          0.1,
                          "#c51b7d"
                        ],
                        [
                          0.2,
                          "#de77ae"
                        ],
                        [
                          0.3,
                          "#f1b6da"
                        ],
                        [
                          0.4,
                          "#fde0ef"
                        ],
                        [
                          0.5,
                          "#f7f7f7"
                        ],
                        [
                          0.6,
                          "#e6f5d0"
                        ],
                        [
                          0.7,
                          "#b8e186"
                        ],
                        [
                          0.8,
                          "#7fbc41"
                        ],
                        [
                          0.9,
                          "#4d9221"
                        ],
                        [
                          1,
                          "#276419"
                        ]
                      ],
                      "sequential": [
                        [
                          0,
                          "#0d0887"
                        ],
                        [
                          0.1111111111111111,
                          "#46039f"
                        ],
                        [
                          0.2222222222222222,
                          "#7201a8"
                        ],
                        [
                          0.3333333333333333,
                          "#9c179e"
                        ],
                        [
                          0.4444444444444444,
                          "#bd3786"
                        ],
                        [
                          0.5555555555555556,
                          "#d8576b"
                        ],
                        [
                          0.6666666666666666,
                          "#ed7953"
                        ],
                        [
                          0.7777777777777778,
                          "#fb9f3a"
                        ],
                        [
                          0.8888888888888888,
                          "#fdca26"
                        ],
                        [
                          1,
                          "#f0f921"
                        ]
                      ],
                      "sequentialminus": [
                        [
                          0,
                          "#0d0887"
                        ],
                        [
                          0.1111111111111111,
                          "#46039f"
                        ],
                        [
                          0.2222222222222222,
                          "#7201a8"
                        ],
                        [
                          0.3333333333333333,
                          "#9c179e"
                        ],
                        [
                          0.4444444444444444,
                          "#bd3786"
                        ],
                        [
                          0.5555555555555556,
                          "#d8576b"
                        ],
                        [
                          0.6666666666666666,
                          "#ed7953"
                        ],
                        [
                          0.7777777777777778,
                          "#fb9f3a"
                        ],
                        [
                          0.8888888888888888,
                          "#fdca26"
                        ],
                        [
                          1,
                          "#f0f921"
                        ]
                      ]
                    },
                    "colorway": [
                      "#636efa",
                      "#EF553B",
                      "#00cc96",
                      "#ab63fa",
                      "#FFA15A",
                      "#19d3f3",
                      "#FF6692",
                      "#B6E880",
                      "#FF97FF",
                      "#FECB52"
                    ],
                    "font": {
                      "color": "#2a3f5f"
                    },
                    "geo": {
                      "bgcolor": "white",
                      "lakecolor": "white",
                      "landcolor": "#E5ECF6",
                      "showlakes": true,
                      "showland": true,
                      "subunitcolor": "white"
                    },
                    "hoverlabel": {
                      "align": "left"
                    },
                    "hovermode": "closest",
                    "mapbox": {
                      "style": "light"
                    },
                    "paper_bgcolor": "white",
                    "plot_bgcolor": "#E5ECF6",
                    "polar": {
                      "angularaxis": {
                        "gridcolor": "white",
                        "linecolor": "white",
                        "ticks": ""
                      },
                      "bgcolor": "#E5ECF6",
                      "radialaxis": {
                        "gridcolor": "white",
                        "linecolor": "white",
                        "ticks": ""
                      }
                    },
                    "scene": {
                      "xaxis": {
                        "backgroundcolor": "#E5ECF6",
                        "gridcolor": "white",
                        "gridwidth": 2,
                        "linecolor": "white",
                        "showbackground": true,
                        "ticks": "",
                        "zerolinecolor": "white"
                      },
                      "yaxis": {
                        "backgroundcolor": "#E5ECF6",
                        "gridcolor": "white",
                        "gridwidth": 2,
                        "linecolor": "white",
                        "showbackground": true,
                        "ticks": "",
                        "zerolinecolor": "white"
                      },
                      "zaxis": {
                        "backgroundcolor": "#E5ECF6",
                        "gridcolor": "white",
                        "gridwidth": 2,
                        "linecolor": "white",
                        "showbackground": true,
                        "ticks": "",
                        "zerolinecolor": "white"
                      }
                    },
                    "shapedefaults": {
                      "line": {
                        "color": "#2a3f5f"
                      }
                    },
                    "ternary": {
                      "aaxis": {
                        "gridcolor": "white",
                        "linecolor": "white",
                        "ticks": ""
                      },
                      "baxis": {
                        "gridcolor": "white",
                        "linecolor": "white",
                        "ticks": ""
                      },
                      "bgcolor": "#E5ECF6",
                      "caxis": {
                        "gridcolor": "white",
                        "linecolor": "white",
                        "ticks": ""
                      }
                    },
                    "title": {
                      "x": 0.05
                    },
                    "xaxis": {
                      "automargin": true,
                      "gridcolor": "white",
                      "linecolor": "white",
                      "ticks": "",
                      "title": {
                        "standoff": 15
                      },
                      "zerolinecolor": "white",
                      "zerolinewidth": 2
                    },
                    "yaxis": {
                      "automargin": true,
                      "gridcolor": "white",
                      "linecolor": "white",
                      "ticks": "",
                      "title": {
                        "standoff": 15
                      },
                      "zerolinecolor": "white",
                      "zerolinewidth": 2
                    }
                  }
                },
                "title": {
                  "text": "Temperature Change vs CO₂ Concentration"
                },
                "width": 700,
                "xaxis": {
                  "anchor": "y",
                  "domain": [
                    0,
                    1
                  ],
                  "title": {
                    "text": "Temperature Change"
                  }
                },
                "yaxis": {
                  "anchor": "x",
                  "domain": [
                    0,
                    1
                  ],
                  "title": {
                    "text": "CO₂ Concentration (ppm)"
                  }
                }
              }
            }
          },
          "metadata": {},
          "output_type": "display_data"
        }
      ],
      "source": [
        "fig=px.scatter(data_frame=Merged_data,x='temp_mean',y='carbon_mean')\n",
        "fig.update_layout(title='Temperature Change vs CO₂ Concentration',xaxis_title='Temperature Change',yaxis_title='CO₂ Concentration (ppm)',width=700)\n",
        "fig.show()"
      ]
    },
    {
      "cell_type": "markdown",
      "metadata": {
        "id": "SppyXoLheHQu"
      },
      "source": [
        "The scatter plot shows a clear linear trend, where higher CO₂ concentrations correspond to greater temperature changes. This visual evidence underscores the direct relationship between CO₂ emissions and global warming, which provides further support for policies targeting reductions in carbon emissions to combat climate impacts.\n",
        "\n",
        "**bold text**"
      ]
    },
    {
      "cell_type": "code",
      "execution_count": 87,
      "metadata": {
        "colab": {
          "base_uri": "https://localhost:8080/"
        },
        "id": "noaW9q5dWaDs",
        "outputId": "96e1d3c2-b786-402a-ea99-7376c6fd42dc"
      },
      "outputs": [
        {
          "name": "stdout",
          "output_type": "stream",
          "text": [
            "R-squared Score: 0.8933\n",
            "Carbon Mean: Slope = 0.05529, Intercept = -110.11782\n",
            "Temp Mean: Slope = 0.05522, Intercept = -109.99554\n"
          ]
        }
      ],
      "source": [
        "from sklearn.preprocessing import StandardScaler\n",
        "from sklearn.model_selection import train_test_split\n",
        "from sklearn.linear_model import LinearRegression\n",
        "\n",
        "scaler=StandardScaler()\n",
        "LinearRegress=Merged_data\n",
        "LinearRegress[['carbon_mean_scale', 'temp_mean_scale']]= scaler.fit_transform(LinearRegress[['carbon_mean', 'temp_mean']])\n",
        "\n",
        "y = LinearRegress[['carbon_mean_scale', 'temp_mean_scale']]\n",
        "x = LinearRegress[['year']]\n",
        "\n",
        "\n",
        "x_train, x_test, y_train, y_test = train_test_split(x, y, test_size=0.2,random_state=42)\n",
        "\n",
        "\n",
        "model = LinearRegression()\n",
        "model.fit(x_train, y_train)\n",
        "\n",
        "s = model.score(x_test, y_test)\n",
        "print(f\"R-squared Score: {s:.4f}\")\n",
        "\n",
        "slopes = model.coef_\n",
        "intercepts = model.intercept_\n",
        "\n",
        "\n",
        "carbon_slope = slopes[0, 0]\n",
        "temp_slope = slopes[1, 0]\n",
        "\n",
        "carbon_intercept = intercepts[0]\n",
        "temp_intercept = intercepts[1]\n",
        "\n",
        "LinearRegress['carbon_trend_line'] = carbon_slope * LinearRegress['year'] + carbon_intercept\n",
        "LinearRegress['temp_trend_line'] = temp_slope * LinearRegress['year'] + temp_intercept\n",
        "\n",
        "\n",
        "\n",
        "print(f\"Carbon Mean: Slope = {carbon_slope:.5f}, Intercept = {carbon_intercept:.5f}\")\n",
        "print(f\"Temp Mean: Slope = {temp_slope:.5f}, Intercept = {temp_intercept:.5f}\")\n"
      ]
    },
    {
      "cell_type": "code",
      "execution_count": 88,
      "metadata": {
        "colab": {
          "base_uri": "https://localhost:8080/",
          "height": 424
        },
        "id": "BUUKZCaOvGKG",
        "outputId": "d389950a-41b5-434d-f89e-c696eceaeb7b"
      },
      "outputs": [
        {
          "data": {
            "text/html": [
              "<div>\n",
              "<style scoped>\n",
              "    .dataframe tbody tr th:only-of-type {\n",
              "        vertical-align: middle;\n",
              "    }\n",
              "\n",
              "    .dataframe tbody tr th {\n",
              "        vertical-align: top;\n",
              "    }\n",
              "\n",
              "    .dataframe thead th {\n",
              "        text-align: right;\n",
              "    }\n",
              "</style>\n",
              "<table border=\"1\" class=\"dataframe\">\n",
              "  <thead>\n",
              "    <tr style=\"text-align: right;\">\n",
              "      <th></th>\n",
              "      <th>year</th>\n",
              "      <th>temp_mean</th>\n",
              "      <th>carbon_mean</th>\n",
              "      <th>carbon_mean_scale</th>\n",
              "      <th>temp_mean_scale</th>\n",
              "      <th>carbon_trend_line</th>\n",
              "      <th>temp_trend_line</th>\n",
              "    </tr>\n",
              "  </thead>\n",
              "  <tbody>\n",
              "    <tr>\n",
              "      <th>3</th>\n",
              "      <td>1961</td>\n",
              "      <td>0.163053</td>\n",
              "      <td>158.938333</td>\n",
              "      <td>-1.408843</td>\n",
              "      <td>-0.701450</td>\n",
              "      <td>-1.701430</td>\n",
              "      <td>-1.716589</td>\n",
              "    </tr>\n",
              "    <tr>\n",
              "      <th>4</th>\n",
              "      <td>1962</td>\n",
              "      <td>-0.013476</td>\n",
              "      <td>159.355000</td>\n",
              "      <td>-1.381033</td>\n",
              "      <td>-1.054965</td>\n",
              "      <td>-1.646144</td>\n",
              "      <td>-1.661373</td>\n",
              "    </tr>\n",
              "    <tr>\n",
              "      <th>5</th>\n",
              "      <td>1963</td>\n",
              "      <td>-0.006043</td>\n",
              "      <td>159.580417</td>\n",
              "      <td>-1.365988</td>\n",
              "      <td>-1.040078</td>\n",
              "      <td>-1.590857</td>\n",
              "      <td>-1.606156</td>\n",
              "    </tr>\n",
              "    <tr>\n",
              "      <th>6</th>\n",
              "      <td>1964</td>\n",
              "      <td>-0.070059</td>\n",
              "      <td>159.905833</td>\n",
              "      <td>-1.344269</td>\n",
              "      <td>-1.168275</td>\n",
              "      <td>-1.535571</td>\n",
              "      <td>-1.550940</td>\n",
              "    </tr>\n",
              "    <tr>\n",
              "      <th>7</th>\n",
              "      <td>1965</td>\n",
              "      <td>-0.247027</td>\n",
              "      <td>160.083333</td>\n",
              "      <td>-1.332422</td>\n",
              "      <td>-1.522669</td>\n",
              "      <td>-1.480285</td>\n",
              "      <td>-1.495724</td>\n",
              "    </tr>\n",
              "    <tr>\n",
              "      <th>...</th>\n",
              "      <td>...</td>\n",
              "      <td>...</td>\n",
              "      <td>...</td>\n",
              "      <td>...</td>\n",
              "      <td>...</td>\n",
              "      <td>...</td>\n",
              "      <td>...</td>\n",
              "    </tr>\n",
              "    <tr>\n",
              "      <th>60</th>\n",
              "      <td>2018</td>\n",
              "      <td>1.302113</td>\n",
              "      <td>204.598750</td>\n",
              "      <td>1.638651</td>\n",
              "      <td>1.579611</td>\n",
              "      <td>1.449888</td>\n",
              "      <td>1.430734</td>\n",
              "    </tr>\n",
              "    <tr>\n",
              "      <th>61</th>\n",
              "      <td>2019</td>\n",
              "      <td>1.443061</td>\n",
              "      <td>206.183333</td>\n",
              "      <td>1.744410</td>\n",
              "      <td>1.861872</td>\n",
              "      <td>1.505174</td>\n",
              "      <td>1.485950</td>\n",
              "    </tr>\n",
              "    <tr>\n",
              "      <th>62</th>\n",
              "      <td>2020</td>\n",
              "      <td>1.552038</td>\n",
              "      <td>207.416667</td>\n",
              "      <td>1.826725</td>\n",
              "      <td>2.080107</td>\n",
              "      <td>1.560460</td>\n",
              "      <td>1.541166</td>\n",
              "    </tr>\n",
              "    <tr>\n",
              "      <th>63</th>\n",
              "      <td>2021</td>\n",
              "      <td>1.343531</td>\n",
              "      <td>208.472083</td>\n",
              "      <td>1.897167</td>\n",
              "      <td>1.662554</td>\n",
              "      <td>1.615747</td>\n",
              "      <td>1.596383</td>\n",
              "    </tr>\n",
              "    <tr>\n",
              "      <th>64</th>\n",
              "      <td>2022</td>\n",
              "      <td>1.382113</td>\n",
              "      <td>209.518333</td>\n",
              "      <td>1.966996</td>\n",
              "      <td>1.739818</td>\n",
              "      <td>1.671033</td>\n",
              "      <td>1.651599</td>\n",
              "    </tr>\n",
              "  </tbody>\n",
              "</table>\n",
              "<p>62 rows × 7 columns</p>\n",
              "</div>"
            ],
            "text/plain": [
              "    year  temp_mean  carbon_mean  carbon_mean_scale  temp_mean_scale  \\\n",
              "3   1961   0.163053   158.938333          -1.408843        -0.701450   \n",
              "4   1962  -0.013476   159.355000          -1.381033        -1.054965   \n",
              "5   1963  -0.006043   159.580417          -1.365988        -1.040078   \n",
              "6   1964  -0.070059   159.905833          -1.344269        -1.168275   \n",
              "7   1965  -0.247027   160.083333          -1.332422        -1.522669   \n",
              "..   ...        ...          ...                ...              ...   \n",
              "60  2018   1.302113   204.598750           1.638651         1.579611   \n",
              "61  2019   1.443061   206.183333           1.744410         1.861872   \n",
              "62  2020   1.552038   207.416667           1.826725         2.080107   \n",
              "63  2021   1.343531   208.472083           1.897167         1.662554   \n",
              "64  2022   1.382113   209.518333           1.966996         1.739818   \n",
              "\n",
              "    carbon_trend_line  temp_trend_line  \n",
              "3           -1.701430        -1.716589  \n",
              "4           -1.646144        -1.661373  \n",
              "5           -1.590857        -1.606156  \n",
              "6           -1.535571        -1.550940  \n",
              "7           -1.480285        -1.495724  \n",
              "..                ...              ...  \n",
              "60           1.449888         1.430734  \n",
              "61           1.505174         1.485950  \n",
              "62           1.560460         1.541166  \n",
              "63           1.615747         1.596383  \n",
              "64           1.671033         1.651599  \n",
              "\n",
              "[62 rows x 7 columns]"
            ]
          },
          "execution_count": 88,
          "metadata": {},
          "output_type": "execute_result"
        }
      ],
      "source": [
        "LinearRegress"
      ]
    },
    {
      "cell_type": "markdown",
      "metadata": {
        "id": "WRbBlQRxA91a"
      },
      "source": [
        "**Plotting charts for trend lines for all data**"
      ]
    },
    {
      "cell_type": "code",
      "execution_count": 97,
      "metadata": {
        "colab": {
          "base_uri": "https://localhost:8080/",
          "height": 1000
        },
        "id": "vkXlGZ1ES4RQ",
        "outputId": "cc4658fe-0e1b-437d-f888-8b1779d20b8b"
      },
      "outputs": [
        {
          "data": {
            "image/png": "[encoded data removed]",
            "text/plain": [
              "<Figure size 1000x600 with 1 Axes>"
            ]
          },
          "metadata": {},
          "output_type": "display_data"
        },
        {
          "data": {
            "image/png": "[encoded data removed]",
            "text/plain": [
              "<Figure size 1000x600 with 1 Axes>"
            ]
          },
          "metadata": {},
          "output_type": "display_data"
        }
      ],
      "source": [
        "plt.figure(figsize=(10, 6))\n",
        "plt.scatter(LinearRegress['year'], LinearRegress['temp_mean_scale'], label='Observed Data', color='blue')\n",
        "plt.plot(LinearRegress['year'], LinearRegress['temp_trend_line'],label='Trend Line', color='red')\n",
        "plt.xlabel('Year')\n",
        "plt.ylabel('Temperature Mean(scaled)')\n",
        "plt.title('Temperature Trend Over Time')\n",
        "plt.legend()\n",
        "plt.show()\n",
        "\n",
        "plt.figure(figsize=(10, 6))\n",
        "plt.scatter(LinearRegress['year'], LinearRegress['carbon_mean_scale'], label='Observed Data', color='blue')\n",
        "plt.plot(LinearRegress['year'], LinearRegress['carbon_trend_line'], label='Trend Line', color='red')\n",
        "plt.xlabel('Year')\n",
        "plt.ylabel('Temperature Mean(scaled)')\n",
        "plt.title('Temperature Trend Over Time')\n",
        "plt.legend()\n",
        "plt.show()"
      ]
    },
    {
      "cell_type": "code",
      "execution_count": 92,
      "metadata": {
        "colab": {
          "base_uri": "https://localhost:8080/",
          "height": 542
        },
        "id": "zDA1ps770E0M",
        "outputId": "742d80d7-48a3-4386-cc56-9f92401115e6"
      },
      "outputs": [
        {
          "data": {
            "application/vnd.plotly.v1+json": {
              "config": {
                "plotlyServerURL": "https://plot.ly"
              },
              "data": [
                {
                  "mode": "lines+markers",
                  "name": "CO₂ Concentration (ppm)",
                  "type": "scatter",
                  "x": [
                    1961,
                    1962,
                    1963,
                    1964,
                    1965,
                    1966,
                    1967,
                    1968,
                    1969,
                    1970,
                    1971,
                    1972,
                    1973,
                    1974,
                    1975,
                    1976,
                    1977,
                    1978,
                    1979,
                    1980,
                    1981,
                    1982,
                    1983,
                    1984,
                    1985,
                    1986,
                    1987,
                    1988,
                    1989,
                    1990,
                    1991,
                    1992,
                    1993,
                    1994,
                    1995,
                    1996,
                    1997,
                    1998,
                    1999,
                    2000,
                    2001,
                    2002,
                    2003,
                    2004,
                    2005,
                    2006,
                    2007,
                    2008,
                    2009,
                    2010,
                    2011,
                    2012,
                    2013,
                    2014,
                    2015,
                    2016,
                    2017,
                    2018,
                    2019,
                    2020,
                    2021,
                    2022
                  ],
                  "y": [
                    -1.4088426109103165,
                    -1.3810332105782404,
                    -1.3659883249985856,
                    -1.3442691833392344,
                    -1.3324223787977691,
                    -1.27844433275321,
                    -1.2567808098945212,
                    -1.227219417341524,
                    -1.1674570160278908,
                    -1.137506291870245,
                    -1.1206259858686747,
                    -1.077493605953623,
                    -0.9923968409374683,
                    -0.9926749349407888,
                    -0.9570789025157328,
                    -0.9276009381637299,
                    -0.8576602963285582,
                    -0.8078814697341408,
                    -0.7620237685865464,
                    -0.692778361759676,
                    -0.6531777756867988,
                    -0.6078762625458455,
                    -0.5489759526425058,
                    -0.49146611275577423,
                    -0.4442179415915735,
                    -0.4045061179173682,
                    -0.34343667478812845,
                    -0.2577281029646684,
                    -0.21554124266090863,
                    -0.17644122579400842,
                    -0.13472712529589348,
                    -0.11047732820632385,
                    -0.08981494375959073,
                    -0.02157067534467416,
                    0.04789720668485457,
                    0.10485085856494691,
                    0.13669262194517415,
                    0.25232410852594794,
                    0.2973197182632487,
                    0.3314140430703759,
                    0.38911854875943364,
                    0.46498259286533794,
                    0.5529437261156979,
                    0.6026391245091173,
                    0.6839538110801093,
                    0.7525874110996746,
                    0.8154922746508316,
                    0.8746428691571598,
                    0.9349336490771003,
                    1.0225888789238076,
                    1.0747593139467833,
                    1.1521528750709524,
                    1.2455368413860661,
                    1.309526271550175,
                    1.3839164174384806,
                    1.5073067267119045,
                    1.5766077523394388,
                    1.6386505244803005,
                    1.7444096739431865,
                    1.8267254989261343,
                    1.8971667099672849,
                    1.9669961142011303
                  ],
                  "yaxis": "y"
                },
                {
                  "line": {
                    "dash": "dash"
                  },
                  "mode": "lines",
                  "name": "CO₂ Trend",
                  "type": "scatter",
                  "x": [
                    1961,
                    1962,
                    1963,
                    1964,
                    1965,
                    1966,
                    1967,
                    1968,
                    1969,
                    1970,
                    1971,
                    1972,
                    1973,
                    1974,
                    1975,
                    1976,
                    1977,
                    1978,
                    1979,
                    1980,
                    1981,
                    1982,
                    1983,
                    1984,
                    1985,
                    1986,
                    1987,
                    1988,
                    1989,
                    1990,
                    1991,
                    1992,
                    1993,
                    1994,
                    1995,
                    1996,
                    1997,
                    1998,
                    1999,
                    2000,
                    2001,
                    2002,
                    2003,
                    2004,
                    2005,
                    2006,
                    2007,
                    2008,
                    2009,
                    2010,
                    2011,
                    2012,
                    2013,
                    2014,
                    2015,
                    2016,
                    2017,
                    2018,
                    2019,
                    2020,
                    2021,
                    2022
                  ],
                  "y": [
                    -1.701429954432328,
                    -1.6461436769947824,
                    -1.5908573995572226,
                    -1.5355711221196628,
                    -1.480284844682103,
                    -1.4249985672445575,
                    -1.3697122898069978,
                    -1.314426012369438,
                    -1.2591397349318783,
                    -1.2038534574943185,
                    -1.148567180056773,
                    -1.0932809026192132,
                    -1.0379946251816534,
                    -0.9827083477440937,
                    -0.9274220703065481,
                    -0.8721357928689883,
                    -0.8168495154314286,
                    -0.7615632379938688,
                    -0.7062769605563233,
                    -0.6509906831187635,
                    -0.5957044056812038,
                    -0.540418128243644,
                    -0.48513185080609844,
                    -0.4298455733685387,
                    -0.3745592959309789,
                    -0.31927301849341916,
                    -0.2639867410558736,
                    -0.20870046361831385,
                    -0.1534141861807541,
                    -0.09812790874319433,
                    -0.042841631305634564,
                    0.012444646131910986,
                    0.06773092356947075,
                    0.12301720100703051,
                    0.17830347844459027,
                    0.23358975588213582,
                    0.2888760333196956,
                    0.34416231075725534,
                    0.3994485881948151,
                    0.45473486563236065,
                    0.5100211430699204,
                    0.5653074205074802,
                    0.6205936979450399,
                    0.6758799753825855,
                    0.7311662528201452,
                    0.786452530257705,
                    0.8417388076952648,
                    0.8970250851328103,
                    0.9523113625703701,
                    1.0075976400079298,
                    1.0628839174454896,
                    1.1181701948830494,
                    1.173456472320595,
                    1.2287427497581547,
                    1.2840290271957144,
                    1.3393153046332742,
                    1.3946015820708197,
                    1.4498878595083795,
                    1.5051741369459393,
                    1.560460414383499,
                    1.6157466918210446,
                    1.6710329692586043
                  ],
                  "yaxis": "y"
                },
                {
                  "mode": "lines+markers",
                  "name": "Temperature Change (°C)",
                  "type": "scatter",
                  "x": [
                    1961,
                    1962,
                    1963,
                    1964,
                    1965,
                    1966,
                    1967,
                    1968,
                    1969,
                    1970,
                    1971,
                    1972,
                    1973,
                    1974,
                    1975,
                    1976,
                    1977,
                    1978,
                    1979,
                    1980,
                    1981,
                    1982,
                    1983,
                    1984,
                    1985,
                    1986,
                    1987,
                    1988,
                    1989,
                    1990,
                    1991,
                    1992,
                    1993,
                    1994,
                    1995,
                    1996,
                    1997,
                    1998,
                    1999,
                    2000,
                    2001,
                    2002,
                    2003,
                    2004,
                    2005,
                    2006,
                    2007,
                    2008,
                    2009,
                    2010,
                    2011,
                    2012,
                    2013,
                    2014,
                    2015,
                    2016,
                    2017,
                    2018,
                    2019,
                    2020,
                    2021,
                    2022
                  ],
                  "y": [
                    -0.7014498485798197,
                    -1.054964595479161,
                    -1.0400781195056858,
                    -1.16827539036422,
                    -1.5226686767342597,
                    -0.816694463801669,
                    -1.2499286114162382,
                    -1.4267116097747778,
                    -0.711685223187259,
                    -0.8427649626731847,
                    -1.429521516871634,
                    -1.1980092214354903,
                    -0.5686491865885586,
                    -1.3544610216627206,
                    -1.075027454419425,
                    -1.5204433026644284,
                    -0.6959166621146838,
                    -0.8885382893682373,
                    -0.5597756086520124,
                    -0.5327627333115905,
                    -0.6702280017700931,
                    -0.6745319279951922,
                    -0.3378978282730021,
                    -0.867536416691682,
                    -0.8852187988790661,
                    -0.7252711681467807,
                    -0.21688911292756474,
                    -0.04653253544056004,
                    -0.5149788688198786,
                    0.08397537206201863,
                    -0.2906966319968591,
                    -0.5543857709068459,
                    -0.5954482128914316,
                    0.19262584311349773,
                    0.2321241345273484,
                    -0.4687990027101002,
                    0.06141809607949814,
                    0.9170361435312572,
                    0.46054544536650355,
                    0.3133316373701063,
                    0.6745262712226403,
                    0.8244119097418723,
                    0.6626612186359182,
                    0.5297125412913163,
                    0.6802070383595991,
                    0.7274403187664265,
                    1.0197606556049523,
                    0.5909315084608789,
                    0.7955067016697022,
                    1.1729451882655708,
                    0.6169276952086332,
                    0.7787995880622302,
                    0.8368260703643472,
                    1.2045318391828477,
                    1.514848769873551,
                    1.8547831934107775,
                    1.5369010112417378,
                    1.5796113600781607,
                    1.8618721493467074,
                    2.080107046816964,
                    1.6625540248882038,
                    1.7398180035108444
                  ],
                  "yaxis": "y2"
                },
                {
                  "line": {
                    "dash": "dash"
                  },
                  "mode": "lines",
                  "name": "Temperature Trend",
                  "type": "scatter",
                  "x": [
                    1961,
                    1962,
                    1963,
                    1964,
                    1965,
                    1966,
                    1967,
                    1968,
                    1969,
                    1970,
                    1971,
                    1972,
                    1973,
                    1974,
                    1975,
                    1976,
                    1977,
                    1978,
                    1979,
                    1980,
                    1981,
                    1982,
                    1983,
                    1984,
                    1985,
                    1986,
                    1987,
                    1988,
                    1989,
                    1990,
                    1991,
                    1992,
                    1993,
                    1994,
                    1995,
                    1996,
                    1997,
                    1998,
                    1999,
                    2000,
                    2001,
                    2002,
                    2003,
                    2004,
                    2005,
                    2006,
                    2007,
                    2008,
                    2009,
                    2010,
                    2011,
                    2012,
                    2013,
                    2014,
                    2015,
                    2016,
                    2017,
                    2018,
                    2019,
                    2020,
                    2021,
                    2022
                  ],
                  "y": [
                    -1.7165888684317565,
                    -1.6613726787543186,
                    -1.6061564890768665,
                    -1.5509402993994286,
                    -1.4957241097219907,
                    -1.4405079200445527,
                    -1.3852917303671006,
                    -1.3300755406896627,
                    -1.2748593510122248,
                    -1.2196431613347727,
                    -1.1644269716573348,
                    -1.1092107819798969,
                    -1.053994592302459,
                    -0.9987784026250068,
                    -0.9435622129475689,
                    -0.888346023270131,
                    -0.8331298335926789,
                    -0.777913643915241,
                    -0.7226974542378031,
                    -0.6674812645603652,
                    -0.612265074882913,
                    -0.5570488852054751,
                    -0.5018326955280372,
                    -0.4466165058505993,
                    -0.3914003161731472,
                    -0.3361841264957093,
                    -0.28096793681827137,
                    -0.22575174714081925,
                    -0.17053555746338134,
                    -0.11531936778594343,
                    -0.06010317810850552,
                    -0.004886988431053396,
                    0.050329201246384514,
                    0.10554539092382242,
                    0.16076158060126033,
                    0.21597777027871246,
                    0.27119395995615037,
                    0.3264101496335883,
                    0.3816263393110404,
                    0.4368425289884783,
                    0.4920587186659162,
                    0.5472749083433541,
                    0.6024910980208062,
                    0.6577072876982442,
                    0.7129234773756821,
                    0.76813966705312,
                    0.8233558567305721,
                    0.87857204640801,
                    0.9337882360854479,
                    0.9890044257629,
                    1.044220615440338,
                    1.0994368051177759,
                    1.1546529947952138,
                    1.209869184472666,
                    1.2650853741501038,
                    1.3203015638275417,
                    1.3755177535049796,
                    1.4307339431824317,
                    1.4859501328598697,
                    1.5411663225373076,
                    1.5963825122147597,
                    1.6515987018921976
                  ],
                  "yaxis": "y2"
                }
              ],
              "layout": {
                "legend": {
                  "title": {
                    "text": "Metrics"
                  },
                  "x": 0.85,
                  "y": 1.3
                },
                "template": {
                  "data": {
                    "bar": [
                      {
                        "error_x": {
                          "color": "#2a3f5f"
                        },
                        "error_y": {
                          "color": "#2a3f5f"
                        },
                        "marker": {
                          "line": {
                            "color": "white",
                            "width": 0.5
                          },
                          "pattern": {
                            "fillmode": "overlay",
                            "size": 10,
                            "solidity": 0.2
                          }
                        },
                        "type": "bar"
                      }
                    ],
                    "barpolar": [
                      {
                        "marker": {
                          "line": {
                            "color": "white",
                            "width": 0.5
                          },
                          "pattern": {
                            "fillmode": "overlay",
                            "size": 10,
                            "solidity": 0.2
                          }
                        },
                        "type": "barpolar"
                      }
                    ],
                    "carpet": [
                      {
                        "aaxis": {
                          "endlinecolor": "#2a3f5f",
                          "gridcolor": "#C8D4E3",
                          "linecolor": "#C8D4E3",
                          "minorgridcolor": "#C8D4E3",
                          "startlinecolor": "#2a3f5f"
                        },
                        "baxis": {
                          "endlinecolor": "#2a3f5f",
                          "gridcolor": "#C8D4E3",
                          "linecolor": "#C8D4E3",
                          "minorgridcolor": "#C8D4E3",
                          "startlinecolor": "#2a3f5f"
                        },
                        "type": "carpet"
                      }
                    ],
                    "choropleth": [
                      {
                        "colorbar": {
                          "outlinewidth": 0,
                          "ticks": ""
                        },
                        "type": "choropleth"
                      }
                    ],
                    "contour": [
                      {
                        "colorbar": {
                          "outlinewidth": 0,
                          "ticks": ""
                        },
                        "colorscale": [
                          [
                            0,
                            "#0d0887"
                          ],
                          [
                            0.1111111111111111,
                            "#46039f"
                          ],
                          [
                            0.2222222222222222,
                            "#7201a8"
                          ],
                          [
                            0.3333333333333333,
                            "#9c179e"
                          ],
                          [
                            0.4444444444444444,
                            "#bd3786"
                          ],
                          [
                            0.5555555555555556,
                            "#d8576b"
                          ],
                          [
                            0.6666666666666666,
                            "#ed7953"
                          ],
                          [
                            0.7777777777777778,
                            "#fb9f3a"
                          ],
                          [
                            0.8888888888888888,
                            "#fdca26"
                          ],
                          [
                            1,
                            "#f0f921"
                          ]
                        ],
                        "type": "contour"
                      }
                    ],
                    "contourcarpet": [
                      {
                        "colorbar": {
                          "outlinewidth": 0,
                          "ticks": ""
                        },
                        "type": "contourcarpet"
                      }
                    ],
                    "heatmap": [
                      {
                        "colorbar": {
                          "outlinewidth": 0,
                          "ticks": ""
                        },
                        "colorscale": [
                          [
                            0,
                            "#0d0887"
                          ],
                          [
                            0.1111111111111111,
                            "#46039f"
                          ],
                          [
                            0.2222222222222222,
                            "#7201a8"
                          ],
                          [
                            0.3333333333333333,
                            "#9c179e"
                          ],
                          [
                            0.4444444444444444,
                            "#bd3786"
                          ],
                          [
                            0.5555555555555556,
                            "#d8576b"
                          ],
                          [
                            0.6666666666666666,
                            "#ed7953"
                          ],
                          [
                            0.7777777777777778,
                            "#fb9f3a"
                          ],
                          [
                            0.8888888888888888,
                            "#fdca26"
                          ],
                          [
                            1,
                            "#f0f921"
                          ]
                        ],
                        "type": "heatmap"
                      }
                    ],
                    "heatmapgl": [
                      {
                        "colorbar": {
                          "outlinewidth": 0,
                          "ticks": ""
                        },
                        "colorscale": [
                          [
                            0,
                            "#0d0887"
                          ],
                          [
                            0.1111111111111111,
                            "#46039f"
                          ],
                          [
                            0.2222222222222222,
                            "#7201a8"
                          ],
                          [
                            0.3333333333333333,
                            "#9c179e"
                          ],
                          [
                            0.4444444444444444,
                            "#bd3786"
                          ],
                          [
                            0.5555555555555556,
                            "#d8576b"
                          ],
                          [
                            0.6666666666666666,
                            "#ed7953"
                          ],
                          [
                            0.7777777777777778,
                            "#fb9f3a"
                          ],
                          [
                            0.8888888888888888,
                            "#fdca26"
                          ],
                          [
                            1,
                            "#f0f921"
                          ]
                        ],
                        "type": "heatmapgl"
                      }
                    ],
                    "histogram": [
                      {
                        "marker": {
                          "pattern": {
                            "fillmode": "overlay",
                            "size": 10,
                            "solidity": 0.2
                          }
                        },
                        "type": "histogram"
                      }
                    ],
                    "histogram2d": [
                      {
                        "colorbar": {
                          "outlinewidth": 0,
                          "ticks": ""
                        },
                        "colorscale": [
                          [
                            0,
                            "#0d0887"
                          ],
                          [
                            0.1111111111111111,
                            "#46039f"
                          ],
                          [
                            0.2222222222222222,
                            "#7201a8"
                          ],
                          [
                            0.3333333333333333,
                            "#9c179e"
                          ],
                          [
                            0.4444444444444444,
                            "#bd3786"
                          ],
                          [
                            0.5555555555555556,
                            "#d8576b"
                          ],
                          [
                            0.6666666666666666,
                            "#ed7953"
                          ],
                          [
                            0.7777777777777778,
                            "#fb9f3a"
                          ],
                          [
                            0.8888888888888888,
                            "#fdca26"
                          ],
                          [
                            1,
                            "#f0f921"
                          ]
                        ],
                        "type": "histogram2d"
                      }
                    ],
                    "histogram2dcontour": [
                      {
                        "colorbar": {
                          "outlinewidth": 0,
                          "ticks": ""
                        },
                        "colorscale": [
                          [
                            0,
                            "#0d0887"
                          ],
                          [
                            0.1111111111111111,
                            "#46039f"
                          ],
                          [
                            0.2222222222222222,
                            "#7201a8"
                          ],
                          [
                            0.3333333333333333,
                            "#9c179e"
                          ],
                          [
                            0.4444444444444444,
                            "#bd3786"
                          ],
                          [
                            0.5555555555555556,
                            "#d8576b"
                          ],
                          [
                            0.6666666666666666,
                            "#ed7953"
                          ],
                          [
                            0.7777777777777778,
                            "#fb9f3a"
                          ],
                          [
                            0.8888888888888888,
                            "#fdca26"
                          ],
                          [
                            1,
                            "#f0f921"
                          ]
                        ],
                        "type": "histogram2dcontour"
                      }
                    ],
                    "mesh3d": [
                      {
                        "colorbar": {
                          "outlinewidth": 0,
                          "ticks": ""
                        },
                        "type": "mesh3d"
                      }
                    ],
                    "parcoords": [
                      {
                        "line": {
                          "colorbar": {
                            "outlinewidth": 0,
                            "ticks": ""
                          }
                        },
                        "type": "parcoords"
                      }
                    ],
                    "pie": [
                      {
                        "automargin": true,
                        "type": "pie"
                      }
                    ],
                    "scatter": [
                      {
                        "fillpattern": {
                          "fillmode": "overlay",
                          "size": 10,
                          "solidity": 0.2
                        },
                        "type": "scatter"
                      }
                    ],
                    "scatter3d": [
                      {
                        "line": {
                          "colorbar": {
                            "outlinewidth": 0,
                            "ticks": ""
                          }
                        },
                        "marker": {
                          "colorbar": {
                            "outlinewidth": 0,
                            "ticks": ""
                          }
                        },
                        "type": "scatter3d"
                      }
                    ],
                    "scattercarpet": [
                      {
                        "marker": {
                          "colorbar": {
                            "outlinewidth": 0,
                            "ticks": ""
                          }
                        },
                        "type": "scattercarpet"
                      }
                    ],
                    "scattergeo": [
                      {
                        "marker": {
                          "colorbar": {
                            "outlinewidth": 0,
                            "ticks": ""
                          }
                        },
                        "type": "scattergeo"
                      }
                    ],
                    "scattergl": [
                      {
                        "marker": {
                          "colorbar": {
                            "outlinewidth": 0,
                            "ticks": ""
                          }
                        },
                        "type": "scattergl"
                      }
                    ],
                    "scattermapbox": [
                      {
                        "marker": {
                          "colorbar": {
                            "outlinewidth": 0,
                            "ticks": ""
                          }
                        },
                        "type": "scattermapbox"
                      }
                    ],
                    "scatterpolar": [
                      {
                        "marker": {
                          "colorbar": {
                            "outlinewidth": 0,
                            "ticks": ""
                          }
                        },
                        "type": "scatterpolar"
                      }
                    ],
                    "scatterpolargl": [
                      {
                        "marker": {
                          "colorbar": {
                            "outlinewidth": 0,
                            "ticks": ""
                          }
                        },
                        "type": "scatterpolargl"
                      }
                    ],
                    "scatterternary": [
                      {
                        "marker": {
                          "colorbar": {
                            "outlinewidth": 0,
                            "ticks": ""
                          }
                        },
                        "type": "scatterternary"
                      }
                    ],
                    "surface": [
                      {
                        "colorbar": {
                          "outlinewidth": 0,
                          "ticks": ""
                        },
                        "colorscale": [
                          [
                            0,
                            "#0d0887"
                          ],
                          [
                            0.1111111111111111,
                            "#46039f"
                          ],
                          [
                            0.2222222222222222,
                            "#7201a8"
                          ],
                          [
                            0.3333333333333333,
                            "#9c179e"
                          ],
                          [
                            0.4444444444444444,
                            "#bd3786"
                          ],
                          [
                            0.5555555555555556,
                            "#d8576b"
                          ],
                          [
                            0.6666666666666666,
                            "#ed7953"
                          ],
                          [
                            0.7777777777777778,
                            "#fb9f3a"
                          ],
                          [
                            0.8888888888888888,
                            "#fdca26"
                          ],
                          [
                            1,
                            "#f0f921"
                          ]
                        ],
                        "type": "surface"
                      }
                    ],
                    "table": [
                      {
                        "cells": {
                          "fill": {
                            "color": "#EBF0F8"
                          },
                          "line": {
                            "color": "white"
                          }
                        },
                        "header": {
                          "fill": {
                            "color": "#C8D4E3"
                          },
                          "line": {
                            "color": "white"
                          }
                        },
                        "type": "table"
                      }
                    ]
                  },
                  "layout": {
                    "annotationdefaults": {
                      "arrowcolor": "#2a3f5f",
                      "arrowhead": 0,
                      "arrowwidth": 1
                    },
                    "autotypenumbers": "strict",
                    "coloraxis": {
                      "colorbar": {
                        "outlinewidth": 0,
                        "ticks": ""
                      }
                    },
                    "colorscale": {
                      "diverging": [
                        [
                          0,
                          "#8e0152"
                        ],
                        [
                          0.1,
                          "#c51b7d"
                        ],
                        [
                          0.2,
                          "#de77ae"
                        ],
                        [
                          0.3,
                          "#f1b6da"
                        ],
                        [
                          0.4,
                          "#fde0ef"
                        ],
                        [
                          0.5,
                          "#f7f7f7"
                        ],
                        [
                          0.6,
                          "#e6f5d0"
                        ],
                        [
                          0.7,
                          "#b8e186"
                        ],
                        [
                          0.8,
                          "#7fbc41"
                        ],
                        [
                          0.9,
                          "#4d9221"
                        ],
                        [
                          1,
                          "#276419"
                        ]
                      ],
                      "sequential": [
                        [
                          0,
                          "#0d0887"
                        ],
                        [
                          0.1111111111111111,
                          "#46039f"
                        ],
                        [
                          0.2222222222222222,
                          "#7201a8"
                        ],
                        [
                          0.3333333333333333,
                          "#9c179e"
                        ],
                        [
                          0.4444444444444444,
                          "#bd3786"
                        ],
                        [
                          0.5555555555555556,
                          "#d8576b"
                        ],
                        [
                          0.6666666666666666,
                          "#ed7953"
                        ],
                        [
                          0.7777777777777778,
                          "#fb9f3a"
                        ],
                        [
                          0.8888888888888888,
                          "#fdca26"
                        ],
                        [
                          1,
                          "#f0f921"
                        ]
                      ],
                      "sequentialminus": [
                        [
                          0,
                          "#0d0887"
                        ],
                        [
                          0.1111111111111111,
                          "#46039f"
                        ],
                        [
                          0.2222222222222222,
                          "#7201a8"
                        ],
                        [
                          0.3333333333333333,
                          "#9c179e"
                        ],
                        [
                          0.4444444444444444,
                          "#bd3786"
                        ],
                        [
                          0.5555555555555556,
                          "#d8576b"
                        ],
                        [
                          0.6666666666666666,
                          "#ed7953"
                        ],
                        [
                          0.7777777777777778,
                          "#fb9f3a"
                        ],
                        [
                          0.8888888888888888,
                          "#fdca26"
                        ],
                        [
                          1,
                          "#f0f921"
                        ]
                      ]
                    },
                    "colorway": [
                      "#636efa",
                      "#EF553B",
                      "#00cc96",
                      "#ab63fa",
                      "#FFA15A",
                      "#19d3f3",
                      "#FF6692",
                      "#B6E880",
                      "#FF97FF",
                      "#FECB52"
                    ],
                    "font": {
                      "color": "#2a3f5f"
                    },
                    "geo": {
                      "bgcolor": "white",
                      "lakecolor": "white",
                      "landcolor": "white",
                      "showlakes": true,
                      "showland": true,
                      "subunitcolor": "#C8D4E3"
                    },
                    "hoverlabel": {
                      "align": "left"
                    },
                    "hovermode": "closest",
                    "mapbox": {
                      "style": "light"
                    },
                    "paper_bgcolor": "white",
                    "plot_bgcolor": "white",
                    "polar": {
                      "angularaxis": {
                        "gridcolor": "#EBF0F8",
                        "linecolor": "#EBF0F8",
                        "ticks": ""
                      },
                      "bgcolor": "white",
                      "radialaxis": {
                        "gridcolor": "#EBF0F8",
                        "linecolor": "#EBF0F8",
                        "ticks": ""
                      }
                    },
                    "scene": {
                      "xaxis": {
                        "backgroundcolor": "white",
                        "gridcolor": "#DFE8F3",
                        "gridwidth": 2,
                        "linecolor": "#EBF0F8",
                        "showbackground": true,
                        "ticks": "",
                        "zerolinecolor": "#EBF0F8"
                      },
                      "yaxis": {
                        "backgroundcolor": "white",
                        "gridcolor": "#DFE8F3",
                        "gridwidth": 2,
                        "linecolor": "#EBF0F8",
                        "showbackground": true,
                        "ticks": "",
                        "zerolinecolor": "#EBF0F8"
                      },
                      "zaxis": {
                        "backgroundcolor": "white",
                        "gridcolor": "#DFE8F3",
                        "gridwidth": 2,
                        "linecolor": "#EBF0F8",
                        "showbackground": true,
                        "ticks": "",
                        "zerolinecolor": "#EBF0F8"
                      }
                    },
                    "shapedefaults": {
                      "line": {
                        "color": "#2a3f5f"
                      }
                    },
                    "ternary": {
                      "aaxis": {
                        "gridcolor": "#DFE8F3",
                        "linecolor": "#A2B1C6",
                        "ticks": ""
                      },
                      "baxis": {
                        "gridcolor": "#DFE8F3",
                        "linecolor": "#A2B1C6",
                        "ticks": ""
                      },
                      "bgcolor": "white",
                      "caxis": {
                        "gridcolor": "#DFE8F3",
                        "linecolor": "#A2B1C6",
                        "ticks": ""
                      }
                    },
                    "title": {
                      "x": 0.05
                    },
                    "xaxis": {
                      "automargin": true,
                      "gridcolor": "#EBF0F8",
                      "linecolor": "#EBF0F8",
                      "ticks": "",
                      "title": {
                        "standoff": 15
                      },
                      "zerolinecolor": "#EBF0F8",
                      "zerolinewidth": 2
                    },
                    "yaxis": {
                      "automargin": true,
                      "gridcolor": "#EBF0F8",
                      "linecolor": "#EBF0F8",
                      "ticks": "",
                      "title": {
                        "standoff": 15
                      },
                      "zerolinecolor": "#EBF0F8",
                      "zerolinewidth": 2
                    }
                  }
                },
                "title": {
                  "text": "Trends in Temperature Change and CO₂ Concentrations"
                },
                "xaxis": {
                  "title": {
                    "text": "Year"
                  }
                },
                "yaxis": {
                  "title": {
                    "text": "CO₂ Concentration (ppm)[Scaled]"
                  }
                },
                "yaxis2": {
                  "overlaying": "y",
                  "side": "right",
                  "title": {
                    "text": "Temperature Change (°C)[Scaled]"
                  }
                }
              }
            }
          },
          "metadata": {},
          "output_type": "display_data"
        }
      ],
      "source": [
        "fig=go.Figure()\n",
        "fig.add_trace(go.Scatter(x=LinearRegress['year'],y=LinearRegress['carbon_mean_scale'],mode='lines+markers', name=\"CO₂ Concentration (ppm)\",yaxis='y1'))\n",
        "fig.add_trace(go.Scatter(x=LinearRegress['year'],y=LinearRegress['carbon_trend_line'], mode='lines', name=\"CO₂ Trend\",line=dict(dash='dash'),yaxis='y1'))\n",
        "fig.add_trace(go.Scatter(x=LinearRegress['year'],y=LinearRegress['temp_mean_scale'],mode='lines+markers', name=\"Temperature Change (°C)\",yaxis='y2'))\n",
        "fig.add_trace(go.Scatter(x=LinearRegress['year'],y=LinearRegress['temp_trend_line'],mode='lines', name=\"Temperature Trend\", line=dict(dash='dash'),yaxis='y2'))\n",
        "fig.update_layout(\n",
        "    title=\"Trends in Temperature Change and CO₂ Concentrations\",\n",
        "    xaxis_title=\"Year\",\n",
        "    yaxis_title=\"CO₂ Concentration (ppm)[Scaled]\",\n",
        "    yaxis2=dict(title='Temperature Change (°C)[Scaled]',overlaying='y',side='right'),\n",
        "    template=\"plotly_white\",\n",
        "    legend_title=\"Metrics\",\n",
        "    legend=dict(x=0.85,y=1.3)\n",
        ")\n",
        "fig.show()"
      ]
    },
    {
      "cell_type": "code",
      "execution_count": 93,
      "metadata": {
        "id": "nIufKIMAkKMp"
      },
      "outputs": [],
      "source": [
        "from sklearn.cluster import KMeans\n",
        "\n",
        "clustering_data = Merged_data\n",
        "\n",
        "Model1 = KMeans(n_clusters=3, random_state=42)\n",
        "clustering_data['Cluster'] = Model1.fit_predict(clustering_data[[\"temp_mean\", \"carbon_mean\"]])\n",
        "\n",
        "def cluss(x):\n",
        "  if x==0:\n",
        "    return 'Moderate Temp & CO₂'\n",
        "  elif x==1:\n",
        "    return 'High Temp & CO₂'\n",
        "  else:\n",
        "    return 'Low Temp & CO₂'\n",
        "\n",
        "\n",
        "clustering_data['Label']=clustering_data['Cluster'].apply(cluss)"
      ]
    },
    {
      "cell_type": "code",
      "execution_count": 95,
      "metadata": {
        "colab": {
          "base_uri": "https://localhost:8080/",
          "height": 424
        },
        "id": "l5vi4TEFrOI0",
        "outputId": "e1496902-8502-4d56-e23e-44f311ca65ff"
      },
      "outputs": [
        {
          "data": {
            "text/html": [
              "<div>\n",
              "<style scoped>\n",
              "    .dataframe tbody tr th:only-of-type {\n",
              "        vertical-align: middle;\n",
              "    }\n",
              "\n",
              "    .dataframe tbody tr th {\n",
              "        vertical-align: top;\n",
              "    }\n",
              "\n",
              "    .dataframe thead th {\n",
              "        text-align: right;\n",
              "    }\n",
              "</style>\n",
              "<table border=\"1\" class=\"dataframe\">\n",
              "  <thead>\n",
              "    <tr style=\"text-align: right;\">\n",
              "      <th></th>\n",
              "      <th>year</th>\n",
              "      <th>temp_mean</th>\n",
              "      <th>carbon_mean</th>\n",
              "      <th>carbon_mean_scale</th>\n",
              "      <th>temp_mean_scale</th>\n",
              "      <th>carbon_trend_line</th>\n",
              "      <th>temp_trend_line</th>\n",
              "      <th>Cluster</th>\n",
              "      <th>Label</th>\n",
              "    </tr>\n",
              "  </thead>\n",
              "  <tbody>\n",
              "    <tr>\n",
              "      <th>3</th>\n",
              "      <td>1961</td>\n",
              "      <td>0.163053</td>\n",
              "      <td>158.938333</td>\n",
              "      <td>-1.408843</td>\n",
              "      <td>-0.701450</td>\n",
              "      <td>-1.701430</td>\n",
              "      <td>-1.716589</td>\n",
              "      <td>2</td>\n",
              "      <td>Low Temp &amp; CO₂</td>\n",
              "    </tr>\n",
              "    <tr>\n",
              "      <th>4</th>\n",
              "      <td>1962</td>\n",
              "      <td>-0.013476</td>\n",
              "      <td>159.355000</td>\n",
              "      <td>-1.381033</td>\n",
              "      <td>-1.054965</td>\n",
              "      <td>-1.646144</td>\n",
              "      <td>-1.661373</td>\n",
              "      <td>2</td>\n",
              "      <td>Low Temp &amp; CO₂</td>\n",
              "    </tr>\n",
              "    <tr>\n",
              "      <th>5</th>\n",
              "      <td>1963</td>\n",
              "      <td>-0.006043</td>\n",
              "      <td>159.580417</td>\n",
              "      <td>-1.365988</td>\n",
              "      <td>-1.040078</td>\n",
              "      <td>-1.590857</td>\n",
              "      <td>-1.606156</td>\n",
              "      <td>2</td>\n",
              "      <td>Low Temp &amp; CO₂</td>\n",
              "    </tr>\n",
              "    <tr>\n",
              "      <th>6</th>\n",
              "      <td>1964</td>\n",
              "      <td>-0.070059</td>\n",
              "      <td>159.905833</td>\n",
              "      <td>-1.344269</td>\n",
              "      <td>-1.168275</td>\n",
              "      <td>-1.535571</td>\n",
              "      <td>-1.550940</td>\n",
              "      <td>2</td>\n",
              "      <td>Low Temp &amp; CO₂</td>\n",
              "    </tr>\n",
              "    <tr>\n",
              "      <th>7</th>\n",
              "      <td>1965</td>\n",
              "      <td>-0.247027</td>\n",
              "      <td>160.083333</td>\n",
              "      <td>-1.332422</td>\n",
              "      <td>-1.522669</td>\n",
              "      <td>-1.480285</td>\n",
              "      <td>-1.495724</td>\n",
              "      <td>2</td>\n",
              "      <td>Low Temp &amp; CO₂</td>\n",
              "    </tr>\n",
              "    <tr>\n",
              "      <th>...</th>\n",
              "      <td>...</td>\n",
              "      <td>...</td>\n",
              "      <td>...</td>\n",
              "      <td>...</td>\n",
              "      <td>...</td>\n",
              "      <td>...</td>\n",
              "      <td>...</td>\n",
              "      <td>...</td>\n",
              "      <td>...</td>\n",
              "    </tr>\n",
              "    <tr>\n",
              "      <th>60</th>\n",
              "      <td>2018</td>\n",
              "      <td>1.302113</td>\n",
              "      <td>204.598750</td>\n",
              "      <td>1.638651</td>\n",
              "      <td>1.579611</td>\n",
              "      <td>1.449888</td>\n",
              "      <td>1.430734</td>\n",
              "      <td>1</td>\n",
              "      <td>High Temp &amp; CO₂</td>\n",
              "    </tr>\n",
              "    <tr>\n",
              "      <th>61</th>\n",
              "      <td>2019</td>\n",
              "      <td>1.443061</td>\n",
              "      <td>206.183333</td>\n",
              "      <td>1.744410</td>\n",
              "      <td>1.861872</td>\n",
              "      <td>1.505174</td>\n",
              "      <td>1.485950</td>\n",
              "      <td>1</td>\n",
              "      <td>High Temp &amp; CO₂</td>\n",
              "    </tr>\n",
              "    <tr>\n",
              "      <th>62</th>\n",
              "      <td>2020</td>\n",
              "      <td>1.552038</td>\n",
              "      <td>207.416667</td>\n",
              "      <td>1.826725</td>\n",
              "      <td>2.080107</td>\n",
              "      <td>1.560460</td>\n",
              "      <td>1.541166</td>\n",
              "      <td>1</td>\n",
              "      <td>High Temp &amp; CO₂</td>\n",
              "    </tr>\n",
              "    <tr>\n",
              "      <th>63</th>\n",
              "      <td>2021</td>\n",
              "      <td>1.343531</td>\n",
              "      <td>208.472083</td>\n",
              "      <td>1.897167</td>\n",
              "      <td>1.662554</td>\n",
              "      <td>1.615747</td>\n",
              "      <td>1.596383</td>\n",
              "      <td>1</td>\n",
              "      <td>High Temp &amp; CO₂</td>\n",
              "    </tr>\n",
              "    <tr>\n",
              "      <th>64</th>\n",
              "      <td>2022</td>\n",
              "      <td>1.382113</td>\n",
              "      <td>209.518333</td>\n",
              "      <td>1.966996</td>\n",
              "      <td>1.739818</td>\n",
              "      <td>1.671033</td>\n",
              "      <td>1.651599</td>\n",
              "      <td>1</td>\n",
              "      <td>High Temp &amp; CO₂</td>\n",
              "    </tr>\n",
              "  </tbody>\n",
              "</table>\n",
              "<p>62 rows × 9 columns</p>\n",
              "</div>"
            ],
            "text/plain": [
              "    year  temp_mean  carbon_mean  carbon_mean_scale  temp_mean_scale  \\\n",
              "3   1961   0.163053   158.938333          -1.408843        -0.701450   \n",
              "4   1962  -0.013476   159.355000          -1.381033        -1.054965   \n",
              "5   1963  -0.006043   159.580417          -1.365988        -1.040078   \n",
              "6   1964  -0.070059   159.905833          -1.344269        -1.168275   \n",
              "7   1965  -0.247027   160.083333          -1.332422        -1.522669   \n",
              "..   ...        ...          ...                ...              ...   \n",
              "60  2018   1.302113   204.598750           1.638651         1.579611   \n",
              "61  2019   1.443061   206.183333           1.744410         1.861872   \n",
              "62  2020   1.552038   207.416667           1.826725         2.080107   \n",
              "63  2021   1.343531   208.472083           1.897167         1.662554   \n",
              "64  2022   1.382113   209.518333           1.966996         1.739818   \n",
              "\n",
              "    carbon_trend_line  temp_trend_line  Cluster            Label  \n",
              "3           -1.701430        -1.716589        2   Low Temp & CO₂  \n",
              "4           -1.646144        -1.661373        2   Low Temp & CO₂  \n",
              "5           -1.590857        -1.606156        2   Low Temp & CO₂  \n",
              "6           -1.535571        -1.550940        2   Low Temp & CO₂  \n",
              "7           -1.480285        -1.495724        2   Low Temp & CO₂  \n",
              "..                ...              ...      ...              ...  \n",
              "60           1.449888         1.430734        1  High Temp & CO₂  \n",
              "61           1.505174         1.485950        1  High Temp & CO₂  \n",
              "62           1.560460         1.541166        1  High Temp & CO₂  \n",
              "63           1.615747         1.596383        1  High Temp & CO₂  \n",
              "64           1.671033         1.651599        1  High Temp & CO₂  \n",
              "\n",
              "[62 rows x 9 columns]"
            ]
          },
          "execution_count": 95,
          "metadata": {},
          "output_type": "execute_result"
        }
      ],
      "source": [
        "clustering_data"
      ]
    },
    {
      "cell_type": "markdown",
      "metadata": {
        "id": "pdmA5jl6CTbE"
      },
      "source": [
        "Clustering Climate Patterns\n",
        "**bold text**"
      ]
    },
    {
      "cell_type": "code",
      "execution_count": 96,
      "metadata": {
        "colab": {
          "base_uri": "https://localhost:8080/",
          "height": 542
        },
        "id": "A84QJtdzk-e7",
        "outputId": "4e3775a4-7274-4966-ad6c-2b89be5160df"
      },
      "outputs": [
        {
          "data": {
            "application/vnd.plotly.v1+json": {
              "config": {
                "plotlyServerURL": "https://plot.ly"
              },
              "data": [
                {
                  "hovertemplate": "Label=Low Temp & CO₂<br>carbon_mean=%{x}<br>temp_mean=%{y}<extra></extra>",
                  "legendgroup": "Low Temp & CO₂",
                  "marker": {
                    "color": "#636efa",
                    "symbol": "circle"
                  },
                  "mode": "markers",
                  "name": "Low Temp & CO₂",
                  "orientation": "v",
                  "showlegend": true,
                  "type": "scatter",
                  "x": [
                    158.93833333333333,
                    159.355,
                    159.58041666666668,
                    159.90583333333333,
                    160.08333333333334,
                    160.89208333333332,
                    161.21666666666667,
                    161.65958333333333,
                    162.555,
                    163.00375,
                    163.25666666666666,
                    163.90291666666667,
                    165.17791666666668,
                    165.17375,
                    165.70708333333332,
                    166.14875,
                    167.19666666666666,
                    167.9425,
                    168.62958333333333,
                    169.66708333333332,
                    170.26041666666666,
                    170.93916666666667,
                    171.8216666666667
                  ],
                  "xaxis": "x",
                  "y": [
                    0.1630531914893617,
                    -0.01347619047619048,
                    -0.006042553191489363,
                    -0.07005851063829789,
                    -0.24702659574468086,
                    0.10550520833333336,
                    -0.11083246073298428,
                    -0.19910994764397907,
                    0.15794210526315788,
                    0.09248677248677246,
                    -0.20051308900523562,
                    -0.08490625,
                    0.2293678756476684,
                    -0.16303125,
                    -0.023494680851063827,
                    -0.24591534391534392,
                    0.1658162162162162,
                    0.06962962962962962,
                    0.2337989417989418,
                    0.24728795811518325,
                    0.1786439790575916,
                    0.17649479166666668,
                    0.34459473684210523
                  ],
                  "yaxis": "y"
                },
                {
                  "hovertemplate": "Label=Moderate Temp & CO₂<br>carbon_mean=%{x}<br>temp_mean=%{y}<extra></extra>",
                  "legendgroup": "Moderate Temp & CO₂",
                  "marker": {
                    "color": "#EF553B",
                    "symbol": "circle"
                  },
                  "mode": "markers",
                  "name": "Moderate Temp & CO₂",
                  "orientation": "v",
                  "showlegend": true,
                  "type": "scatter",
                  "x": [
                    172.6833333333333,
                    173.39125,
                    173.98625,
                    174.90125,
                    176.18541666666667,
                    176.8175,
                    177.40333333333334,
                    178.02833333333334,
                    178.39166666666665,
                    178.70125,
                    179.72375,
                    180.76458333333335,
                    181.61791666666667,
                    182.095,
                    183.8275,
                    184.50166666666667,
                    185.01250000000002,
                    185.87708333333333,
                    187.01375,
                    188.33166666666668,
                    189.07625
                  ],
                  "xaxis": "x",
                  "y": [
                    0.08011702127659574,
                    0.07128723404255319,
                    0.1511578947368421,
                    0.405021052631579,
                    0.4900894736842106,
                    0.25616842105263155,
                    0.5552592592592592,
                    0.3681648936170213,
                    0.2364903846153846,
                    0.2159856459330144,
                    0.609514423076923,
                    0.6292380952380952,
                    0.27922857142857144,
                    0.5439951690821256,
                    0.971252380952381,
                    0.7433014354066987,
                    0.6697894736842105,
                    0.8501538461538461,
                    0.9249999999999998,
                    0.8442289719626169,
                    0.7778403755868545
                  ],
                  "yaxis": "y"
                },
                {
                  "hovertemplate": "Label=High Temp & CO₂<br>carbon_mean=%{x}<br>temp_mean=%{y}<extra></extra>",
                  "legendgroup": "High Temp & CO₂",
                  "marker": {
                    "color": "#00cc96",
                    "symbol": "circle"
                  },
                  "mode": "markers",
                  "name": "High Temp & CO₂",
                  "orientation": "v",
                  "showlegend": true,
                  "type": "scatter",
                  "x": [
                    190.29458333333332,
                    191.32291666666666,
                    192.26541666666665,
                    193.15166666666667,
                    194.05499999999998,
                    195.36833333333334,
                    196.15,
                    197.30958333333334,
                    198.70875,
                    199.66750000000002,
                    200.78208333333336,
                    202.63083333333336,
                    203.66916666666668,
                    204.59875,
                    206.1833333333333,
                    207.41666666666666,
                    208.47208333333333,
                    209.51833333333335
                  ],
                  "xaxis": "x",
                  "y": [
                    0.8529905660377357,
                    0.8765767441860465,
                    1.0225483870967744,
                    0.8084103773584905,
                    0.9105660377358491,
                    1.0990418604651164,
                    0.8213917050691244,
                    0.9022232558139536,
                    0.931199074074074,
                    1.114814814814815,
                    1.269773148148148,
                    1.4395211267605634,
                    1.2807850467289719,
                    1.3021126760563382,
                    1.4430610328638498,
                    1.5520377358490567,
                    1.343530516431925,
                    1.382112676056338
                  ],
                  "yaxis": "y"
                }
              ],
              "layout": {
                "legend": {
                  "title": {
                    "text": "Climate Pattern"
                  },
                  "tracegroupgap": 0,
                  "x": 0.85,
                  "y": 1.3
                },
                "margin": {
                  "t": 60
                },
                "template": {
                  "data": {
                    "bar": [
                      {
                        "error_x": {
                          "color": "#2a3f5f"
                        },
                        "error_y": {
                          "color": "#2a3f5f"
                        },
                        "marker": {
                          "line": {
                            "color": "#E5ECF6",
                            "width": 0.5
                          },
                          "pattern": {
                            "fillmode": "overlay",
                            "size": 10,
                            "solidity": 0.2
                          }
                        },
                        "type": "bar"
                      }
                    ],
                    "barpolar": [
                      {
                        "marker": {
                          "line": {
                            "color": "#E5ECF6",
                            "width": 0.5
                          },
                          "pattern": {
                            "fillmode": "overlay",
                            "size": 10,
                            "solidity": 0.2
                          }
                        },
                        "type": "barpolar"
                      }
                    ],
                    "carpet": [
                      {
                        "aaxis": {
                          "endlinecolor": "#2a3f5f",
                          "gridcolor": "white",
                          "linecolor": "white",
                          "minorgridcolor": "white",
                          "startlinecolor": "#2a3f5f"
                        },
                        "baxis": {
                          "endlinecolor": "#2a3f5f",
                          "gridcolor": "white",
                          "linecolor": "white",
                          "minorgridcolor": "white",
                          "startlinecolor": "#2a3f5f"
                        },
                        "type": "carpet"
                      }
                    ],
                    "choropleth": [
                      {
                        "colorbar": {
                          "outlinewidth": 0,
                          "ticks": ""
                        },
                        "type": "choropleth"
                      }
                    ],
                    "contour": [
                      {
                        "colorbar": {
                          "outlinewidth": 0,
                          "ticks": ""
                        },
                        "colorscale": [
                          [
                            0,
                            "#0d0887"
                          ],
                          [
                            0.1111111111111111,
                            "#46039f"
                          ],
                          [
                            0.2222222222222222,
                            "#7201a8"
                          ],
                          [
                            0.3333333333333333,
                            "#9c179e"
                          ],
                          [
                            0.4444444444444444,
                            "#bd3786"
                          ],
                          [
                            0.5555555555555556,
                            "#d8576b"
                          ],
                          [
                            0.6666666666666666,
                            "#ed7953"
                          ],
                          [
                            0.7777777777777778,
                            "#fb9f3a"
                          ],
                          [
                            0.8888888888888888,
                            "#fdca26"
                          ],
                          [
                            1,
                            "#f0f921"
                          ]
                        ],
                        "type": "contour"
                      }
                    ],
                    "contourcarpet": [
                      {
                        "colorbar": {
                          "outlinewidth": 0,
                          "ticks": ""
                        },
                        "type": "contourcarpet"
                      }
                    ],
                    "heatmap": [
                      {
                        "colorbar": {
                          "outlinewidth": 0,
                          "ticks": ""
                        },
                        "colorscale": [
                          [
                            0,
                            "#0d0887"
                          ],
                          [
                            0.1111111111111111,
                            "#46039f"
                          ],
                          [
                            0.2222222222222222,
                            "#7201a8"
                          ],
                          [
                            0.3333333333333333,
                            "#9c179e"
                          ],
                          [
                            0.4444444444444444,
                            "#bd3786"
                          ],
                          [
                            0.5555555555555556,
                            "#d8576b"
                          ],
                          [
                            0.6666666666666666,
                            "#ed7953"
                          ],
                          [
                            0.7777777777777778,
                            "#fb9f3a"
                          ],
                          [
                            0.8888888888888888,
                            "#fdca26"
                          ],
                          [
                            1,
                            "#f0f921"
                          ]
                        ],
                        "type": "heatmap"
                      }
                    ],
                    "heatmapgl": [
                      {
                        "colorbar": {
                          "outlinewidth": 0,
                          "ticks": ""
                        },
                        "colorscale": [
                          [
                            0,
                            "#0d0887"
                          ],
                          [
                            0.1111111111111111,
                            "#46039f"
                          ],
                          [
                            0.2222222222222222,
                            "#7201a8"
                          ],
                          [
                            0.3333333333333333,
                            "#9c179e"
                          ],
                          [
                            0.4444444444444444,
                            "#bd3786"
                          ],
                          [
                            0.5555555555555556,
                            "#d8576b"
                          ],
                          [
                            0.6666666666666666,
                            "#ed7953"
                          ],
                          [
                            0.7777777777777778,
                            "#fb9f3a"
                          ],
                          [
                            0.8888888888888888,
                            "#fdca26"
                          ],
                          [
                            1,
                            "#f0f921"
                          ]
                        ],
                        "type": "heatmapgl"
                      }
                    ],
                    "histogram": [
                      {
                        "marker": {
                          "pattern": {
                            "fillmode": "overlay",
                            "size": 10,
                            "solidity": 0.2
                          }
                        },
                        "type": "histogram"
                      }
                    ],
                    "histogram2d": [
                      {
                        "colorbar": {
                          "outlinewidth": 0,
                          "ticks": ""
                        },
                        "colorscale": [
                          [
                            0,
                            "#0d0887"
                          ],
                          [
                            0.1111111111111111,
                            "#46039f"
                          ],
                          [
                            0.2222222222222222,
                            "#7201a8"
                          ],
                          [
                            0.3333333333333333,
                            "#9c179e"
                          ],
                          [
                            0.4444444444444444,
                            "#bd3786"
                          ],
                          [
                            0.5555555555555556,
                            "#d8576b"
                          ],
                          [
                            0.6666666666666666,
                            "#ed7953"
                          ],
                          [
                            0.7777777777777778,
                            "#fb9f3a"
                          ],
                          [
                            0.8888888888888888,
                            "#fdca26"
                          ],
                          [
                            1,
                            "#f0f921"
                          ]
                        ],
                        "type": "histogram2d"
                      }
                    ],
                    "histogram2dcontour": [
                      {
                        "colorbar": {
                          "outlinewidth": 0,
                          "ticks": ""
                        },
                        "colorscale": [
                          [
                            0,
                            "#0d0887"
                          ],
                          [
                            0.1111111111111111,
                            "#46039f"
                          ],
                          [
                            0.2222222222222222,
                            "#7201a8"
                          ],
                          [
                            0.3333333333333333,
                            "#9c179e"
                          ],
                          [
                            0.4444444444444444,
                            "#bd3786"
                          ],
                          [
                            0.5555555555555556,
                            "#d8576b"
                          ],
                          [
                            0.6666666666666666,
                            "#ed7953"
                          ],
                          [
                            0.7777777777777778,
                            "#fb9f3a"
                          ],
                          [
                            0.8888888888888888,
                            "#fdca26"
                          ],
                          [
                            1,
                            "#f0f921"
                          ]
                        ],
                        "type": "histogram2dcontour"
                      }
                    ],
                    "mesh3d": [
                      {
                        "colorbar": {
                          "outlinewidth": 0,
                          "ticks": ""
                        },
                        "type": "mesh3d"
                      }
                    ],
                    "parcoords": [
                      {
                        "line": {
                          "colorbar": {
                            "outlinewidth": 0,
                            "ticks": ""
                          }
                        },
                        "type": "parcoords"
                      }
                    ],
                    "pie": [
                      {
                        "automargin": true,
                        "type": "pie"
                      }
                    ],
                    "scatter": [
                      {
                        "fillpattern": {
                          "fillmode": "overlay",
                          "size": 10,
                          "solidity": 0.2
                        },
                        "type": "scatter"
                      }
                    ],
                    "scatter3d": [
                      {
                        "line": {
                          "colorbar": {
                            "outlinewidth": 0,
                            "ticks": ""
                          }
                        },
                        "marker": {
                          "colorbar": {
                            "outlinewidth": 0,
                            "ticks": ""
                          }
                        },
                        "type": "scatter3d"
                      }
                    ],
                    "scattercarpet": [
                      {
                        "marker": {
                          "colorbar": {
                            "outlinewidth": 0,
                            "ticks": ""
                          }
                        },
                        "type": "scattercarpet"
                      }
                    ],
                    "scattergeo": [
                      {
                        "marker": {
                          "colorbar": {
                            "outlinewidth": 0,
                            "ticks": ""
                          }
                        },
                        "type": "scattergeo"
                      }
                    ],
                    "scattergl": [
                      {
                        "marker": {
                          "colorbar": {
                            "outlinewidth": 0,
                            "ticks": ""
                          }
                        },
                        "type": "scattergl"
                      }
                    ],
                    "scattermapbox": [
                      {
                        "marker": {
                          "colorbar": {
                            "outlinewidth": 0,
                            "ticks": ""
                          }
                        },
                        "type": "scattermapbox"
                      }
                    ],
                    "scatterpolar": [
                      {
                        "marker": {
                          "colorbar": {
                            "outlinewidth": 0,
                            "ticks": ""
                          }
                        },
                        "type": "scatterpolar"
                      }
                    ],
                    "scatterpolargl": [
                      {
                        "marker": {
                          "colorbar": {
                            "outlinewidth": 0,
                            "ticks": ""
                          }
                        },
                        "type": "scatterpolargl"
                      }
                    ],
                    "scatterternary": [
                      {
                        "marker": {
                          "colorbar": {
                            "outlinewidth": 0,
                            "ticks": ""
                          }
                        },
                        "type": "scatterternary"
                      }
                    ],
                    "surface": [
                      {
                        "colorbar": {
                          "outlinewidth": 0,
                          "ticks": ""
                        },
                        "colorscale": [
                          [
                            0,
                            "#0d0887"
                          ],
                          [
                            0.1111111111111111,
                            "#46039f"
                          ],
                          [
                            0.2222222222222222,
                            "#7201a8"
                          ],
                          [
                            0.3333333333333333,
                            "#9c179e"
                          ],
                          [
                            0.4444444444444444,
                            "#bd3786"
                          ],
                          [
                            0.5555555555555556,
                            "#d8576b"
                          ],
                          [
                            0.6666666666666666,
                            "#ed7953"
                          ],
                          [
                            0.7777777777777778,
                            "#fb9f3a"
                          ],
                          [
                            0.8888888888888888,
                            "#fdca26"
                          ],
                          [
                            1,
                            "#f0f921"
                          ]
                        ],
                        "type": "surface"
                      }
                    ],
                    "table": [
                      {
                        "cells": {
                          "fill": {
                            "color": "#EBF0F8"
                          },
                          "line": {
                            "color": "white"
                          }
                        },
                        "header": {
                          "fill": {
                            "color": "#C8D4E3"
                          },
                          "line": {
                            "color": "white"
                          }
                        },
                        "type": "table"
                      }
                    ]
                  },
                  "layout": {
                    "annotationdefaults": {
                      "arrowcolor": "#2a3f5f",
                      "arrowhead": 0,
                      "arrowwidth": 1
                    },
                    "autotypenumbers": "strict",
                    "coloraxis": {
                      "colorbar": {
                        "outlinewidth": 0,
                        "ticks": ""
                      }
                    },
                    "colorscale": {
                      "diverging": [
                        [
                          0,
                          "#8e0152"
                        ],
                        [
                          0.1,
                          "#c51b7d"
                        ],
                        [
                          0.2,
                          "#de77ae"
                        ],
                        [
                          0.3,
                          "#f1b6da"
                        ],
                        [
                          0.4,
                          "#fde0ef"
                        ],
                        [
                          0.5,
                          "#f7f7f7"
                        ],
                        [
                          0.6,
                          "#e6f5d0"
                        ],
                        [
                          0.7,
                          "#b8e186"
                        ],
                        [
                          0.8,
                          "#7fbc41"
                        ],
                        [
                          0.9,
                          "#4d9221"
                        ],
                        [
                          1,
                          "#276419"
                        ]
                      ],
                      "sequential": [
                        [
                          0,
                          "#0d0887"
                        ],
                        [
                          0.1111111111111111,
                          "#46039f"
                        ],
                        [
                          0.2222222222222222,
                          "#7201a8"
                        ],
                        [
                          0.3333333333333333,
                          "#9c179e"
                        ],
                        [
                          0.4444444444444444,
                          "#bd3786"
                        ],
                        [
                          0.5555555555555556,
                          "#d8576b"
                        ],
                        [
                          0.6666666666666666,
                          "#ed7953"
                        ],
                        [
                          0.7777777777777778,
                          "#fb9f3a"
                        ],
                        [
                          0.8888888888888888,
                          "#fdca26"
                        ],
                        [
                          1,
                          "#f0f921"
                        ]
                      ],
                      "sequentialminus": [
                        [
                          0,
                          "#0d0887"
                        ],
                        [
                          0.1111111111111111,
                          "#46039f"
                        ],
                        [
                          0.2222222222222222,
                          "#7201a8"
                        ],
                        [
                          0.3333333333333333,
                          "#9c179e"
                        ],
                        [
                          0.4444444444444444,
                          "#bd3786"
                        ],
                        [
                          0.5555555555555556,
                          "#d8576b"
                        ],
                        [
                          0.6666666666666666,
                          "#ed7953"
                        ],
                        [
                          0.7777777777777778,
                          "#fb9f3a"
                        ],
                        [
                          0.8888888888888888,
                          "#fdca26"
                        ],
                        [
                          1,
                          "#f0f921"
                        ]
                      ]
                    },
                    "colorway": [
                      "#636efa",
                      "#EF553B",
                      "#00cc96",
                      "#ab63fa",
                      "#FFA15A",
                      "#19d3f3",
                      "#FF6692",
                      "#B6E880",
                      "#FF97FF",
                      "#FECB52"
                    ],
                    "font": {
                      "color": "#2a3f5f"
                    },
                    "geo": {
                      "bgcolor": "white",
                      "lakecolor": "white",
                      "landcolor": "#E5ECF6",
                      "showlakes": true,
                      "showland": true,
                      "subunitcolor": "white"
                    },
                    "hoverlabel": {
                      "align": "left"
                    },
                    "hovermode": "closest",
                    "mapbox": {
                      "style": "light"
                    },
                    "paper_bgcolor": "white",
                    "plot_bgcolor": "#E5ECF6",
                    "polar": {
                      "angularaxis": {
                        "gridcolor": "white",
                        "linecolor": "white",
                        "ticks": ""
                      },
                      "bgcolor": "#E5ECF6",
                      "radialaxis": {
                        "gridcolor": "white",
                        "linecolor": "white",
                        "ticks": ""
                      }
                    },
                    "scene": {
                      "xaxis": {
                        "backgroundcolor": "#E5ECF6",
                        "gridcolor": "white",
                        "gridwidth": 2,
                        "linecolor": "white",
                        "showbackground": true,
                        "ticks": "",
                        "zerolinecolor": "white"
                      },
                      "yaxis": {
                        "backgroundcolor": "#E5ECF6",
                        "gridcolor": "white",
                        "gridwidth": 2,
                        "linecolor": "white",
                        "showbackground": true,
                        "ticks": "",
                        "zerolinecolor": "white"
                      },
                      "zaxis": {
                        "backgroundcolor": "#E5ECF6",
                        "gridcolor": "white",
                        "gridwidth": 2,
                        "linecolor": "white",
                        "showbackground": true,
                        "ticks": "",
                        "zerolinecolor": "white"
                      }
                    },
                    "shapedefaults": {
                      "line": {
                        "color": "#2a3f5f"
                      }
                    },
                    "ternary": {
                      "aaxis": {
                        "gridcolor": "white",
                        "linecolor": "white",
                        "ticks": ""
                      },
                      "baxis": {
                        "gridcolor": "white",
                        "linecolor": "white",
                        "ticks": ""
                      },
                      "bgcolor": "#E5ECF6",
                      "caxis": {
                        "gridcolor": "white",
                        "linecolor": "white",
                        "ticks": ""
                      }
                    },
                    "title": {
                      "x": 0.05
                    },
                    "xaxis": {
                      "automargin": true,
                      "gridcolor": "white",
                      "linecolor": "white",
                      "ticks": "",
                      "title": {
                        "standoff": 15
                      },
                      "zerolinecolor": "white",
                      "zerolinewidth": 2
                    },
                    "yaxis": {
                      "automargin": true,
                      "gridcolor": "white",
                      "linecolor": "white",
                      "ticks": "",
                      "title": {
                        "standoff": 15
                      },
                      "zerolinecolor": "white",
                      "zerolinewidth": 2
                    }
                  }
                },
                "title": {
                  "text": "Clustering of Years Based on Climate Patterns"
                },
                "xaxis": {
                  "anchor": "y",
                  "domain": [
                    0,
                    1
                  ],
                  "title": {
                    "text": "CO₂ Concentration"
                  }
                },
                "yaxis": {
                  "anchor": "x",
                  "domain": [
                    0,
                    1
                  ],
                  "title": {
                    "text": "Temperature Change"
                  }
                }
              }
            }
          },
          "metadata": {},
          "output_type": "display_data"
        }
      ],
      "source": [
        "fig=px.scatter(data_frame=clustering_data,x='carbon_mean',y='temp_mean',color='Label')\n",
        "fig.update_layout(title='Clustering of Years Based on Climate Patterns',xaxis=dict(title='CO₂ Concentration'),yaxis=dict(title='Temperature Change'),legend=dict(title='Climate Pattern',x=0.85,y=1.3))\n",
        "fig.show()"
      ]
    },
    {
      "cell_type": "markdown",
      "metadata": {
        "id": "MSkGgzCi0XYb"
      },
      "source": [
        "**The progression from green to orange and then to blue clusters reflects a clear trend of increasing temperature change corresponding to rising CO₂ levels, effectively illustrating the correlation between greenhouse gas concentrations and global temperature variations.**"
      ]
    }
  ],
  "metadata": {
    "colab": {
      "provenance": []
    },
    "kernelspec": {
      "display_name": "Python 3",
      "name": "python3"
    },
    "language_info": {
      "codemirror_mode": {
        "name": "ipython",
        "version": 3
      },
      "file_extension": ".py",
      "mimetype": "text/x-python",
      "name": "python",
      "nbconvert_exporter": "python",
      "pygments_lexer": "ipython3",
      "version": "3.13.1"
    }
  },
  "nbformat": 4,
  "nbformat_minor": 0
}
